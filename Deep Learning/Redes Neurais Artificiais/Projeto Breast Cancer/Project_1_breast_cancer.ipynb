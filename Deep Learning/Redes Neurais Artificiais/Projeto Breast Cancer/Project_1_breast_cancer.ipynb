{
 "cells": [
  {
   "cell_type": "markdown",
   "metadata": {
    "id": "pCMN-yQiJr9q"
   },
   "source": [
    "# Breast Cancer Wisconsin (Diagnostic) Data Set\n",
    "\n",
    "Features are computed from a digitized image of a fine needle aspirate (FNA) of a breast mass. They describe characteristics of the cell nuclei present in the image. A few of the images can be found at [Web Link]\n",
    "\n",
    "Separating plane described above was obtained using Multisurface Method-Tree (MSM-T) [K. P. Bennett, \"Decision Tree Construction Via Linear Programming.\" Proceedings of the 4th Midwest Artificial Intelligence and Cognitive Science Society, pp. 97-101, 1992], a classification method which uses linear programming to construct a decision tree. Relevant features were selected using an exhaustive search in the space of 1-4 features and 1-3 separating planes.\n",
    "\n",
    "The actual linear program used to obtain the separating plane in the 3-dimensional space is that described in: [K. P. Bennett and O. L. Mangasarian: \"Robust Linear Programming Discrimination of Two Linearly Inseparable Sets\", Optimization Methods and Software 1, 1992, 23-34].\n",
    "\n",
    "This database is also available through the UW CS ftp server:\n",
    "ftp ftp.cs.wisc.edu\n",
    "cd math-prog/cpo-dataset/machine-learn/WDBC/\n",
    "\n",
    "\n",
    "Fonte: https://archive.ics.uci.edu/ml/datasets/breast+cancer+wisconsin+(diagnostic)"
   ]
  },
  {
   "cell_type": "markdown",
   "metadata": {
    "id": "HhdDtmhIRJZ8"
   },
   "source": [
    "Problema de classificação binário e com o dataframe já pronto!"
   ]
  },
  {
   "cell_type": "markdown",
   "metadata": {
    "id": "JHxiRiBMPvJU"
   },
   "source": [
    "##Iniciando bibliotecas"
   ]
  },
  {
   "cell_type": "code",
   "execution_count": 1,
   "metadata": {
    "id": "IDkvOrYDiTMg"
   },
   "outputs": [],
   "source": [
    "import pandas as pd\n",
    "import numpy as np\n",
    "from sklearn.model_selection import train_test_split\n",
    "from tensorflow import keras\n",
    "from keras.wrappers.scikit_learn import KerasClassifier\n",
    "from sklearn.model_selection import cross_val_score\n",
    "#import keras\n",
    "from keras.models import Sequential\n",
    "from keras.layers import Dense, Dropout\n",
    "from sklearn.model_selection import GridSearchCV\n",
    "import time\n",
    "#Dense:rede neural fully conected, todos os neurôneos conectados"
   ]
  },
  {
   "cell_type": "markdown",
   "metadata": {
    "id": "SdF_28ojPyok"
   },
   "source": [
    "## Carregando base de dados"
   ]
  },
  {
   "cell_type": "code",
   "execution_count": 2,
   "metadata": {
    "id": "R_OdO5qgjSsu"
   },
   "outputs": [],
   "source": [
    "previsores = pd.read_csv('entradas_breast.csv')\n",
    "classe = pd.read_csv('saidas_breast.csv')"
   ]
  },
  {
   "cell_type": "code",
   "execution_count": 3,
   "metadata": {},
   "outputs": [
    {
     "data": {
      "text/html": [
       "<div>\n",
       "<style scoped>\n",
       "    .dataframe tbody tr th:only-of-type {\n",
       "        vertical-align: middle;\n",
       "    }\n",
       "\n",
       "    .dataframe tbody tr th {\n",
       "        vertical-align: top;\n",
       "    }\n",
       "\n",
       "    .dataframe thead th {\n",
       "        text-align: right;\n",
       "    }\n",
       "</style>\n",
       "<table border=\"1\" class=\"dataframe\">\n",
       "  <thead>\n",
       "    <tr style=\"text-align: right;\">\n",
       "      <th></th>\n",
       "      <th>radius_mean</th>\n",
       "      <th>texture_mean</th>\n",
       "      <th>perimeter_mean</th>\n",
       "      <th>area_mean</th>\n",
       "      <th>smoothness_mean</th>\n",
       "      <th>compactness_mean</th>\n",
       "      <th>concavity_mean</th>\n",
       "      <th>concave_points_mean</th>\n",
       "      <th>symmetry_mean</th>\n",
       "      <th>fractal_dimension_mean</th>\n",
       "      <th>...</th>\n",
       "      <th>radius_worst</th>\n",
       "      <th>texture_worst</th>\n",
       "      <th>perimeter_worst</th>\n",
       "      <th>area_worst</th>\n",
       "      <th>smoothness_worst</th>\n",
       "      <th>compactness_worst</th>\n",
       "      <th>concavity_worst</th>\n",
       "      <th>concave_points_worst</th>\n",
       "      <th>symmetry_worst</th>\n",
       "      <th>fractal_dimension_worst</th>\n",
       "    </tr>\n",
       "  </thead>\n",
       "  <tbody>\n",
       "    <tr>\n",
       "      <th>0</th>\n",
       "      <td>17.99</td>\n",
       "      <td>10.38</td>\n",
       "      <td>122.80</td>\n",
       "      <td>1001.0</td>\n",
       "      <td>0.11840</td>\n",
       "      <td>0.27760</td>\n",
       "      <td>0.3001</td>\n",
       "      <td>0.14710</td>\n",
       "      <td>0.2419</td>\n",
       "      <td>0.07871</td>\n",
       "      <td>...</td>\n",
       "      <td>25.38</td>\n",
       "      <td>17.33</td>\n",
       "      <td>184.60</td>\n",
       "      <td>2019.0</td>\n",
       "      <td>0.1622</td>\n",
       "      <td>0.6656</td>\n",
       "      <td>0.7119</td>\n",
       "      <td>0.2654</td>\n",
       "      <td>0.4601</td>\n",
       "      <td>0.11890</td>\n",
       "    </tr>\n",
       "    <tr>\n",
       "      <th>1</th>\n",
       "      <td>20.57</td>\n",
       "      <td>17.77</td>\n",
       "      <td>132.90</td>\n",
       "      <td>1326.0</td>\n",
       "      <td>0.08474</td>\n",
       "      <td>0.07864</td>\n",
       "      <td>0.0869</td>\n",
       "      <td>0.07017</td>\n",
       "      <td>0.1812</td>\n",
       "      <td>0.05667</td>\n",
       "      <td>...</td>\n",
       "      <td>24.99</td>\n",
       "      <td>23.41</td>\n",
       "      <td>158.80</td>\n",
       "      <td>1956.0</td>\n",
       "      <td>0.1238</td>\n",
       "      <td>0.1866</td>\n",
       "      <td>0.2416</td>\n",
       "      <td>186.0000</td>\n",
       "      <td>275.0000</td>\n",
       "      <td>0.08902</td>\n",
       "    </tr>\n",
       "    <tr>\n",
       "      <th>2</th>\n",
       "      <td>19.69</td>\n",
       "      <td>21.25</td>\n",
       "      <td>130.00</td>\n",
       "      <td>1203.0</td>\n",
       "      <td>0.10960</td>\n",
       "      <td>0.15990</td>\n",
       "      <td>0.1974</td>\n",
       "      <td>0.12790</td>\n",
       "      <td>0.2069</td>\n",
       "      <td>0.05999</td>\n",
       "      <td>...</td>\n",
       "      <td>23.57</td>\n",
       "      <td>25.53</td>\n",
       "      <td>152.50</td>\n",
       "      <td>1709.0</td>\n",
       "      <td>0.1444</td>\n",
       "      <td>0.4245</td>\n",
       "      <td>0.4504</td>\n",
       "      <td>243.0000</td>\n",
       "      <td>0.3613</td>\n",
       "      <td>0.08758</td>\n",
       "    </tr>\n",
       "    <tr>\n",
       "      <th>3</th>\n",
       "      <td>11.42</td>\n",
       "      <td>20.38</td>\n",
       "      <td>77.58</td>\n",
       "      <td>386.1</td>\n",
       "      <td>0.14250</td>\n",
       "      <td>0.28390</td>\n",
       "      <td>0.2414</td>\n",
       "      <td>0.10520</td>\n",
       "      <td>0.2597</td>\n",
       "      <td>0.09744</td>\n",
       "      <td>...</td>\n",
       "      <td>14.91</td>\n",
       "      <td>26.50</td>\n",
       "      <td>98.87</td>\n",
       "      <td>567.7</td>\n",
       "      <td>0.2098</td>\n",
       "      <td>0.8663</td>\n",
       "      <td>0.6869</td>\n",
       "      <td>0.2575</td>\n",
       "      <td>0.6638</td>\n",
       "      <td>173.00000</td>\n",
       "    </tr>\n",
       "    <tr>\n",
       "      <th>4</th>\n",
       "      <td>20.29</td>\n",
       "      <td>14.34</td>\n",
       "      <td>135.10</td>\n",
       "      <td>1297.0</td>\n",
       "      <td>0.10030</td>\n",
       "      <td>0.13280</td>\n",
       "      <td>198.0000</td>\n",
       "      <td>0.10430</td>\n",
       "      <td>0.1809</td>\n",
       "      <td>0.05883</td>\n",
       "      <td>...</td>\n",
       "      <td>22.54</td>\n",
       "      <td>16.67</td>\n",
       "      <td>152.20</td>\n",
       "      <td>1575.0</td>\n",
       "      <td>0.1374</td>\n",
       "      <td>205.0000</td>\n",
       "      <td>0.4000</td>\n",
       "      <td>0.1625</td>\n",
       "      <td>0.2364</td>\n",
       "      <td>0.07678</td>\n",
       "    </tr>\n",
       "  </tbody>\n",
       "</table>\n",
       "<p>5 rows × 30 columns</p>\n",
       "</div>"
      ],
      "text/plain": [
       "    radius_mean   texture_mean   perimeter_mean   area_mean   smoothness_mean  \\\n",
       "0         17.99          10.38           122.80      1001.0           0.11840   \n",
       "1         20.57          17.77           132.90      1326.0           0.08474   \n",
       "2         19.69          21.25           130.00      1203.0           0.10960   \n",
       "3         11.42          20.38            77.58       386.1           0.14250   \n",
       "4         20.29          14.34           135.10      1297.0           0.10030   \n",
       "\n",
       "    compactness_mean   concavity_mean  concave_points_mean   symmetry_mean  \\\n",
       "0            0.27760           0.3001              0.14710          0.2419   \n",
       "1            0.07864           0.0869              0.07017          0.1812   \n",
       "2            0.15990           0.1974              0.12790          0.2069   \n",
       "3            0.28390           0.2414              0.10520          0.2597   \n",
       "4            0.13280         198.0000              0.10430          0.1809   \n",
       "\n",
       "    fractal_dimension_mean  ...   radius_worst   texture_worst  \\\n",
       "0                  0.07871  ...          25.38           17.33   \n",
       "1                  0.05667  ...          24.99           23.41   \n",
       "2                  0.05999  ...          23.57           25.53   \n",
       "3                  0.09744  ...          14.91           26.50   \n",
       "4                  0.05883  ...          22.54           16.67   \n",
       "\n",
       "    perimeter_worst   area_worst   smoothness_worst   compactness_worst  \\\n",
       "0            184.60       2019.0             0.1622              0.6656   \n",
       "1            158.80       1956.0             0.1238              0.1866   \n",
       "2            152.50       1709.0             0.1444              0.4245   \n",
       "3             98.87        567.7             0.2098              0.8663   \n",
       "4            152.20       1575.0             0.1374            205.0000   \n",
       "\n",
       "    concavity_worst   concave_points_worst   symmetry_worst  \\\n",
       "0            0.7119                 0.2654           0.4601   \n",
       "1            0.2416               186.0000         275.0000   \n",
       "2            0.4504               243.0000           0.3613   \n",
       "3            0.6869                 0.2575           0.6638   \n",
       "4            0.4000                 0.1625           0.2364   \n",
       "\n",
       "    fractal_dimension_worst  \n",
       "0                   0.11890  \n",
       "1                   0.08902  \n",
       "2                   0.08758  \n",
       "3                 173.00000  \n",
       "4                   0.07678  \n",
       "\n",
       "[5 rows x 30 columns]"
      ]
     },
     "execution_count": 3,
     "metadata": {},
     "output_type": "execute_result"
    }
   ],
   "source": [
    "previsores.head()"
   ]
  },
  {
   "cell_type": "code",
   "execution_count": 4,
   "metadata": {
    "id": "ZPSXdLGXjqQ-"
   },
   "outputs": [],
   "source": [
    "previsores_treinamento, previsores_teste, classe_treinamento,classe_teste = train_test_split(previsores,classe,test_size=0.25)"
   ]
  },
  {
   "cell_type": "code",
   "execution_count": 5,
   "metadata": {
    "colab": {
     "base_uri": "https://localhost:8080/"
    },
    "id": "k7F7dyv9kJE_",
    "outputId": "03dca7db-64d0-4be4-9b8e-550e51c10748"
   },
   "outputs": [
    {
     "data": {
      "text/plain": [
       "((426, 30), (143, 30))"
      ]
     },
     "execution_count": 5,
     "metadata": {},
     "output_type": "execute_result"
    }
   ],
   "source": [
    "previsores_treinamento.shape, previsores_teste.shape"
   ]
  },
  {
   "cell_type": "code",
   "execution_count": 6,
   "metadata": {},
   "outputs": [],
   "source": [
    "from sklearn.preprocessing import StandardScaler\n",
    "scaler = StandardScaler()"
   ]
  },
  {
   "cell_type": "code",
   "execution_count": 7,
   "metadata": {},
   "outputs": [],
   "source": [
    "previsores = scaler.fit_transform(previsores)"
   ]
  },
  {
   "cell_type": "code",
   "execution_count": 8,
   "metadata": {},
   "outputs": [
    {
     "data": {
      "text/plain": [
       "array([[-0.28367013, -2.07333501,  1.26993369, ..., -0.21506493,\n",
       "        -0.32985162, -0.12769577],\n",
       "       [-0.28260757, -0.35363241,  1.68595471, ...,  4.49527168,\n",
       "         2.6981086 , -0.12976335],\n",
       "       [-0.28296999,  0.45618695,  1.56650313, ...,  5.94082456,\n",
       "        -0.33094131, -0.129863  ],\n",
       "       ...,\n",
       "       [-0.28424259,  2.0455738 ,  0.67267578, ..., -0.21819949,\n",
       "        -0.33247988, -0.13051206],\n",
       "       [-0.28259521,  2.33645719,  1.98252415, ...,  6.49875725,\n",
       "        -0.33041852,  8.44441856],\n",
       "       [-0.28788329,  1.22179204, -1.81438851, ..., -0.22179562,\n",
       "        -0.33175967, -0.13105248]])"
      ]
     },
     "execution_count": 8,
     "metadata": {},
     "output_type": "execute_result"
    }
   ],
   "source": [
    "previsores"
   ]
  },
  {
   "cell_type": "markdown",
   "metadata": {
    "id": "dHxiYu9rP2AX"
   },
   "source": [
    "## Primeiro teste da rede neural"
   ]
  },
  {
   "cell_type": "code",
   "execution_count": null,
   "metadata": {
    "id": "4yxFVFkbkh93"
   },
   "outputs": [],
   "source": [
    "classificador = Sequential()\n",
    "\n",
    "#camada oculta\n",
    "classificador.add(Dense(units = 16, activation ='relu',\n",
    "                        kernel_initializer='random_uniform', input_dim = 30)) #camada oculta\n",
    "\n",
    "#primeiro teste para a quantidade de neurônios \n",
    "#(numero de parâmetros + numero de neuronios na camada de saida)/2\n",
    "#neste caso é: (30 + 1)/2 = 15.5\n",
    "\n",
    "#20% dos neurônios terão o seu valor zerado\n",
    "#a cada uptade, os inputs serão zerados aleatóriamente\n",
    "#isso é feito para prevenir que aconteça overfit\n",
    "classificador.add(Dropout(0.2))\n",
    "\n",
    "#mais uma camada de saída\n",
    "classificador.add(Dense(units = 16, activation ='relu',\n",
    "                        kernel_initializer='random_uniform')) #camada oculta\n",
    "\n",
    "classificador.add(Dropout(0.2))\n",
    "\n",
    "#camada de saída\n",
    "#é uma probabilidade de ter cancer ou não, logo a função de ativação\n",
    "#sigmoid que é entre 0 e 1 faz mais sentido\n",
    "\n",
    "classificador.add(Dense(units=1,activation = 'sigmoid'))"
   ]
  },
  {
   "cell_type": "code",
   "execution_count": null,
   "metadata": {
    "id": "YhfBnn96oH4V"
   },
   "outputs": [],
   "source": [
    "otimizador = keras.optimizers.Adam(lr = 0.001, decay = 0.0001, clipvalue = 0.5)\n",
    "\n",
    "#lr: learning rate\n",
    "#decay: \n",
    "classificador.compile(optimizer = otimizador, loss = 'binary_crossentropy',\n",
    "                      metrics = ['binary_accuracy'])\n",
    "\n",
    "#adam: uma otimização da descida do gradiente estocástico\n",
    "start=time.time()\n",
    "classificador.fit(previsores, classe, batch_size = 10, epochs=100, verbose=1)\n",
    "end=time.time()\n",
    "print(end-start)"
   ]
  },
  {
   "cell_type": "code",
   "execution_count": null,
   "metadata": {
    "id": "oyveeYMeuvLS"
   },
   "outputs": [],
   "source": [
    "#visualizando os pesos\n",
    "pesos0 = classificador.layers[0].get_weights()\n",
    "pesos1 = classificador.layers[1].get_weights()\n",
    "pesos2 = classificador.layers[2].get_weights()"
   ]
  },
  {
   "cell_type": "code",
   "execution_count": null,
   "metadata": {
    "id": "8P7NWajZvOQu"
   },
   "outputs": [],
   "source": []
  },
  {
   "cell_type": "code",
   "execution_count": null,
   "metadata": {
    "id": "ciTmT0tBp8rO"
   },
   "outputs": [],
   "source": [
    "previsoes = classificador.predict(previsores_teste)"
   ]
  },
  {
   "cell_type": "code",
   "execution_count": null,
   "metadata": {
    "id": "7vr_nOCKqBjR"
   },
   "outputs": [],
   "source": [
    "from sklearn.metrics import confusion_matrix, accuracy_score\n",
    "\n",
    "previsoes = (previsoes > 0.5)\n",
    "precisao = accuracy_score(classe_teste, previsoes)\n",
    "\n",
    "matriz = confusion_matrix(classe_teste, previsoes)"
   ]
  },
  {
   "cell_type": "code",
   "execution_count": null,
   "metadata": {
    "colab": {
     "base_uri": "https://localhost:8080/"
    },
    "id": "B4lKM7brq60S",
    "outputId": "87a0b2d1-ca51-43d4-e607-6d160bf1cb35"
   },
   "outputs": [
    {
     "data": {
      "text/plain": [
       "(array([[49,  7],\n",
       "        [ 3, 84]]), 0.9300699300699301)"
      ]
     },
     "execution_count": 37,
     "metadata": {},
     "output_type": "execute_result"
    }
   ],
   "source": [
    "matriz, precisao"
   ]
  },
  {
   "cell_type": "code",
   "execution_count": null,
   "metadata": {
    "colab": {
     "base_uri": "https://localhost:8080/"
    },
    "id": "40EsxgD8rM8B",
    "outputId": "de80e419-0590-4aae-c7ca-563435edc771"
   },
   "outputs": [
    {
     "name": "stdout",
     "output_type": "stream",
     "text": [
      "5/5 [==============================] - 0s 3ms/step - loss: 0.8344 - binary_accuracy: 0.8392\n"
     ]
    }
   ],
   "source": [
    "resultado = classificador.evaluate(previsores_teste, classe_teste)"
   ]
  },
  {
   "cell_type": "code",
   "execution_count": null,
   "metadata": {
    "id": "fPUqcfrGromb"
   },
   "outputs": [],
   "source": []
  },
  {
   "cell_type": "markdown",
   "metadata": {
    "id": "0gfAJIv-3IMK"
   },
   "source": [
    "## Tuning of parameters"
   ]
  },
  {
   "cell_type": "code",
   "execution_count": 13,
   "metadata": {
    "id": "sG_dijZn7A_n"
   },
   "outputs": [],
   "source": [
    "def criarRede(optimizer, loos, kernel_initializer, activation, neurons_1, neurons_2, neurons_3, drop):\n",
    "    classificador = Sequential()\n",
    "    classificador.add(Dense(units = neurons_1, activation = activation, \n",
    "                        kernel_initializer = kernel_initializer, input_dim = 30))\n",
    "    classificador.add(Dropout(drop))\n",
    "    classificador.add(Dense(units = neurons_2, activation = activation, \n",
    "                        kernel_initializer = kernel_initializer))\n",
    "    classificador.add(Dropout(drop))\n",
    "    classificador.add(Dense(units = neurons_3, activation = activation, \n",
    "                        kernel_initializer = kernel_initializer))\n",
    "    classificador.add(Dropout(drop))\n",
    "    classificador.add(Dense(units = 1, activation = 'sigmoid'))\n",
    "    classificador.compile(optimizer = optimizer, loss = loos,\n",
    "                      metrics = ['binary_accuracy'])\n",
    "    return classificador"
   ]
  },
  {
   "cell_type": "code",
   "execution_count": null,
   "metadata": {
    "colab": {
     "base_uri": "https://localhost:8080/"
    },
    "id": "nZq4uR7Y7Rgj",
    "outputId": "f8c47a9b-70e0-4448-9f9c-6c1835181c50"
   },
   "outputs": [],
   "source": [
    "classificador = KerasClassifier(build_fn = criarRede)\n",
    "\n",
    "parametros = {'batch_size': [1, 5, 10, 30],\n",
    "              'epochs': [10, 20, 100],\n",
    "              'optimizer': ['adam'],\n",
    "              'loos': ['binary_crossentropy', 'hinge'],\n",
    "              'kernel_initializer': ['random_uniform', 'normal'],\n",
    "              'activation': ['relu', 'tanh'],\n",
    "              'neurons_1': [16, 8, 2],\n",
    "              'neurons_2': [16, 8, 2],\n",
    "              'neurons_3': [16, 8, 2],\n",
    "              'drop':[0.1,0.3]}\n",
    "grid_search = GridSearchCV(estimator = classificador,\n",
    "                           param_grid = parametros,\n",
    "                           scoring = 'accuracy',\n",
    "                           cv = 5)"
   ]
  },
  {
   "cell_type": "code",
   "execution_count": null,
   "metadata": {
    "id": "Wd2LwtIo7W2t"
   },
   "outputs": [],
   "source": [
    "grid_search = grid_search.fit(previsores, classe, verbose=0)"
   ]
  },
  {
   "cell_type": "code",
   "execution_count": null,
   "metadata": {
    "colab": {
     "base_uri": "https://localhost:8080/",
     "height": 200
    },
    "id": "65K8ezQX7jk8",
    "outputId": "26210d82-cf4d-41f6-b437-29405ba04ee1"
   },
   "outputs": [],
   "source": [
    "melhores_parametros = grid_search.best_params_\n",
    "melhor_precisao = grid_search.best_score_\n",
    "melhores_parametros"
   ]
  },
  {
   "cell_type": "markdown",
   "metadata": {
    "id": "lYUuPWbxvwbi"
   },
   "source": [
    "## Validação Cruzada"
   ]
  },
  {
   "cell_type": "code",
   "execution_count": 10,
   "metadata": {
    "id": "0yzDXpMOvuSH"
   },
   "outputs": [],
   "source": [
    "def criarRede():\n",
    "    classificador = Sequential()\n",
    "\n",
    "    #camada oculta\n",
    "    classificador.add(Dense(units = 16, activation ='relu',\n",
    "                            kernel_initializer='normal', input_dim = 30)) #camada oculta\n",
    "\n",
    "    classificador.add(Dropout(0.2))\n",
    "\n",
    "    #mais uma camada de saída\n",
    "    classificador.add(Dense(units = 16, activation ='relu',\n",
    "                            kernel_initializer='normal')) #camada oculta\n",
    "\n",
    "    classificador.add(Dropout(0.2))\n",
    "\n",
    "    #camada de saída\n",
    "    classificador.add(Dense(units=1,activation = 'sigmoid'))\n",
    "\n",
    "\n",
    "    otimizador = keras.optimizers.Adam(learning_rate = 0.001, decay = 0.0001, clipvalue = 0.5)\n",
    "    classificador.compile(optimizer = otimizador, loss = 'binary_crossentropy',\n",
    "                      metrics = ['binary_accuracy'])\n",
    "\n",
    "\n",
    "    return classificador"
   ]
  },
  {
   "cell_type": "code",
   "execution_count": null,
   "metadata": {
    "id": "Ibcxldi9xoHk"
   },
   "outputs": [],
   "source": [
    "classificador = KerasClassifier(build_fn = criarRede, epochs = 100, batch_size = 10)\n",
    "\n",
    "\n",
    "start=time.time()\n",
    "resultados = cross_val_score(estimator=classificador, X=previsores, y=classe, cv =10, scoring = 'accuracy', verbose=0)\n",
    "end=time.time()\n",
    "print(end-start)"
   ]
  },
  {
   "cell_type": "code",
   "execution_count": 12,
   "metadata": {
    "colab": {
     "base_uri": "https://localhost:8080/"
    },
    "id": "_bMimpzfQspQ",
    "outputId": "664ef57f-ed26-43a5-ea9d-862c0c52e6a0"
   },
   "outputs": [
    {
     "data": {
      "text/plain": [
       "(0.9542919799498748, 0.027429890512670675)"
      ]
     },
     "execution_count": 12,
     "metadata": {},
     "output_type": "execute_result"
    }
   ],
   "source": [
    "resultados.mean(), resultados.std()"
   ]
  },
  {
   "cell_type": "markdown",
   "metadata": {
    "id": "A5_Pjmn0Q4-1"
   },
   "source": [
    "## Classificar somente um registro"
   ]
  },
  {
   "cell_type": "code",
   "execution_count": null,
   "metadata": {
    "colab": {
     "base_uri": "https://localhost:8080/"
    },
    "id": "zkb4y-rHRm9U",
    "outputId": "a73bd2b8-bd8f-4516-d40b-fc160804a01d"
   },
   "outputs": [],
   "source": [
    "classificador = Sequential()\n",
    "classificador.add(Dense(units = 8, activation = 'relu', \n",
    "                        kernel_initializer = 'normal', input_dim = 30))\n",
    "classificador.add(Dropout(0.2))\n",
    "classificador.add(Dense(units = 8, activation = 'relu', \n",
    "                        kernel_initializer = 'normal'))\n",
    "classificador.add(Dropout(0.2))\n",
    "classificador.add(Dense(units = 1, activation = 'sigmoid'))\n",
    "classificador.compile(optimizer = 'adam', loss = 'binary_crossentropy',\n",
    "                      metrics = ['binary_accuracy'])\n",
    "classificador.fit(previsores, classe, batch_size = 10, epochs = 100)"
   ]
  },
  {
   "cell_type": "code",
   "execution_count": null,
   "metadata": {
    "colab": {
     "base_uri": "https://localhost:8080/"
    },
    "id": "tEfHAghSRqgC",
    "outputId": "7023a372-7c12-474a-b243-9140d7bd236d"
   },
   "outputs": [
    {
     "data": {
      "text/plain": [
       "array([[ True]])"
      ]
     },
     "execution_count": 45,
     "metadata": {},
     "output_type": "execute_result"
    }
   ],
   "source": [
    "#chutando valores para o vetor de previsores\n",
    "novo = np.array([[15.80, 8.34, 118, 900, 0.10, 0.26, 0.08, 0.134, 0.178,\n",
    "                  0.20, 0.05, 1098, 0.87, 4500, 145.2, 0.005, 0.04, 0.05, 0.015,\n",
    "                  0.03, 0.007, 23.15, 16.64, 178.5, 2018, 0.14, 0.185,\n",
    "                  0.84, 158, 0.363]])\n",
    "previsao = classificador.predict(novo)\n",
    "previsao = (previsao > 0.5)#o valor 0.5 foi determinado por mim\n",
    "previsao"
   ]
  },
  {
   "cell_type": "markdown",
   "metadata": {
    "id": "47gZZqmFR2OG"
   },
   "source": [
    "## Salvar a rede neural"
   ]
  },
  {
   "cell_type": "code",
   "execution_count": null,
   "metadata": {
    "id": "0IpuOX0BR0-F"
   },
   "outputs": [],
   "source": [
    "classificador_json = classificador.to_json()\n",
    "with open('classificador_breast.json', 'w') as json_file:\n",
    "    json_file.write(classificador_json)\n",
    "classificador.save_weights('classificador_breast.h5')"
   ]
  }
 ],
 "metadata": {
  "colab": {
   "collapsed_sections": [],
   "name": "Project_1-breast_cancer",
   "provenance": [],
   "toc_visible": true
  },
  "kernelspec": {
   "display_name": "Python 3 (ipykernel)",
   "language": "python",
   "name": "python3"
  },
  "language_info": {
   "codemirror_mode": {
    "name": "ipython",
    "version": 3
   },
   "file_extension": ".py",
   "mimetype": "text/x-python",
   "name": "python",
   "nbconvert_exporter": "python",
   "pygments_lexer": "ipython3",
   "version": "3.9.7"
  }
 },
 "nbformat": 4,
 "nbformat_minor": 4
}
