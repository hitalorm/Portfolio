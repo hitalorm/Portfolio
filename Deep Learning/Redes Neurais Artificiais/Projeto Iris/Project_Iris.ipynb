{
 "cells": [
  {
   "cell_type": "markdown",
   "id": "c67b5d33-6e0a-4262-80cd-05d6c5823b43",
   "metadata": {},
   "source": [
    "https://archive.ics.uci.edu/ml/datasets/iris"
   ]
  },
  {
   "cell_type": "code",
   "execution_count": 1,
   "id": "941970b3-c942-405c-a632-bed69547f80e",
   "metadata": {},
   "outputs": [],
   "source": [
    "import pandas as pd\n",
    "from keras.models import Sequential\n",
    "from keras.layers import Dense\n",
    "from keras.utils import np_utils\n",
    "import numpy as np\n",
    "from keras.wrappers.scikit_learn import KerasClassifier\n",
    "from sklearn.model_selection import cross_val_score\n"
   ]
  },
  {
   "cell_type": "markdown",
   "id": "1efa0d3a-ae17-42ba-a0f7-645413ef8556",
   "metadata": {},
   "source": [
    "## Base de dados"
   ]
  },
  {
   "cell_type": "code",
   "execution_count": 2,
   "id": "7b38dddf-df4e-498c-9fb7-535bfae2f033",
   "metadata": {},
   "outputs": [],
   "source": [
    "base = pd.read_csv('iris.csv')"
   ]
  },
  {
   "cell_type": "code",
   "execution_count": 3,
   "id": "b77fa014-e8b6-4f25-a30a-def839a9cd53",
   "metadata": {},
   "outputs": [
    {
     "data": {
      "text/html": [
       "<div>\n",
       "<style scoped>\n",
       "    .dataframe tbody tr th:only-of-type {\n",
       "        vertical-align: middle;\n",
       "    }\n",
       "\n",
       "    .dataframe tbody tr th {\n",
       "        vertical-align: top;\n",
       "    }\n",
       "\n",
       "    .dataframe thead th {\n",
       "        text-align: right;\n",
       "    }\n",
       "</style>\n",
       "<table border=\"1\" class=\"dataframe\">\n",
       "  <thead>\n",
       "    <tr style=\"text-align: right;\">\n",
       "      <th></th>\n",
       "      <th>sepal length</th>\n",
       "      <th>sepal width</th>\n",
       "      <th>petal length</th>\n",
       "      <th>petal width</th>\n",
       "      <th>class</th>\n",
       "    </tr>\n",
       "  </thead>\n",
       "  <tbody>\n",
       "    <tr>\n",
       "      <th>0</th>\n",
       "      <td>5.1</td>\n",
       "      <td>3.5</td>\n",
       "      <td>1.4</td>\n",
       "      <td>0.2</td>\n",
       "      <td>Iris-setosa</td>\n",
       "    </tr>\n",
       "    <tr>\n",
       "      <th>1</th>\n",
       "      <td>4.9</td>\n",
       "      <td>3.0</td>\n",
       "      <td>1.4</td>\n",
       "      <td>0.2</td>\n",
       "      <td>Iris-setosa</td>\n",
       "    </tr>\n",
       "    <tr>\n",
       "      <th>2</th>\n",
       "      <td>4.7</td>\n",
       "      <td>3.2</td>\n",
       "      <td>1.3</td>\n",
       "      <td>0.2</td>\n",
       "      <td>Iris-setosa</td>\n",
       "    </tr>\n",
       "    <tr>\n",
       "      <th>3</th>\n",
       "      <td>4.6</td>\n",
       "      <td>3.1</td>\n",
       "      <td>1.5</td>\n",
       "      <td>0.2</td>\n",
       "      <td>Iris-setosa</td>\n",
       "    </tr>\n",
       "    <tr>\n",
       "      <th>4</th>\n",
       "      <td>5.0</td>\n",
       "      <td>3.6</td>\n",
       "      <td>1.4</td>\n",
       "      <td>0.2</td>\n",
       "      <td>Iris-setosa</td>\n",
       "    </tr>\n",
       "  </tbody>\n",
       "</table>\n",
       "</div>"
      ],
      "text/plain": [
       "   sepal length  sepal width  petal length  petal width        class\n",
       "0           5.1          3.5           1.4          0.2  Iris-setosa\n",
       "1           4.9          3.0           1.4          0.2  Iris-setosa\n",
       "2           4.7          3.2           1.3          0.2  Iris-setosa\n",
       "3           4.6          3.1           1.5          0.2  Iris-setosa\n",
       "4           5.0          3.6           1.4          0.2  Iris-setosa"
      ]
     },
     "execution_count": 3,
     "metadata": {},
     "output_type": "execute_result"
    }
   ],
   "source": [
    "base.head()"
   ]
  },
  {
   "cell_type": "code",
   "execution_count": 4,
   "id": "29d138bc-34c0-4f44-8050-b975005cfed9",
   "metadata": {},
   "outputs": [],
   "source": [
    "previsores = base.iloc[:,:4].values\n",
    "classe = base.iloc[:,4].values"
   ]
  },
  {
   "cell_type": "markdown",
   "id": "af1e5b23-0136-4eca-bd72-ad75d073fb2e",
   "metadata": {},
   "source": [
    "### Escalonamento dos previsores"
   ]
  },
  {
   "cell_type": "code",
   "execution_count": 5,
   "id": "a6434bb2-e3b4-4e84-9958-1b05bec83a7e",
   "metadata": {},
   "outputs": [],
   "source": [
    "from sklearn.preprocessing import StandardScaler\n",
    "scaler = StandardScaler()\n",
    "previsores = scaler.fit_transform(previsores)"
   ]
  },
  {
   "cell_type": "markdown",
   "id": "8013eac7-453a-4c7a-816f-3cbb933aaa19",
   "metadata": {},
   "source": [
    "### Label Encoder"
   ]
  },
  {
   "cell_type": "code",
   "execution_count": 9,
   "id": "ea642a73-b8c6-4915-a092-376fc4c0bd3b",
   "metadata": {},
   "outputs": [],
   "source": [
    "from sklearn.preprocessing import LabelEncoder\n",
    "labelencoder = LabelEncoder()\n",
    "classe = labelencoder.fit_transform(classe)\n",
    "classe_dummy = np_utils.to_categorical(classe)"
   ]
  },
  {
   "cell_type": "code",
   "execution_count": 10,
   "id": "e154f7e2-7e9a-4aa0-9781-1a81a8124510",
   "metadata": {},
   "outputs": [
    {
     "data": {
      "text/plain": [
       "(112, 4)"
      ]
     },
     "execution_count": 10,
     "metadata": {},
     "output_type": "execute_result"
    }
   ],
   "source": [
    "from sklearn.model_selection import train_test_split\n",
    "previsores_treinamento, previsores_teste, classe_treinamento, classe_teste = train_test_split(previsores, classe_dummy, test_size=0.25)\n",
    "previsores_treinamento.shape"
   ]
  },
  {
   "cell_type": "markdown",
   "id": "42645a3f-5578-425b-ab48-16287bdf6a69",
   "metadata": {},
   "source": [
    "## Estrutura da rede neural"
   ]
  },
  {
   "cell_type": "code",
   "execution_count": null,
   "id": "17c896c3-684e-48cb-af96-a160b94dfa24",
   "metadata": {},
   "outputs": [],
   "source": [
    "classificador = Sequential()\n",
    "classificador.add(Dense(units = 4, activation = 'relu', input_dim = 4))\n",
    "classificador.add(Dense(units = 4, activation = 'relu'))\n",
    "classificador.add(Dense(units = 3, activation = 'softmax'))\n",
    "#softmax é utilizada quando você tem várias categorias como resultado"
   ]
  },
  {
   "cell_type": "code",
   "execution_count": null,
   "id": "45006a14-a333-419c-bb5f-3e5671224e47",
   "metadata": {},
   "outputs": [],
   "source": [
    "classificador.compile(optimizer = 'adam', loss = 'categorical_crossentropy',\n",
    "                      metrics = ['categorical_accuracy'])\n",
    "classificador.fit(previsores_treinamento, classe_treinamento, batch_size = 10,\n",
    "                  epochs = 1000)\n"
   ]
  },
  {
   "cell_type": "code",
   "execution_count": 13,
   "id": "c8c5f03b-6421-49ad-b3e0-4c32aea7c954",
   "metadata": {},
   "outputs": [
    {
     "name": "stdout",
     "output_type": "stream",
     "text": [
      "2/2 [==============================] - 0s 2ms/step - loss: 0.5589 - categorical_accuracy: 0.8947\n"
     ]
    }
   ],
   "source": [
    "resultado = classificador.evaluate(previsores_teste, classe_teste)\n",
    "previsoes = classificador.predict(previsores_teste)\n",
    "previsoes = (previsoes > 0.5)\n"
   ]
  },
  {
   "cell_type": "code",
   "execution_count": 14,
   "id": "52f03c09-068a-428d-a123-3b3760bd5ee4",
   "metadata": {},
   "outputs": [],
   "source": [
    "classe_teste2 = [np.argmax(t) for t in classe_teste] #retorna o indice que tem o maior valor\n",
    "previsoes2 = [np.argmax(t) for t in previsoes]"
   ]
  },
  {
   "cell_type": "code",
   "execution_count": 15,
   "id": "220facdf-9b65-4080-9055-95c6ed7611ab",
   "metadata": {},
   "outputs": [],
   "source": [
    "from sklearn.metrics import confusion_matrix\n",
    "matriz = confusion_matrix(previsoes2, classe_teste2)"
   ]
  },
  {
   "cell_type": "code",
   "execution_count": 16,
   "id": "7bb868b4-f1d3-4eb8-a22f-bd346d97ab18",
   "metadata": {},
   "outputs": [
    {
     "name": "stdout",
     "output_type": "stream",
     "text": [
      "[[10  0  0]\n",
      " [ 0 15  4]\n",
      " [ 0  0  9]]\n"
     ]
    }
   ],
   "source": [
    "print(matriz)"
   ]
  },
  {
   "cell_type": "markdown",
   "id": "5785357d-6741-45c5-acf1-db02c77acd6d",
   "metadata": {},
   "source": [
    "## Validação cruzada"
   ]
  },
  {
   "cell_type": "code",
   "execution_count": 32,
   "id": "ee2477f6-d4ab-4e1e-b5cb-be8234a70bc0",
   "metadata": {},
   "outputs": [],
   "source": [
    "def criarRede():\n",
    "    classificador = Sequential()\n",
    "    classificador.add(Dense(units = 4, activation = 'relu', input_dim = 4))\n",
    "    classificador.add(Dense(units = 4, activation = 'relu'))\n",
    "    classificador.add(Dense(units = 3, activation = 'softmax'))\n",
    "\n",
    "\n",
    "    otimizador = keras.optimizers.Adam(learning_rate = 0.001, decay = 0.0001, clipvalue = 0.5)\n",
    "    classificador.compile(optimizer = otimizador, loss = 'sparse_categorical_crossentropy',\n",
    "                      metrics = ['accuracy'])\n",
    "\n",
    "\n",
    "    return classificador"
   ]
  },
  {
   "cell_type": "code",
   "execution_count": 33,
   "id": "ef5e026a-b996-42e9-b8cf-2b3e9509d3da",
   "metadata": {},
   "outputs": [
    {
     "name": "stderr",
     "output_type": "stream",
     "text": [
      "/tmp/ipykernel_3841/4164478360.py:1: DeprecationWarning: KerasClassifier is deprecated, use Sci-Keras (https://github.com/adriangb/scikeras) instead. See https://www.adriangb.com/scikeras/stable/migration.html for help migrating.\n",
      "  classificador = KerasClassifier(build_fn = criarRede, epochs = 100, batch_size = 10)\n",
      "/home/hmendes/.local/lib/python3.9/site-packages/sklearn/model_selection/_validation.py:372: FitFailedWarning: \n",
      "10 fits failed out of a total of 10.\n",
      "The score on these train-test partitions for these parameters will be set to nan.\n",
      "If these failures are not expected, you can try to debug them by setting error_score='raise'.\n",
      "\n",
      "Below are more details about the failures:\n",
      "--------------------------------------------------------------------------------\n",
      "10 fits failed with the following error:\n",
      "Traceback (most recent call last):\n",
      "  File \"/home/hmendes/.local/lib/python3.9/site-packages/sklearn/model_selection/_validation.py\", line 681, in _fit_and_score\n",
      "    estimator.fit(X_train, y_train, **fit_params)\n",
      "  File \"/home/hmendes/.local/lib/python3.9/site-packages/keras/wrappers/scikit_learn.py\", line 236, in fit\n",
      "    return super(KerasClassifier, self).fit(x, y, **kwargs)\n",
      "  File \"/home/hmendes/.local/lib/python3.9/site-packages/keras/wrappers/scikit_learn.py\", line 155, in fit\n",
      "    self.model = self.build_fn(**self.filter_sk_params(self.build_fn))\n",
      "  File \"/tmp/ipykernel_3841/1520444400.py\", line 8, in criarRede\n",
      "    otimizador = keras.optimizers.Adam(learning_rate = 0.001, decay = 0.0001, clipvalue = 0.5)\n",
      "NameError: name 'keras' is not defined\n",
      "\n",
      "  warnings.warn(some_fits_failed_message, FitFailedWarning)\n"
     ]
    }
   ],
   "source": [
    "classificador = KerasClassifier(build_fn = criarRede, epochs = 100, batch_size = 10)\n",
    "\n",
    "\n",
    "resultados = cross_val_score(estimator=classificador, X=previsores, y=classe, cv =10, verbose=0)"
   ]
  },
  {
   "cell_type": "code",
   "execution_count": null,
   "id": "b3307174-4754-4408-b459-ff40cde00849",
   "metadata": {},
   "outputs": [],
   "source": []
  }
 ],
 "metadata": {
  "kernelspec": {
   "display_name": "Python 3 (ipykernel)",
   "language": "python",
   "name": "python3"
  },
  "language_info": {
   "codemirror_mode": {
    "name": "ipython",
    "version": 3
   },
   "file_extension": ".py",
   "mimetype": "text/x-python",
   "name": "python",
   "nbconvert_exporter": "python",
   "pygments_lexer": "ipython3",
   "version": "3.9.7"
  }
 },
 "nbformat": 4,
 "nbformat_minor": 5
}
