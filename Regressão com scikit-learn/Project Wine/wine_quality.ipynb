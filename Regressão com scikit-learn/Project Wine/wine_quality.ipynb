{
  "nbformat": 4,
  "nbformat_minor": 0,
  "metadata": {
    "colab": {
      "name": "wine_quality.ipynb",
      "provenance": [],
      "collapsed_sections": [],
      "toc_visible": true
    },
    "kernelspec": {
      "name": "python3",
      "display_name": "Python 3"
    },
    "language_info": {
      "name": "python"
    }
  },
  "cells": [
    {
      "cell_type": "markdown",
      "metadata": {
        "id": "QaocLYDMD2QB"
      },
      "source": [
        "#Wine Prediction"
      ]
    },
    {
      "cell_type": "markdown",
      "metadata": {
        "id": "ISOj4hLvDxqr"
      },
      "source": [
        "Dataset obtained from:\n",
        "\n",
        "P. Cortez, A. Cerdeira, F. Almeida, T. Matos and J. Reis. Modeling wine preferences by data mining from physicochemical properties. In Decision Support Systems, Elsevier, 47(4):547-553, 2009."
      ]
    },
    {
      "cell_type": "code",
      "metadata": {
        "id": "KSVwSqqcD7z-"
      },
      "source": [
        "import os\n",
        "os.chdir('/content/drive/MyDrive/ML/Wine')"
      ],
      "execution_count": 1,
      "outputs": []
    },
    {
      "cell_type": "code",
      "metadata": {
        "colab": {
          "base_uri": "https://localhost:8080/"
        },
        "id": "Qfy0r23kKqhO",
        "outputId": "45141089-c5d6-42c7-d8eb-5b89b7f4e822"
      },
      "source": [
        "!pip install plotly --upgrade"
      ],
      "execution_count": null,
      "outputs": [
        {
          "output_type": "stream",
          "name": "stdout",
          "text": [
            "Requirement already satisfied: plotly in /usr/local/lib/python3.7/dist-packages (4.4.1)\n",
            "Collecting plotly\n",
            "  Downloading plotly-5.4.0-py2.py3-none-any.whl (25.3 MB)\n",
            "\u001b[K     |████████████████████████████████| 25.3 MB 1.8 MB/s \n",
            "\u001b[?25hCollecting tenacity>=6.2.0\n",
            "  Downloading tenacity-8.0.1-py3-none-any.whl (24 kB)\n",
            "Requirement already satisfied: six in /usr/local/lib/python3.7/dist-packages (from plotly) (1.15.0)\n",
            "Installing collected packages: tenacity, plotly\n",
            "  Attempting uninstall: plotly\n",
            "    Found existing installation: plotly 4.4.1\n",
            "    Uninstalling plotly-4.4.1:\n",
            "      Successfully uninstalled plotly-4.4.1\n",
            "Successfully installed plotly-5.4.0 tenacity-8.0.1\n"
          ]
        }
      ]
    },
    {
      "cell_type": "code",
      "metadata": {
        "id": "ykicV5_wEJFQ"
      },
      "source": [
        "#importing libraries\n",
        "import pandas as pd\n",
        "import numpy as np\n",
        "import matplotlib.pyplot as plt\n",
        "import seaborn as sns\n",
        "import plotly.express as px"
      ],
      "execution_count": 2,
      "outputs": []
    },
    {
      "cell_type": "markdown",
      "metadata": {
        "id": "lSldeUT6EVre"
      },
      "source": [
        "##Opening and analyzing the Dataframe"
      ]
    },
    {
      "cell_type": "code",
      "metadata": {
        "id": "C-NkLe2jEUlS"
      },
      "source": [
        "df_wine = pd.read_csv('winequality-red.csv')"
      ],
      "execution_count": 3,
      "outputs": []
    },
    {
      "cell_type": "code",
      "metadata": {
        "colab": {
          "base_uri": "https://localhost:8080/",
          "height": 267
        },
        "id": "RFkPKbrmElkV",
        "outputId": "07a5f8a8-5ace-4f5b-8eee-5a4be8cad3ae"
      },
      "source": [
        "df_wine.head()"
      ],
      "execution_count": 4,
      "outputs": [
        {
          "output_type": "execute_result",
          "data": {
            "text/html": [
              "\n",
              "  <div id=\"df-9b6b1ba7-bb05-4357-b21f-6c7651aaafe5\">\n",
              "    <div class=\"colab-df-container\">\n",
              "      <div>\n",
              "<style scoped>\n",
              "    .dataframe tbody tr th:only-of-type {\n",
              "        vertical-align: middle;\n",
              "    }\n",
              "\n",
              "    .dataframe tbody tr th {\n",
              "        vertical-align: top;\n",
              "    }\n",
              "\n",
              "    .dataframe thead th {\n",
              "        text-align: right;\n",
              "    }\n",
              "</style>\n",
              "<table border=\"1\" class=\"dataframe\">\n",
              "  <thead>\n",
              "    <tr style=\"text-align: right;\">\n",
              "      <th></th>\n",
              "      <th>fixed acidity</th>\n",
              "      <th>volatile acidity</th>\n",
              "      <th>citric acid</th>\n",
              "      <th>residual sugar</th>\n",
              "      <th>chlorides</th>\n",
              "      <th>free sulfur dioxide</th>\n",
              "      <th>total sulfur dioxide</th>\n",
              "      <th>density</th>\n",
              "      <th>pH</th>\n",
              "      <th>sulphates</th>\n",
              "      <th>alcohol</th>\n",
              "      <th>quality</th>\n",
              "    </tr>\n",
              "  </thead>\n",
              "  <tbody>\n",
              "    <tr>\n",
              "      <th>0</th>\n",
              "      <td>7.4</td>\n",
              "      <td>0.70</td>\n",
              "      <td>0.00</td>\n",
              "      <td>1.9</td>\n",
              "      <td>0.076</td>\n",
              "      <td>11.0</td>\n",
              "      <td>34.0</td>\n",
              "      <td>0.9978</td>\n",
              "      <td>3.51</td>\n",
              "      <td>0.56</td>\n",
              "      <td>9.4</td>\n",
              "      <td>5</td>\n",
              "    </tr>\n",
              "    <tr>\n",
              "      <th>1</th>\n",
              "      <td>7.8</td>\n",
              "      <td>0.88</td>\n",
              "      <td>0.00</td>\n",
              "      <td>2.6</td>\n",
              "      <td>0.098</td>\n",
              "      <td>25.0</td>\n",
              "      <td>67.0</td>\n",
              "      <td>0.9968</td>\n",
              "      <td>3.20</td>\n",
              "      <td>0.68</td>\n",
              "      <td>9.8</td>\n",
              "      <td>5</td>\n",
              "    </tr>\n",
              "    <tr>\n",
              "      <th>2</th>\n",
              "      <td>7.8</td>\n",
              "      <td>0.76</td>\n",
              "      <td>0.04</td>\n",
              "      <td>2.3</td>\n",
              "      <td>0.092</td>\n",
              "      <td>15.0</td>\n",
              "      <td>54.0</td>\n",
              "      <td>0.9970</td>\n",
              "      <td>3.26</td>\n",
              "      <td>0.65</td>\n",
              "      <td>9.8</td>\n",
              "      <td>5</td>\n",
              "    </tr>\n",
              "    <tr>\n",
              "      <th>3</th>\n",
              "      <td>11.2</td>\n",
              "      <td>0.28</td>\n",
              "      <td>0.56</td>\n",
              "      <td>1.9</td>\n",
              "      <td>0.075</td>\n",
              "      <td>17.0</td>\n",
              "      <td>60.0</td>\n",
              "      <td>0.9980</td>\n",
              "      <td>3.16</td>\n",
              "      <td>0.58</td>\n",
              "      <td>9.8</td>\n",
              "      <td>6</td>\n",
              "    </tr>\n",
              "    <tr>\n",
              "      <th>4</th>\n",
              "      <td>7.4</td>\n",
              "      <td>0.70</td>\n",
              "      <td>0.00</td>\n",
              "      <td>1.9</td>\n",
              "      <td>0.076</td>\n",
              "      <td>11.0</td>\n",
              "      <td>34.0</td>\n",
              "      <td>0.9978</td>\n",
              "      <td>3.51</td>\n",
              "      <td>0.56</td>\n",
              "      <td>9.4</td>\n",
              "      <td>5</td>\n",
              "    </tr>\n",
              "  </tbody>\n",
              "</table>\n",
              "</div>\n",
              "      <button class=\"colab-df-convert\" onclick=\"convertToInteractive('df-9b6b1ba7-bb05-4357-b21f-6c7651aaafe5')\"\n",
              "              title=\"Convert this dataframe to an interactive table.\"\n",
              "              style=\"display:none;\">\n",
              "        \n",
              "  <svg xmlns=\"http://www.w3.org/2000/svg\" height=\"24px\"viewBox=\"0 0 24 24\"\n",
              "       width=\"24px\">\n",
              "    <path d=\"M0 0h24v24H0V0z\" fill=\"none\"/>\n",
              "    <path d=\"M18.56 5.44l.94 2.06.94-2.06 2.06-.94-2.06-.94-.94-2.06-.94 2.06-2.06.94zm-11 1L8.5 8.5l.94-2.06 2.06-.94-2.06-.94L8.5 2.5l-.94 2.06-2.06.94zm10 10l.94 2.06.94-2.06 2.06-.94-2.06-.94-.94-2.06-.94 2.06-2.06.94z\"/><path d=\"M17.41 7.96l-1.37-1.37c-.4-.4-.92-.59-1.43-.59-.52 0-1.04.2-1.43.59L10.3 9.45l-7.72 7.72c-.78.78-.78 2.05 0 2.83L4 21.41c.39.39.9.59 1.41.59.51 0 1.02-.2 1.41-.59l7.78-7.78 2.81-2.81c.8-.78.8-2.07 0-2.86zM5.41 20L4 18.59l7.72-7.72 1.47 1.35L5.41 20z\"/>\n",
              "  </svg>\n",
              "      </button>\n",
              "      \n",
              "  <style>\n",
              "    .colab-df-container {\n",
              "      display:flex;\n",
              "      flex-wrap:wrap;\n",
              "      gap: 12px;\n",
              "    }\n",
              "\n",
              "    .colab-df-convert {\n",
              "      background-color: #E8F0FE;\n",
              "      border: none;\n",
              "      border-radius: 50%;\n",
              "      cursor: pointer;\n",
              "      display: none;\n",
              "      fill: #1967D2;\n",
              "      height: 32px;\n",
              "      padding: 0 0 0 0;\n",
              "      width: 32px;\n",
              "    }\n",
              "\n",
              "    .colab-df-convert:hover {\n",
              "      background-color: #E2EBFA;\n",
              "      box-shadow: 0px 1px 2px rgba(60, 64, 67, 0.3), 0px 1px 3px 1px rgba(60, 64, 67, 0.15);\n",
              "      fill: #174EA6;\n",
              "    }\n",
              "\n",
              "    [theme=dark] .colab-df-convert {\n",
              "      background-color: #3B4455;\n",
              "      fill: #D2E3FC;\n",
              "    }\n",
              "\n",
              "    [theme=dark] .colab-df-convert:hover {\n",
              "      background-color: #434B5C;\n",
              "      box-shadow: 0px 1px 3px 1px rgba(0, 0, 0, 0.15);\n",
              "      filter: drop-shadow(0px 1px 2px rgba(0, 0, 0, 0.3));\n",
              "      fill: #FFFFFF;\n",
              "    }\n",
              "  </style>\n",
              "\n",
              "      <script>\n",
              "        const buttonEl =\n",
              "          document.querySelector('#df-9b6b1ba7-bb05-4357-b21f-6c7651aaafe5 button.colab-df-convert');\n",
              "        buttonEl.style.display =\n",
              "          google.colab.kernel.accessAllowed ? 'block' : 'none';\n",
              "\n",
              "        async function convertToInteractive(key) {\n",
              "          const element = document.querySelector('#df-9b6b1ba7-bb05-4357-b21f-6c7651aaafe5');\n",
              "          const dataTable =\n",
              "            await google.colab.kernel.invokeFunction('convertToInteractive',\n",
              "                                                     [key], {});\n",
              "          if (!dataTable) return;\n",
              "\n",
              "          const docLinkHtml = 'Like what you see? Visit the ' +\n",
              "            '<a target=\"_blank\" href=https://colab.research.google.com/notebooks/data_table.ipynb>data table notebook</a>'\n",
              "            + ' to learn more about interactive tables.';\n",
              "          element.innerHTML = '';\n",
              "          dataTable['output_type'] = 'display_data';\n",
              "          await google.colab.output.renderOutput(dataTable, element);\n",
              "          const docLink = document.createElement('div');\n",
              "          docLink.innerHTML = docLinkHtml;\n",
              "          element.appendChild(docLink);\n",
              "        }\n",
              "      </script>\n",
              "    </div>\n",
              "  </div>\n",
              "  "
            ],
            "text/plain": [
              "   fixed acidity  volatile acidity  citric acid  ...  sulphates  alcohol  quality\n",
              "0            7.4              0.70         0.00  ...       0.56      9.4        5\n",
              "1            7.8              0.88         0.00  ...       0.68      9.8        5\n",
              "2            7.8              0.76         0.04  ...       0.65      9.8        5\n",
              "3           11.2              0.28         0.56  ...       0.58      9.8        6\n",
              "4            7.4              0.70         0.00  ...       0.56      9.4        5\n",
              "\n",
              "[5 rows x 12 columns]"
            ]
          },
          "metadata": {},
          "execution_count": 4
        }
      ]
    },
    {
      "cell_type": "code",
      "metadata": {
        "colab": {
          "base_uri": "https://localhost:8080/"
        },
        "id": "NkhpTPjMEoqn",
        "outputId": "c49e2661-b8da-40c2-c40d-f7643be9a83f"
      },
      "source": [
        "df_wine.shape"
      ],
      "execution_count": 5,
      "outputs": [
        {
          "output_type": "execute_result",
          "data": {
            "text/plain": [
              "(1599, 12)"
            ]
          },
          "metadata": {},
          "execution_count": 5
        }
      ]
    },
    {
      "cell_type": "code",
      "metadata": {
        "colab": {
          "base_uri": "https://localhost:8080/"
        },
        "id": "faBl_1I7EsTD",
        "outputId": "9872b740-a084-4409-ce4f-6e622ba91f22"
      },
      "source": [
        "#checking for missing values\n",
        "df_wine.isnull().sum()"
      ],
      "execution_count": 6,
      "outputs": [
        {
          "output_type": "execute_result",
          "data": {
            "text/plain": [
              "fixed acidity           0\n",
              "volatile acidity        0\n",
              "citric acid             0\n",
              "residual sugar          0\n",
              "chlorides               0\n",
              "free sulfur dioxide     0\n",
              "total sulfur dioxide    0\n",
              "density                 0\n",
              "pH                      0\n",
              "sulphates               0\n",
              "alcohol                 0\n",
              "quality                 0\n",
              "dtype: int64"
            ]
          },
          "metadata": {},
          "execution_count": 6
        }
      ]
    },
    {
      "cell_type": "code",
      "metadata": {
        "id": "84cm09cbJ6ZG",
        "colab": {
          "base_uri": "https://localhost:8080/",
          "height": 321
        },
        "outputId": "10cd4b14-dc60-4ace-a839-33272e789628"
      },
      "source": [
        "plt.hist(df_wine['quality'])"
      ],
      "execution_count": 7,
      "outputs": [
        {
          "output_type": "execute_result",
          "data": {
            "text/plain": [
              "(array([ 10.,   0.,  53.,   0., 681.,   0., 638.,   0., 199.,  18.]),\n",
              " array([3. , 3.5, 4. , 4.5, 5. , 5.5, 6. , 6.5, 7. , 7.5, 8. ]),\n",
              " <a list of 10 Patch objects>)"
            ]
          },
          "metadata": {},
          "execution_count": 7
        },
        {
          "output_type": "display_data",
          "data": {
            "image/png": "[encoded data removed]",
            "text/plain": [
              "<Figure size 432x288 with 1 Axes>"
            ]
          },
          "metadata": {
            "needs_background": "light"
          }
        }
      ]
    },
    {
      "cell_type": "markdown",
      "metadata": {
        "id": "eQXRe_vNJ7lr"
      },
      "source": [
        "###Outlier detection"
      ]
    },
    {
      "cell_type": "code",
      "metadata": {
        "colab": {
          "base_uri": "https://localhost:8080/",
          "height": 640
        },
        "id": "h0y2_uaqEyZ4",
        "outputId": "cfecf2e8-0bba-446e-cdcb-873b1690e1cc"
      },
      "source": [
        "fig, ax = plt.subplots(3,4,figsize = [25,12])\n",
        "col = df_wine.columns\n",
        "for i in range(12):\n",
        "  ax = plt.subplot(3,4,1+i)\n",
        "  ax.boxplot(df_wine[col[i]],positions=[i/2])\n",
        "  ax.set_xlabel(col[i])\n",
        "\n",
        "  [0,1,3,4,5,6,7,8,9]"
      ],
      "execution_count": 8,
      "outputs": [
        {
          "output_type": "display_data",
          "data": {
            "image/png": "[encoded data removed]",
            "text/plain": [
              "<Figure size 1800x864 with 12 Axes>"
            ]
          },
          "metadata": {
            "needs_background": "light"
          }
        }
      ]
    },
    {
      "cell_type": "code",
      "metadata": {
        "colab": {
          "base_uri": "https://localhost:8080/",
          "height": 635
        },
        "id": "F86_twpqLiIZ",
        "outputId": "caafff94-18f7-44a3-c335-21c74b7ae6a0"
      },
      "source": [
        "fig, ax = plt.subplots(3,4,figsize = [25,12])\n",
        "col = df_wine.columns\n",
        "for i in range(12):\n",
        "  ax = plt.subplot(3,4,1+i)\n",
        "  if i in  [0,1,3,4,5,6,7,8,9]:\n",
        "    ax.boxplot(np.log(df_wine[col[i]]),positions=[i])\n",
        "  else:\n",
        "    ax.boxplot(df_wine[col[i]],positions=[i])\n",
        "\n",
        "  ax.set_xlabel(col[i])"
      ],
      "execution_count": null,
      "outputs": [
        {
          "output_type": "display_data",
          "data": {
            "image/png": "[encoded data removed]",
            "text/plain": [
              "<Figure size 1800x864 with 12 Axes>"
            ]
          },
          "metadata": {
            "needs_background": "light"
          }
        }
      ]
    },
    {
      "cell_type": "code",
      "metadata": {
        "colab": {
          "base_uri": "https://localhost:8080/",
          "height": 542
        },
        "id": "d6xU_QyPKi0W",
        "outputId": "dbf8ebb4-0d38-4f00-f2a4-35bb25232730"
      },
      "source": [
        "# Income x age\n",
        "grafico = px.scatter_matrix(df_wine, dimensions = ['residual sugar','chlorides','sulphates'],color = 'quality')\n",
        "grafico.show()"
      ],
      "execution_count": null,
      "outputs": [
        {
          "output_type": "display_data",
          "data": {
            "text/html": [
              "<html>\n",
              "<head><meta charset=\"utf-8\" /></head>\n",
              "<body>\n",
              "    <div>            <script src=\"https://cdnjs.cloudflare.com/ajax/libs/mathjax/2.7.5/MathJax.js?config=TeX-AMS-MML_SVG\"></script><script type=\"text/javascript\">if (window.MathJax) {MathJax.Hub.Config({SVG: {font: \"STIX-Web\"}});}</script>                <script type=\"text/javascript\">window.PlotlyConfig = {MathJaxConfig: 'local'};</script>\n",
              "        <script src=\"https://cdn.plot.ly/plotly-2.6.3.min.js\"></script>                <div id=\"d03d91f7-7030-4dc1-a5be-bb54457dd1ee\" class=\"plotly-graph-div\" style=\"height:525px; width:100%;\"></div>            <script type=\"text/javascript\">                                    window.PLOTLYENV=window.PLOTLYENV || {};                                    if (document.getElementById(\"d03d91f7-7030-4dc1-a5be-bb54457dd1ee\")) {                    Plotly.newPlot(                        \"d03d91f7-7030-4dc1-a5be-bb54457dd1ee\",                        [{\"dimensions\":[{\"axis\":{\"matches\":true},\"label\":\"residual sugar\",\"values\":[1.9,2.6,2.3,1.9,1.9,1.8,1.6,1.2,2.0,6.1,1.8,6.1,1.6,1.6,3.8,3.9,1.8,1.7,4.4,1.8,1.8,2.3,1.6,2.3,2.4,1.4,1.8,1.6,1.9,2.0,2.4,2.5,2.3,10.7,1.8,5.5,2.4,2.1,1.5,5.9,5.9,2.8,2.6,2.2,1.8,2.1,2.2,1.6,1.6,1.4,1.7,2.2,2.1,3.0,2.8,3.8,3.4,5.1,2.3,2.4,2.2,1.8,1.9,2.0,4.65,4.65,1.5,1.6,2.0,1.9,1.9,2.1,1.9,2.1,2.5,2.2,2.2,2.4,2.0,1.5,1.6,1.9,2.0,1.8,1.8,2.2,1.9,1.9,2.1,1.8,1.9,1.9,2.0,1.9,1.4,2.3,3.0,2.0,2.5,1.9,2.1,1.9,1.9,2.1,2.2,2.1,1.7,1.7,2.5,2.0,1.8,2.2,2.2,2.3,1.8,2.2,1.9,2.0,2.2,1.8,1.7,2.2,2.5,2.6,1.6,1.9,1.7,1.8,1.8,1.8,2.0,2.3,2.3,1.5,2.2,1.9,1.8,2.0,2.1,2.0,1.9,1.8,1.8,1.7,1.8,1.8,1.8,1.6,2.3,2.8,2.1,3.4,1.8,1.8,5.5,5.5,5.5,5.5,2.2,1.9,2.0,1.3,1.7,7.3,7.2,1.7,2.1,1.6,2.1,1.8,1.8,2.0,2.0,1.9,2.0,1.5,2.0,2.3,2.5,2.4,2.4,2.0,2.5,1.8,1.9,2.0,2.0,2.6,2.0,1.9,2.9,1.9,3.8,2.2,2.2,2.0,2.4,2.0,1.2,2.1,1.4,2.1,1.5,1.6,1.6,2.6,2.6,1.8,2.7,2.1,2.0,2.8,2.1,2.2,2.4,5.6,2.0,2.2,1.9,2.4,2.0,2.0,1.5,2.0,2.0,2.6,2.0,2.6,2.6,2.6,1.6,1.8,2.8,2.6,2.3,1.9,1.9,1.9,1.9,2.3,1.7,2.1,1.8,2.2,2.2,2.0,1.9,2.3,1.7,2.0,1.6,1.8,3.1,1.9,1.8,3.2,2.2,2.1,1.8,2.6,1.7,2.0,1.7,1.8,2.4,1.8,3.3,3.6,3.0,4.0,4.0,4.0,4.0,2.4,7.0,4.0,3.0,4.0,6.4,5.6,3.6,3.5,3.0,5.6,3.4,3.4,2.0,3.0,2.5,3.3,2.5,2.0,2.7,2.4,3.2,2.5,2.6,2.0,2.3,2.1,2.6,1.5,2.6,1.6,2.1,2.5,2.2,2.4,2.4,1.7,2.5,2.0,2.8,3.0,2.6,2.5,3.4,2.9,3.2,2.9,3.2,3.4,2.3,2.8,11.0,11.0,3.65,4.5,2.6,2.0,2.9,2.9,3.2,2.1,2.5,3.4,1.9,2.8,3.0,2.3,2.4,2.7,1.8,1.8,2.6,1.9,2.7,3.0,2.8,2.6,2.7,2.6,2.4,4.8,1.4,2.4,3.0,2.95,3.1,2.6,2.0,2.6,2.5,2.0,5.8,3.4,5.8,2.6,2.8,2.4,2.3,1.6,1.8,2.2,3.8,4.4,3.0,2.4,6.2,2.5,2.0,2.9,2.0,2.0,2.1,2.4,2.0,1.9,1.9,2.5,1.4,2.9,2.0,2.0,2.3,4.2,7.9,2.6,2.6,2.3,7.9,1.7,2.6,2.7,2.7,1.4,2.5,3.0,3.7,4.5,2.5,2.4,1.9,6.7,2.7,6.6,2.2,1.9,2.0,1.8,2.4,2.3,2.0,2.1,2.0,2.3,2.1,1.9,1.3,2.4,2.1,2.2,2.3,2.3,3.2,2.3,2.0,3.2,3.2,1.5,2.2,2.15,3.7,2.7,1.7,2.1,2.6,2.1,2.0,2.8,2.8,1.8,1.7,2.8,1.6,5.2,2.3,2.7,2.8,2.2,2.3,2.6,2.55,2.2,2.1,2.9,2.0,2.6,2.1,1.2,2.6,2.4,2.6,2.1,1.7,2.2,2.0,1.8,2.2,2.7,15.5,2.8,2.2,2.2,4.1,1.9,1.9,1.8,2.8,2.6,2.8,2.5,2.6,3.0,8.3,2.6,1.9,2.5,2.6,3.0,1.9,6.55,6.55,1.9,1.8,2.9,1.8,2.3,2.2,2.8,4.6,2.2,2.1,2.4,2.4,6.1,4.3,2.1,2.8,2.5,2.7,2.0,2.3,2.5,2.4,2.8,2.5,2.5,2.6,2.4,2.1,2.7,2.7,2.1,2.7,2.1,2.4,2.1,5.8,5.15,3.3,6.3,2.1,2.5,1.8,2.6,2.0,2.5,2.6,1.9,2.1,2.8,2.7,1.6,4.2,4.2,4.6,4.2,4.6,4.3,2.8,2.4,2.9,2.7,4.3,2.8,2.5,2.5,2.6,2.2,3.3,2.2,2.4,2.1,3.2,3.1,2.3,2.8,2.9,2.2,2.2,2.2,2.2,1.9,3.4,2.4,2.7,1.9,2.0,2.6,2.6,1.7,2.6,3.5,2.6,7.9,2.0,1.9,2.1,2.3,2.1,2.2,2.6,2.2,2.9,2.6,4.6,3.3,5.1,3.2,2.5,2.7,2.4,1.5,2.2,2.3,2.3,2.2,2.7,2.3,3.4,3.4,1.9,2.9,5.6,5.6,2.2,2.2,2.5,2.3,2.5,2.7,3.0,3.4,1.9,1.4,2.4,2.3,2.2,1.9,2.3,2.3,2.3,2.3,2.3,6.0,3.6,2.2,2.8,8.6,2.2,2.5,7.5,2.8,2.4,2.9,2.2,1.4,1.4,4.4,1.4,1.6,1.6,1.8,2.0,2.0,1.8,2.0,2.3,2.0,2.5,1.7,2.0,1.7,2.2,2.2,2.2,2.3,2.6,3.3,1.9,2.2,2.25,2.6,2.3,2.6,1.8,3.1,1.6,1.8,4.25,2.6,2.0,2.8,2.7,1.3,2.1,2.1,3.2,2.1,2.9,2.1,2.1,2.6,1.6,6.0,2.0,3.0,2.5,1.6,2.8,3.0,3.2,2.3,2.6,2.7,2.3,2.6,2.0,3.9,2.0,2.85,2.7,2.2,3.1,3.0,2.8,1.8,1.8,3.2,2.3,3.45,2.1,2.7,2.0,2.1,2.1,2.5,2.8,2.4,4.2,2.6,1.9,2.8,2.7,2.1,2.5,2.6,2.1,2.1,2.9,2.9,2.5,2.9,1.7,1.9,2.0,2.2,2.2,2.5,2.8,2.0,1.7,2.0,2.8,3.0,2.9,2.7,2.3,1.9,2.3,2.4,2.3,1.8,1.8,3.0,2.4,2.4,3.4,2.6,2.0,2.4,2.4,2.4,2.5,2.3,2.3,2.2,2.2,2.9,2.6,2.9,2.5,2.6,2.3,2.6,2.5,1.6,3.6,3.6,4.0,3.3,1.7,2.5,2.7,2.4,2.0,2.4,1.9,2.8,2.6,2.8,2.5,2.1,2.8,2.5,3.2,1.6,2.35,3.2,1.9,2.1,2.0,2.0,2.8,2.8,2.3,2.8,2.3,2.1,2.5,2.1,1.5,1.6,1.6,1.5,2.4,2.4,1.6,2.2,2.65,3.0,2.6,2.0,1.7,1.8,1.8,1.8,1.8,1.6,1.9,1.9,2.5,1.5,1.5,2.5,1.5,2.5,1.7,1.8,2.7,2.0,2.7,2.5,2.7,2.6,2.3,2.0,1.8,2.0,2.1,1.5,2.0,1.6,2.1,2.8,2.2,2.1,4.0,2.5,1.6,2.1,3.1,2.5,4.0,2.5,2.4,2.6,2.5,6.6,2.0,2.3,1.9,2.3,2.2,2.3,2.4,2.3,2.4,3.4,2.6,2.4,2.4,6.0,6.0,3.0,2.6,2.2,2.4,1.2,3.8,9.0,2.9,4.6,1.2,2.2,1.5,8.8,2.2,1.8,2.3,2.2,1.8,8.8,2.3,1.9,2.3,2.2,2.3,3.3,1.9,2.0,1.9,2.0,1.9,2.3,2.3,1.4,2.8,1.6,2.2,5.0,2.6,2.3,3.8,2.0,4.1,2.1,1.8,1.8,1.8,2.1,2.2,2.1,2.7,1.9,2.1,2.0,2.3,2.0,1.9,1.6,2.1,2.0,1.9,2.4,2.4,2.1,2.4,2.9,1.9,1.9,2.4,1.7,5.9,2.1,2.1,2.6,3.6,1.4,1.9,1.9,2.1,1.9,1.4,2.0,1.4,1.6,1.7,1.5,1.7,2.0,2.0,2.0,2.5,2.0,2.2,2.2,1.4,1.65,2.2,1.5,2.05,1.8,1.6,1.8,2.05,2.0,3.6,2.8,1.7,2.0,2.1,1.6,2.0,2.2,2.2,0.9,0.9,1.8,2.4,2.4,2.1,2.3,1.8,2.8,1.9,2.2,2.5,1.8,2.1,1.8,4.1,2.6,2.5,2.4,2.5,1.8,6.2,2.2,2.2,1.7,2.2,8.9,3.3,1.4,1.7,1.8,1.7,1.8,1.8,1.4,2.4,2.3,2.0,2.0,4.0,3.9,2.4,4.0,1.8,1.8,1.9,2.4,2.0,2.4,2.4,2.2,2.2,2.8,1.5,8.1,1.8,2.7,8.1,2.0,2.0,6.4,6.4,8.3,1.4,8.3,1.8,2.4,1.8,1.8,4.7,1.6,1.5,1.5,1.9,2.0,2.0,2.2,5.5,2.5,5.5,1.5,2.1,1.5,2.1,2.1,1.7,2.1,2.2,2.1,1.9,2.0,3.3,2.1,1.4,2.0,1.5,1.6,4.3,2.5,2.5,2.5,2.1,2.5,2.5,1.8,1.4,1.9,2.2,1.7,1.7,2.9,2.7,3.3,1.9,1.7,1.8,5.5,1.7,1.7,2.0,2.0,3.7,2.0,1.7,2.5,2.4,1.8,2.3,2.5,1.8,6.2,2.0,2.0,2.8,2.5,2.2,2.1,2.2,2.2,1.75,2.1,2.8,2.2,2.3,1.4,2.3,1.7,1.7,1.9,2.0,2.5,2.8,2.3,1.6,2.2,2.1,1.7,1.7,2.2,5.6,2.4,2.1,2.4,2.4,1.65,2.5,1.6,2.1,2.0,7.8,2.0,2.1,1.8,4.6,2.3,2.5,2.3,1.8,1.8,2.3,1.5,2.0,2.3,1.5,1.9,1.8,5.8,2.1,2.1,2.1,1.7,2.1,2.0,2.1,2.1,2.1,1.9,1.9,2.1,2.0,1.9,1.9,1.3,1.8,1.8,2.2,2.2,2.5,2.6,4.1,2.0,1.8,2.1,2.7,2.6,2.1,2.2,2.2,12.9,1.7,2.2,2.5,4.3,1.7,2.5,2.0,2.4,13.4,1.8,1.7,1.8,2.2,2.3,2.3,2.2,1.8,1.4,1.9,2.4,1.8,4.8,2.7,2.7,1.8,2.0,2.5,2.2,1.8,2.3,2.3,2.3,2.0,1.8,1.6,1.6,1.9,2.0,2.1,2.3,6.3,1.9,2.3,1.7,1.9,1.9,2.0,2.7,2.3,1.8,2.5,2.6,4.5,4.5,1.9,2.1,2.4,1.9,2.1,4.3,4.3,2.1,1.4,2.1,2.15,2.0,2.1,1.8,2.3,1.9,2.5,3.9,2.5,1.4,1.9,3.0,1.9,2.3,2.4,2.0,1.2,2.2,2.0,1.7,2.6,1.2,1.8,1.8,1.7,1.7,1.7,1.7,1.8,2.1,2.1,3.8,1.7,2.2,2.0,2.4,1.4,1.4,1.4,1.7,1.7,1.7,1.7,1.7,2.6,2.3,2.1,1.8,1.8,2.8,2.0,2.3,1.9,1.9,2.3,1.8,1.8,2.5,5.4,1.4,2.3,2.5,1.4,2.0,1.9,2.2,1.7,2.2,2.1,1.6,1.7,3.1,1.7,3.8,1.2,2.0,1.4,2.3,2.0,2.6,2.6,1.8,2.1,2.1,1.8,3.4,1.8,1.8,6.1,2.2,2.3,2.4,1.3,2.0,3.9,1.6,1.6,2.0,2.2,2.2,2.1,2.1,2.0,1.7,2.6,2.0,5.1,2.1,2.2,2.1,1.8,2.4,5.1,2.0,2.2,1.6,2.2,2.5,1.6,2.2,1.6,1.6,2.1,3.9,1.4,1.4,1.8,2.5,1.9,2.2,1.8,2.1,1.6,1.8,15.4,15.4,1.6,4.8,1.7,2.2,2.0,5.2,1.9,1.75,2.2,5.2,1.9,1.9,1.9,2.0,2.0,2.7,2.0,1.9,2.2,1.6,1.8,1.9,1.7,1.7,2.3,2.1,2.3,2.4,1.7,1.7,2.1,2.3,2.1,2.1,1.4,3.75,2.6,1.8,13.8,2.2,13.8,2.2,5.7,3.0,1.5,3.0,2.1,1.5,2.0,2.1,2.1,1.9,1.7,2.1,1.8,1.7,1.6,1.9,1.4,1.9,1.9,2.3,2.3,2.3,1.5,4.3,2.4,2.5,2.3,1.8,2.0,2.3,2.1,1.8,2.2,2.1,2.2,1.8,4.1,4.1,2.3,2.0,2.2,2.6,2.0,1.9,2.3,2.0,2.0,2.1,2.2,1.7,2.2,2.1,2.2,2.8,2.0,1.9,2.4,2.2,1.9,1.9,2.5,1.8,4.4,2.2,1.9,2.2,2.3,1.8,2.0,1.6,2.0,1.8,2.3,2.3,3.7,2.2,2.4,1.7,2.2,2.4,6.7,2.0,2.0,2.0,2.0,2.0,2.0,1.9,2.1,2.0,1.6,1.9,2.2,2.2,2.2,2.4,13.9,2.2,1.6,5.1,1.8,1.7,2.4,1.7,2.6,2.1,2.4,2.6,2.4,1.8,2.5,7.8,1.8,1.7,2.3,1.9,2.0,2.2,2.3,2.0,3.6]},{\"axis\":{\"matches\":true},\"label\":\"chlorides\",\"values\":[0.076,0.098,0.092,0.075,0.076,0.075,0.069,0.065,0.073,0.071,0.097,0.071,0.08900000000000001,0.114,0.17600000000000002,0.17,0.092,0.368,0.086,0.341,0.077,0.08199999999999999,0.106,0.084,0.085,0.08,0.08,0.106,0.08,0.08199999999999999,0.08900000000000001,0.105,0.083,0.073,0.103,0.086,0.086,0.066,0.172,0.07400000000000001,0.07400000000000001,0.08800000000000001,0.332,0.069,0.05,0.054000000000000006,0.114,0.113,0.066,0.07400000000000001,0.07400000000000001,0.069,0.068,0.081,0.11,0.084,0.07,0.111,0.076,0.07400000000000001,0.079,0.115,0.085,0.081,0.086,0.086,0.079,0.076,0.07400000000000001,0.07400000000000001,0.076,0.08800000000000001,0.084,0.084,0.094,0.093,0.093,0.104,0.086,0.08,0.069,0.464,0.086,0.401,0.069,0.076,0.11,0.062,0.107,0.076,0.079,0.11,0.11,0.062,0.045,0.058,0.102,0.07,0.079,0.08,0.084,0.075,0.08,0.077,0.07,0.077,0.467,0.08800000000000001,0.091,0.122,0.104,0.084,0.085,0.08,0.104,0.09,0.077,0.08199999999999999,0.119,0.097,0.17800000000000002,0.119,0.075,0.08,0.08199999999999999,0.146,0.081,0.08199999999999999,0.065,0.07200000000000001,0.118,0.049,0.049,0.06,0.084,0.09,0.08900000000000001,0.081,0.081,0.081,0.09,0.08900000000000001,0.05,0.066,0.05,0.117,0.087,0.236,0.07400000000000001,0.08900000000000001,0.077,0.61,0.095,0.095,0.07,0.071,0.07,0.071,0.073,0.079,0.09,0.07200000000000001,0.076,0.07,0.07,0.1,0.085,0.07200000000000001,0.08900000000000001,0.36,0.058,0.073,0.073,0.068,0.08,0.085,0.08,0.087,0.068,0.067,0.067,0.27,0.076,0.077,0.079,0.111,0.08199999999999999,0.084,0.084,0.08199999999999999,0.077,0.07400000000000001,0.099,0.071,0.071,0.07400000000000001,0.07400000000000001,0.067,0.046,0.061,0.056,0.097,0.075,0.08800000000000001,0.08900000000000001,0.095,0.095,0.069,0.1,0.054000000000000006,0.039,0.083,0.059,0.06,0.092,0.06,0.101,0.07200000000000001,0.076,0.08,0.08199999999999999,0.101,0.057,0.083,0.08900000000000001,0.073,0.337,0.08900000000000001,0.073,0.081,0.054000000000000006,0.078,0.09,0.081,0.065,0.097,0.097,0.097,0.097,0.065,0.263,0.093,0.102,0.075,0.075,0.084,0.075,0.07200000000000001,0.07400000000000001,0.084,0.063,0.07400000000000001,0.09,0.092,0.07400000000000001,0.073,0.075,0.075,0.611,0.085,0.077,0.087,0.07,0.077,0.064,0.071,0.096,0.078,0.077,0.104,0.087,0.104,0.071,0.076,0.08800000000000001,0.087,0.077,0.104,0.073,0.087,0.071,0.358,0.067,0.087,0.102,0.102,0.073,0.092,0.091,0.105,0.091,0.343,0.091,0.098,0.094,0.073,0.086,0.083,0.094,0.08,0.086,0.068,0.092,0.18600000000000005,0.112,0.063,0.08199999999999999,0.213,0.214,0.062,0.063,0.07200000000000001,0.093,0.076,0.087,0.096,0.102,0.08199999999999999,0.083,0.08199999999999999,0.083,0.09,0.079,0.09,0.071,0.071,0.121,0.107,0.08199999999999999,0.061,0.122,0.122,0.066,0.105,0.078,0.128,0.052000000000000005,0.08,0.103,0.08199999999999999,0.066,0.065,0.118,0.118,0.08199999999999999,0.067,0.07200000000000001,0.093,0.08900000000000001,0.093,0.107,0.096,0.09,0.12,0.066,0.078,0.08,0.116,0.109,0.08800000000000001,0.099,0.086,0.07200000000000001,0.071,0.083,0.107,0.083,0.076,0.159,0.07400000000000001,0.063,0.056,0.067,0.106,0.08900000000000001,0.124,0.078,0.07400000000000001,0.08800000000000001,0.094,0.08,0.085,0.08,0.08,0.087,0.09,0.08800000000000001,0.079,0.08800000000000001,0.096,0.045,0.085,0.08199999999999999,0.112,0.063,0.066,0.122,0.087,0.087,0.064,0.122,0.059,0.085,0.085,0.075,0.059,0.063,0.093,0.174,0.07,0.08,0.08,0.1,0.097,0.087,0.117,0.111,0.091,0.121,0.066,0.08900000000000001,0.059,0.047,0.066,0.047,0.059,0.045,0.077,0.07,0.08800000000000001,0.066,0.07400000000000001,0.078,0.091,0.076,0.091,0.06,0.066,0.076,0.062,0.07200000000000001,0.068,0.1,0.077,0.054000000000000006,0.079,0.081,0.127,0.1,0.095,0.095,0.413,0.084,0.084,0.063,0.086,0.095,0.097,0.084,0.07400000000000001,0.083,0.087,0.085,0.098,0.084,0.098,0.069,0.065,0.09,0.07,0.093,0.081,0.083,0.062,0.08,0.087,0.091,0.075,0.087,0.077,0.069,0.08,0.152,0.152,0.114,0.054000000000000006,0.054000000000000006,0.053,0.081,0.073,0.078,0.055,0.052000000000000005,0.086,0.051,0.07,0.081,0.09,0.07,0.086,0.081,0.07400000000000001,0.07400000000000001,0.078,0.077,0.07200000000000001,0.075,0.084,0.09,0.084,0.073,0.09,0.125,0.107,0.107,0.122,0.1,0.2,0.08800000000000001,0.08800000000000001,0.08800000000000001,0.08800000000000001,0.099,0.085,0.086,0.105,0.08800000000000001,0.097,0.084,0.077,0.078,0.098,0.098,0.07200000000000001,0.102,0.078,0.077,0.084,0.066,0.1,0.101,0.064,0.07,0.085,0.075,0.094,0.078,0.067,0.079,0.171,0.07400000000000001,0.092,0.092,0.05,0.095,0.095,0.118,0.095,0.118,0.085,0.075,0.078,0.094,0.092,0.085,0.075,0.226,0.226,0.25,0.095,0.07,0.095,0.075,0.07,0.078,0.079,0.103,0.083,0.085,0.063,0.08900000000000001,0.08900000000000001,0.083,0.07400000000000001,0.093,0.091,0.094,0.108,0.06,0.059,0.084,0.07,0.084,0.094,0.096,0.086,0.059,0.071,0.078,0.08199999999999999,0.08800000000000001,0.071,0.081,0.071,0.096,0.085,0.07200000000000001,0.092,0.11,0.075,0.083,0.081,0.077,0.058,0.14800000000000002,0.079,0.079,0.079,0.122,0.08800000000000001,0.076,0.078,0.08,0.077,0.124,0.124,0.098,0.098,0.097,0.111,0.097,0.105,0.087,0.105,0.073,0.065,0.086,0.084,0.14300000000000002,0.067,0.071,0.071,0.071,0.071,0.071,0.115,0.107,0.07,0.066,0.068,0.106,0.104,0.096,0.079,0.07400000000000001,0.087,0.106,0.073,0.07400000000000001,0.096,0.07400000000000001,0.08,0.076,0.05,0.092,0.084,0.222,0.08199999999999999,0.059,0.08199999999999999,0.083,0.07400000000000001,0.079,0.07400000000000001,0.084,0.064,0.084,0.084,0.081,0.06,0.07,0.094,0.078,0.059,0.078,0.059,0.07,0.095,0.039,0.157,0.097,0.087,0.422,0.084,0.084,0.034,0.066,0.066,0.087,0.071,0.076,0.066,0.067,0.073,0.078,0.073,0.093,0.077,0.068,0.062,0.08,0.093,0.084,0.075,0.078,0.069,0.075,0.079,0.08199999999999999,0.086,0.08199999999999999,0.094,0.084,0.053,0.086,0.077,0.084,0.067,0.067,0.071,0.387,0.08800000000000001,0.092,0.08199999999999999,0.075,0.112,0.112,0.093,0.092,0.08800000000000001,0.075,0.078,0.065,0.096,0.095,0.07,0.08,0.083,0.071,0.07,0.08900000000000001,0.08900000000000001,0.097,0.08900000000000001,0.415,0.058,0.057,0.084,0.084,0.092,0.075,0.096,0.069,0.096,0.093,0.091,0.08900000000000001,0.103,0.08199999999999999,0.076,0.08199999999999999,0.08199999999999999,0.08199999999999999,0.157,0.157,0.102,0.243,0.241,0.079,0.076,0.19,0.114,0.081,0.114,0.077,0.083,0.083,0.079,0.079,0.099,0.08199999999999999,0.084,0.081,0.055,0.065,0.132,0.126,0.038,0.08199999999999999,0.08199999999999999,0.08199999999999999,0.068,0.044,0.114,0.084,0.052000000000000005,0.041,0.052000000000000005,0.165,0.07,0.068,0.07200000000000001,0.099,0.102,0.103,0.099,0.081,0.084,0.071,0.097,0.099,0.048,0.076,0.076,0.068,0.076,0.05,0.076,0.065,0.071,0.058,0.071,0.145,0.147,0.08800000000000001,0.066,0.012,0.012,0.075,0.092,0.085,0.115,0.119,0.08800000000000001,0.062,0.081,0.081,0.078,0.081,0.08,0.085,0.085,0.08,0.08,0.08,0.071,0.08,0.073,0.054000000000000006,0.07400000000000001,0.077,0.039,0.067,0.078,0.077,0.077,0.071,0.07200000000000001,0.07400000000000001,0.08,0.064,0.086,0.067,0.067,0.104,0.109,0.067,0.064,0.094,0.076,0.078,0.068,0.194,0.076,0.094,0.086,0.083,0.066,0.07200000000000001,0.112,0.071,0.078,0.08199999999999999,0.078,0.08,0.08,0.078,0.08,0.078,0.084,0.056,0.08,0.08,0.06,0.06,0.081,0.084,0.079,0.078,0.059,0.132,0.114,0.065,0.094,0.059,0.079,0.161,0.084,0.081,0.07200000000000001,0.091,0.081,0.07200000000000001,0.084,0.055,0.064,0.061,0.093,0.055,0.063,0.08,0.07400000000000001,0.078,0.07400000000000001,0.08,0.06,0.06,0.071,0.068,0.073,0.07400000000000001,0.08199999999999999,0.092,0.094,0.09,0.071,0.092,0.093,0.075,0.075,0.075,0.093,0.058,0.052000000000000005,0.08199999999999999,0.09,0.111,0.08800000000000001,0.12,0.08900000000000001,0.058,0.078,0.115,0.1,0.058,0.065,0.103,0.097,0.068,0.079,0.066,0.066,0.104,0.079,0.073,0.083,0.083,0.109,0.061,0.075,0.065,0.079,0.07,0.065,0.075,0.064,0.066,0.08,0.097,0.073,0.097,0.08199999999999999,0.076,0.08199999999999999,0.092,0.079,0.087,0.087,0.05,0.055,0.062,0.058,0.063,0.067,0.081,0.067,0.063,0.064,0.11,0.116,0.067,0.08800000000000001,0.102,0.092,0.12,0.075,0.068,0.049,0.049,0.078,0.123,0.123,0.062,0.098,0.08800000000000001,0.095,0.066,0.065,0.075,0.08800000000000001,0.091,0.093,0.095,0.08900000000000001,0.077,0.085,0.08199999999999999,0.07400000000000001,0.078,0.08800000000000001,0.08800000000000001,0.079,0.08800000000000001,0.069,0.046,0.07,0.076,0.08199999999999999,0.081,0.084,0.08199999999999999,0.414,0.073,0.07,0.095,0.095,0.101,0.104,0.093,0.101,0.07400000000000001,0.071,0.098,0.075,0.067,0.083,0.07,0.06,0.06,0.086,0.057,0.098,0.083,0.08800000000000001,0.098,0.071,0.073,0.08,0.08,0.05,0.047,0.05,0.073,0.07200000000000001,0.073,0.07400000000000001,0.055,0.057,0.095,0.095,0.083,0.086,0.081,0.079,0.117,0.087,0.117,0.096,0.21600000000000005,0.096,0.07200000000000001,0.071,0.078,0.071,0.073,0.048,0.069,0.068,0.09,0.171,0.07,0.092,0.056,0.07400000000000001,0.046,0.091,0.091,0.091,0.065,0.066,0.076,0.062,0.055,0.081,0.096,0.055,0.063,0.07200000000000001,0.095,0.092,0.058,0.045,0.075,0.08900000000000001,0.061,0.067,0.08,0.08,0.104,0.079,0.08,0.08,0.043,0.065,0.066,0.076,0.17800000000000002,0.071,0.086,0.061,0.067,0.044,0.118,0.083,0.1,0.118,0.071,0.042,0.076,0.11,0.087,0.076,0.075,0.078,0.078,0.369,0.111,0.07400000000000001,0.067,0.086,0.062,0.078,0.07400000000000001,0.079,0.079,0.095,0.079,0.052000000000000005,0.041,0.076,0.076,0.068,0.068,0.07,0.08,0.085,0.079,0.085,0.08,0.075,0.08,0.166,0.063,0.166,0.114,0.078,0.076,0.069,0.052000000000000005,0.076,0.069,0.065,0.068,0.111,0.07400000000000001,0.07400000000000001,0.07400000000000001,0.136,0.07400000000000001,0.071,0.078,0.076,0.078,0.071,0.081,0.095,0.079,0.057,0.08199999999999999,0.044,0.132,0.132,0.078,0.07400000000000001,0.08,0.091,0.08,0.104,0.044,0.075,0.066,0.07400000000000001,0.075,0.057,0.059,0.054000000000000006,0.07,0.059,0.081,0.057,0.076,0.079,0.058,0.08199999999999999,0.067,0.08199999999999999,0.086,0.08199999999999999,0.081,0.079,0.079,0.077,0.123,0.096,0.079,0.069,0.08199999999999999,0.085,0.123,0.123,0.403,0.083,0.081,0.08900000000000001,0.066,0.081,0.081,0.068,0.079,0.044,0.048,0.049,0.077,0.073,0.102,0.075,0.05,0.114,0.075,0.062,0.077,0.077,0.084,0.096,0.071,0.09,0.068,0.056,0.068,0.068,0.1,0.073,0.056,0.084,0.073,0.093,0.093,0.064,0.063,0.13699999999999998,0.08,0.1,0.064,0.081,0.087,0.073,0.08800000000000001,0.068,0.08800000000000001,0.071,0.073,0.064,0.083,0.086,0.086,0.083,0.041,0.091,0.083,0.414,0.094,0.041,0.058,0.06,0.077,0.077,0.077,0.077,0.073,0.083,0.083,0.107,0.075,0.079,0.166,0.069,0.057,0.057,0.057,0.084,0.084,0.084,0.085,0.084,0.077,0.063,0.056,0.078,0.078,0.081,0.069,0.065,0.086,0.086,0.077,0.086,0.084,0.078,0.168,0.091,0.112,0.093,0.091,0.08,0.096,0.115,0.094,0.08800000000000001,0.079,0.069,0.415,0.153,0.415,0.11,0.267,0.083,0.086,0.09,0.078,0.077,0.077,0.07400000000000001,0.08,0.08,0.107,0.076,0.1,0.1,0.083,0.08,0.068,0.094,0.07,0.078,0.07,0.092,0.09,0.08,0.083,0.068,0.08,0.08,0.052000000000000005,0.061,0.08199999999999999,0.062,0.062,0.064,0.048,0.064,0.08199999999999999,0.071,0.062,0.104,0.077,0.065,0.077,0.064,0.077,0.077,0.077,0.079,0.079,0.123,0.076,0.076,0.046,0.078,0.07200000000000001,0.049,0.066,0.069,0.042,0.069,0.214,0.214,0.16899999999999998,0.07,0.052000000000000005,0.07200000000000001,0.062,0.094,0.078,0.058,0.07200000000000001,0.094,0.078,0.08,0.08,0.056,0.062,0.104,0.062,0.07400000000000001,0.073,0.052000000000000005,0.05,0.07400000000000001,0.067,0.054000000000000006,0.054000000000000006,0.06,0.075,0.076,0.063,0.063,0.062,0.067,0.062,0.061,0.084,0.067,0.073,0.071,0.205,0.048,0.205,0.048,0.08199999999999999,0.104,0.08,0.104,0.114,0.042,0.06,0.07400000000000001,0.07,0.066,0.049,0.048,0.039,0.049,0.05,0.08900000000000001,0.066,0.08,0.08900000000000001,0.054000000000000006,0.068,0.054000000000000006,0.076,0.083,0.078,0.077,0.106,0.078,0.07,0.106,0.07400000000000001,0.062,0.047,0.068,0.061,0.078,0.07400000000000001,0.07400000000000001,0.071,0.063,0.114,0.106,0.063,0.08199999999999999,0.071,0.076,0.075,0.064,0.064,0.071,0.096,0.063,0.063,0.081,0.058,0.07400000000000001,0.064,0.075,0.077,0.059,0.081,0.065,0.071,0.054000000000000006,0.064,0.064,0.063,0.059,0.07200000000000001,0.048,0.099,0.07400000000000001,0.087,0.083,0.103,0.08,0.062,0.065,0.066,0.062,0.235,0.08,0.08,0.08,0.076,0.076,0.076,0.061,0.059,0.076,0.077,0.056,0.23,0.038,0.069,0.075,0.07400000000000001,0.06,0.081,0.076,0.118,0.053,0.068,0.053,0.053,0.07400000000000001,0.061,0.066,0.065,0.066,0.068,0.073,0.077,0.08900000000000001,0.076,0.068,0.09,0.062,0.076,0.075,0.067]},{\"axis\":{\"matches\":true},\"label\":\"sulphates\",\"values\":[0.56,0.68,0.65,0.58,0.56,0.56,0.46,0.47,0.57,0.8,0.54,0.8,0.52,1.56,0.88,0.93,0.75,1.28,0.5,1.08,0.53,0.65,0.91,0.53,0.63,0.56,0.59,0.91,0.55,0.59,0.54,0.57,0.66,0.52,0.55,0.55,0.6,0.73,0.48,0.83,0.83,0.51,0.9,1.2,0.52,0.56,0.73,0.58,0.56,0.58,0.74,0.63,0.64,0.56,0.63,0.53,0.63,0.77,0.59,0.54,0.64,0.71,0.62,0.57,0.39,0.39,0.58,0.58,0.79,0.95,0.54,0.48,0.48,0.53,0.82,0.66,0.66,0.55,0.52,1.12,0.56,1.28,0.57,1.14,0.78,0.59,1.95,0.64,1.22,0.53,0.54,1.95,1.98,0.64,0.48,0.6,0.56,0.63,0.56,0.59,0.61,0.56,0.59,0.51,0.48,0.51,1.31,0.79,0.8,0.69,0.93,0.66,0.66,0.67,0.93,0.63,0.61,0.5,0.6,0.54,0.57,0.6,0.52,0.53,0.48,0.7,0.49,0.48,0.92,0.57,0.66,0.63,0.63,0.58,0.55,0.82,0.77,0.64,0.54,0.54,0.82,0.77,0.79,0.58,0.79,0.62,0.52,0.8,0.58,0.61,0.53,2.0,0.54,0.54,0.72,0.71,0.72,0.71,0.5,0.57,0.56,1.08,0.56,0.49,0.49,0.62,0.52,0.48,0.55,1.59,0.33,0.61,0.61,0.57,0.47,0.78,0.47,0.61,0.56,0.59,0.59,1.02,0.52,0.58,0.58,0.53,0.55,0.49,0.55,0.55,0.62,0.62,0.61,0.55,0.55,0.54,0.59,0.97,0.85,0.43,0.82,1.03,0.79,0.55,0.56,0.77,0.77,0.53,0.67,0.88,0.86,0.56,0.67,0.43,0.71,0.76,0.57,0.55,0.54,0.6,0.59,0.57,0.6,0.6,0.57,0.58,1.61,0.63,0.58,0.5,0.62,0.52,0.7,0.5,0.55,0.58,0.58,0.58,0.58,0.55,1.09,0.71,0.49,0.84,0.84,0.96,0.52,0.45,0.48,0.96,0.78,0.7,0.53,0.59,0.7,0.57,0.62,0.67,1.26,0.8,0.65,0.6,0.57,0.67,0.87,0.72,0.72,0.86,0.91,0.97,0.67,0.97,0.78,0.64,0.77,0.67,0.91,0.97,0.82,0.77,0.82,1.08,0.57,0.77,0.71,0.71,0.76,0.7,0.86,0.95,0.86,0.71,0.64,0.6,0.81,0.64,0.52,0.73,0.8,0.71,0.59,0.64,0.72,0.54,0.52,0.59,0.52,0.62,0.63,0.53,0.59,0.54,0.63,0.53,0.68,0.65,0.65,0.64,0.71,0.64,0.71,0.62,0.63,0.7,0.69,0.69,0.74,0.83,0.67,0.62,0.66,0.66,0.54,0.52,0.74,0.84,0.7,0.64,1.0,1.36,1.18,0.87,0.75,0.75,0.78,0.81,0.89,0.93,0.92,0.86,0.98,0.83,0.73,0.77,0.59,0.61,0.88,0.75,0.85,0.68,0.7,0.91,0.56,0.87,0.73,0.93,0.73,0.69,0.64,1.13,0.78,0.87,1.04,0.63,0.81,0.83,1.11,1.13,0.99,0.7,0.8,0.8,0.8,0.8,0.74,0.76,0.74,0.54,0.74,0.7,0.82,0.8,0.51,0.54,0.57,0.6,0.53,0.65,0.65,0.55,0.53,0.47,0.61,0.63,0.61,0.76,0.65,0.63,0.7,0.57,0.62,0.62,0.64,0.82,0.61,1.07,0.66,0.48,0.76,0.68,0.73,0.56,0.44,0.9,0.44,0.56,0.49,0.56,0.6,0.6,0.9,0.56,0.65,0.49,0.89,0.49,0.56,0.66,0.89,0.6,0.82,0.68,0.68,0.63,0.84,0.56,0.73,0.72,0.56,0.61,0.61,1.06,0.63,0.74,0.63,0.69,0.58,0.58,0.74,0.57,0.61,0.61,0.61,0.53,0.7,0.91,0.72,0.79,0.62,0.58,0.61,0.71,0.82,0.79,0.89,0.6,0.7,1.06,0.6,0.7,0.66,0.92,1.05,1.06,0.66,0.47,0.47,0.42,0.92,0.75,0.67,0.79,0.9,0.74,0.55,0.65,0.65,0.79,0.65,0.74,0.65,0.85,0.85,1.04,1.05,0.78,1.02,0.71,0.63,0.68,0.61,0.63,0.81,0.66,0.66,1.14,0.74,0.63,0.68,0.78,0.9,0.64,0.99,0.55,0.64,0.67,0.78,0.77,0.75,0.57,0.87,0.61,0.61,0.66,0.56,0.87,0.57,0.77,0.66,0.62,0.67,0.73,0.59,0.72,0.79,0.59,0.78,0.86,0.75,0.61,0.56,0.73,0.74,0.62,0.74,0.74,0.56,0.74,0.56,0.68,0.57,0.58,0.61,0.61,0.68,0.57,0.6,0.6,0.79,0.57,0.91,0.57,0.61,0.56,0.7,0.8,0.52,0.6,0.6,0.51,0.44,0.44,0.43,0.66,0.76,0.66,1.02,0.59,0.74,0.74,0.57,0.5,0.57,0.58,0.53,0.57,0.6,0.63,0.48,0.7,0.47,0.56,0.52,0.56,0.62,0.59,0.79,0.53,0.64,0.52,0.54,0.54,0.6,0.74,1.36,0.57,0.57,0.93,0.7,0.8,0.61,0.62,0.55,0.96,0.72,0.72,0.49,0.49,0.6,0.61,0.6,0.63,0.57,0.64,0.58,0.55,0.53,0.53,0.65,1.36,0.62,0.63,0.62,0.63,0.62,0.69,0.63,0.58,0.67,0.57,0.5,0.67,0.84,0.54,0.46,0.61,0.5,0.68,0.81,0.57,0.81,0.64,0.7,0.79,0.66,0.56,0.6,0.66,0.57,0.66,0.58,0.52,0.53,0.52,0.67,0.65,0.67,0.48,0.53,0.54,0.49,0.49,0.54,0.56,0.48,0.56,0.6,0.59,0.47,1.05,0.54,0.54,1.17,0.62,0.61,0.62,0.67,0.67,0.53,0.62,0.57,0.67,0.67,0.7,0.54,0.49,0.47,0.51,0.61,0.66,0.57,0.61,0.45,0.46,0.51,0.48,0.46,0.57,0.44,0.54,0.44,0.53,0.59,1.62,0.6,0.55,0.72,0.68,0.68,0.49,0.67,0.52,0.47,0.6,0.62,0.5,0.5,0.65,0.56,0.6,0.68,0.57,0.65,0.53,0.51,0.73,0.47,0.48,0.72,0.73,0.55,0.55,0.61,0.55,1.06,0.43,0.46,0.5,0.5,0.52,0.57,0.42,0.53,0.42,0.55,0.54,0.54,0.62,0.53,0.54,0.53,0.55,0.55,0.92,0.91,0.46,0.6,0.59,0.61,0.6,0.6,0.65,0.53,0.65,0.59,0.5,0.5,0.56,0.56,0.52,0.68,0.54,0.6,0.56,0.53,1.18,0.74,0.81,0.52,0.52,0.51,0.44,0.94,0.66,0.57,0.7,0.71,0.7,0.86,0.55,0.47,0.68,0.71,0.58,0.76,0.71,0.58,0.73,0.45,0.54,0.6,0.74,0.64,0.64,0.53,0.49,0.64,0.49,0.74,0.77,0.55,0.77,0.86,0.86,0.47,0.51,0.39,0.39,0.83,0.47,0.77,0.63,0.72,0.62,0.83,0.66,0.66,0.7,0.66,0.66,0.55,0.55,1.07,0.73,0.73,0.71,0.73,0.78,0.67,0.82,0.54,0.6,0.44,0.53,0.54,0.54,0.83,0.84,0.82,0.64,0.57,0.57,0.54,0.58,0.65,0.79,0.58,0.57,0.5,0.55,0.49,0.65,0.78,0.55,0.5,0.64,0.65,0.79,0.56,0.68,0.58,0.57,0.65,0.57,0.58,0.58,0.77,0.58,0.77,0.49,0.69,0.69,0.69,0.59,0.59,0.59,0.71,0.54,0.59,0.52,0.57,0.6,0.62,0.64,0.52,0.67,0.61,0.64,0.72,0.89,0.56,0.72,0.89,0.64,0.8,0.87,0.9,0.59,0.8,0.73,0.73,0.65,0.59,0.65,0.73,0.72,0.72,0.6,0.72,0.54,0.76,0.52,0.64,0.6,0.64,0.79,0.99,0.62,0.76,0.76,0.76,0.62,0.68,0.69,0.54,0.67,0.62,0.58,0.71,0.61,0.85,0.62,0.69,0.69,0.85,0.86,0.58,0.48,0.6,0.61,0.87,0.87,0.65,0.63,0.62,0.52,0.52,0.5,0.49,0.63,0.71,0.62,0.82,0.71,0.63,0.58,0.55,0.5,0.49,0.51,0.49,0.48,0.48,0.48,0.43,0.62,0.63,0.63,0.48,0.53,0.72,0.82,0.84,0.55,0.54,0.55,0.84,0.84,0.7,0.68,0.55,0.55,0.48,0.58,0.58,0.84,0.75,0.44,0.44,0.61,0.53,0.53,0.54,0.55,0.56,0.6,0.56,0.52,0.54,0.56,0.55,0.58,0.53,0.59,0.47,0.65,0.59,0.56,0.77,0.83,0.67,0.64,0.83,0.81,0.62,0.58,0.62,0.64,0.78,0.77,0.64,1.34,0.55,0.77,0.62,0.62,0.59,0.57,0.76,0.59,0.7,0.69,0.64,0.63,0.57,0.6,0.72,0.83,0.83,0.62,0.89,0.58,0.58,0.58,0.58,0.86,0.73,0.58,0.58,0.51,0.51,0.51,0.59,0.77,0.59,0.49,0.66,0.69,0.76,0.76,0.63,0.6,0.59,0.86,0.49,0.5,0.49,0.52,0.81,0.52,0.78,0.63,0.54,0.63,0.66,0.6,0.54,0.85,0.49,0.76,0.64,0.64,0.71,0.59,0.66,0.6,0.6,0.6,0.53,0.58,0.72,0.55,0.48,0.65,0.62,0.59,0.54,0.6,0.68,0.69,0.63,0.44,0.88,0.68,0.74,0.6,0.76,0.76,0.58,0.64,0.65,0.85,0.65,0.82,0.62,0.81,0.87,0.49,0.66,0.52,0.76,0.65,0.53,0.66,0.68,0.53,0.76,0.87,1.16,0.67,0.72,0.75,0.71,0.67,0.67,1.1,0.98,0.88,0.56,0.62,0.67,0.68,0.74,0.62,0.62,0.7,0.5,0.66,0.73,0.81,0.81,0.46,0.86,0.6,0.7,0.46,0.5,0.46,0.7,0.44,0.57,0.51,0.8,0.51,0.59,0.6,0.58,0.54,0.79,0.58,0.54,0.54,0.69,0.55,0.85,0.85,0.85,0.94,0.85,0.87,0.62,0.62,0.62,0.75,0.48,0.56,0.69,0.81,0.69,0.83,0.77,0.77,0.46,0.76,0.82,0.51,0.47,0.72,0.73,0.64,0.78,0.62,0.64,0.49,0.4,0.56,0.64,0.4,0.46,0.56,0.4,0.59,0.6,0.62,0.54,0.68,0.48,0.68,0.75,0.61,0.61,0.59,0.58,0.58,0.69,0.45,0.42,0.7,0.63,0.63,1.15,0.55,0.58,0.46,0.72,0.6,0.6,0.87,0.55,0.82,0.75,0.57,0.53,0.43,0.53,0.54,0.56,0.6,0.54,0.57,0.64,0.64,0.68,0.63,0.56,0.57,0.54,0.37,1.17,1.17,0.59,0.75,0.67,0.49,0.75,0.45,0.45,0.61,0.56,0.4,0.61,0.74,0.8,0.66,0.44,0.53,0.62,0.52,0.62,0.61,0.53,0.59,0.47,0.54,0.53,0.58,0.59,0.69,0.58,1.33,0.66,0.59,0.55,0.82,0.6,0.6,0.6,0.6,0.52,0.56,0.56,0.46,0.43,0.51,0.52,0.66,0.45,0.45,0.45,0.54,0.54,0.54,0.51,0.54,0.53,0.53,0.56,0.39,0.39,0.52,0.57,0.51,0.46,0.46,0.52,0.44,0.44,0.59,0.5,0.65,0.56,0.54,0.65,0.48,0.53,0.62,0.5,1.18,0.5,0.37,1.17,1.03,1.17,0.45,0.51,0.52,0.46,0.62,0.51,0.62,0.62,0.45,0.49,0.49,0.5,0.42,0.58,0.58,0.68,0.53,0.59,0.58,0.48,0.48,0.48,0.65,0.65,0.52,0.62,0.72,0.51,0.51,0.82,1.1,0.62,0.9,0.94,0.93,1.01,0.93,0.44,0.73,0.94,0.9,0.78,0.84,0.78,0.77,0.46,0.45,0.46,0.58,0.84,0.67,0.7,0.7,0.71,0.58,0.63,0.93,0.62,0.54,0.85,0.74,0.77,0.77,0.65,0.54,0.47,0.68,0.73,0.52,0.75,0.49,0.68,0.52,0.75,0.74,0.73,0.76,0.73,0.78,0.76,0.58,0.69,0.63,0.5,0.58,0.6,0.8,0.68,0.61,0.58,0.53,0.67,0.67,0.65,0.57,0.65,0.55,0.47,0.52,0.79,0.54,0.75,0.88,0.75,0.88,0.52,0.68,0.62,0.68,0.57,0.61,0.64,0.55,0.6,0.78,0.58,0.76,0.56,0.58,0.54,0.59,0.7,0.81,0.59,0.63,0.58,0.63,0.53,0.53,0.54,0.69,0.55,0.63,0.66,0.55,0.72,0.7,0.77,0.67,0.65,0.6,0.72,0.72,0.97,0.83,0.63,0.58,0.83,0.43,0.97,0.6,0.78,0.64,0.65,0.66,0.67,0.6,0.69,0.66,0.68,0.61,0.62,0.59,0.68,0.64,0.63,0.78,0.63,0.76,0.56,0.57,0.81,0.64,0.61,0.51,0.58,0.7,0.53,0.54,0.66,0.6,0.6,0.68,0.56,0.6,0.56,0.52,0.52,0.52,0.54,0.54,0.54,0.82,0.71,0.54,0.59,0.57,0.93,0.65,0.51,0.67,0.48,0.64,0.78,0.6,0.67,0.6,0.6,0.6,0.5,0.62,0.8,0.84,0.85,0.66,0.78,0.54,0.82,0.56,0.75,0.82,0.58,0.76,0.75,0.71,0.66]}],\"hovertemplate\":\"%{xaxis.title.text}=%{x}<br>%{yaxis.title.text}=%{y}<br>quality=%{marker.color}<extra></extra>\",\"legendgroup\":\"\",\"marker\":{\"color\":[5,5,5,6,5,5,5,7,7,5,5,5,5,5,5,5,7,5,4,6,6,5,5,5,6,5,5,5,5,6,5,6,5,6,5,6,6,7,4,5,5,4,6,5,5,4,5,5,5,5,5,6,6,5,6,5,5,5,5,6,5,5,7,5,5,5,5,5,5,6,6,5,5,4,5,5,5,6,5,4,5,5,5,5,6,5,6,5,5,5,5,6,5,5,4,6,5,5,5,6,6,6,6,5,5,5,5,5,6,5,5,5,5,6,5,6,6,6,6,6,5,6,5,5,5,5,5,5,7,5,5,5,5,6,6,5,5,5,5,5,5,5,6,5,6,5,5,5,6,6,6,4,5,5,5,5,5,5,5,6,5,4,6,5,5,5,5,4,6,5,4,6,6,6,5,5,5,6,5,5,5,5,5,5,6,5,5,5,5,5,5,6,5,5,5,5,5,6,7,4,7,5,5,5,6,7,7,5,5,7,6,6,6,5,6,5,5,5,5,5,6,5,5,6,4,6,6,5,6,5,7,6,6,5,6,6,6,6,6,6,5,6,6,7,7,6,5,5,6,6,6,6,5,5,6,5,5,5,5,7,5,4,5,5,5,7,4,8,6,6,6,6,5,5,5,6,6,6,8,7,6,7,5,7,5,5,6,6,7,5,7,5,6,6,6,5,5,5,5,5,6,6,5,5,5,6,5,6,6,6,6,6,6,5,5,6,5,6,7,6,7,5,5,6,6,6,7,5,6,5,6,6,6,5,7,7,6,5,6,7,6,6,6,6,6,5,7,6,6,6,6,6,5,5,6,6,5,7,7,6,5,6,5,5,7,6,7,5,5,7,5,6,6,5,6,7,6,7,6,6,6,6,6,6,5,6,6,6,6,7,8,6,5,5,5,7,5,6,6,5,5,6,6,6,5,6,6,7,6,4,6,5,5,7,5,5,6,5,6,5,7,7,5,7,5,7,6,6,5,6,7,5,6,5,6,5,6,6,6,5,8,6,7,7,7,6,5,5,6,6,6,6,6,7,5,8,5,5,7,3,6,5,5,5,6,5,6,6,6,5,5,6,6,5,6,5,5,6,5,6,5,8,5,5,6,5,5,6,7,6,6,7,7,6,6,8,6,5,8,6,6,7,7,7,7,7,7,6,6,7,5,6,6,7,7,5,6,3,6,5,6,5,5,5,5,5,5,6,6,5,6,5,5,6,6,6,5,6,7,5,5,6,5,6,6,5,6,6,6,6,6,6,6,5,5,5,6,5,6,6,5,5,5,6,6,5,6,6,6,6,6,6,5,4,6,6,4,5,5,6,5,5,5,7,7,6,7,5,8,7,5,6,5,5,5,5,6,6,6,6,4,6,5,6,6,6,7,6,6,6,5,5,6,5,6,5,5,6,5,5,5,5,5,6,5,5,5,5,6,5,6,5,6,4,5,5,5,5,7,6,5,5,5,5,5,7,5,4,7,6,5,5,5,6,5,5,5,7,6,4,6,5,6,6,5,5,6,6,5,6,5,5,5,5,6,5,6,5,5,5,5,6,5,5,5,5,5,5,5,5,3,5,5,5,5,6,6,6,5,6,6,6,6,4,4,5,5,5,6,6,5,5,5,5,5,6,5,5,5,5,5,5,5,5,4,5,6,5,5,6,5,5,5,5,5,5,5,6,5,5,6,5,5,5,5,6,6,5,6,6,5,5,5,5,6,6,6,5,5,5,5,5,6,5,6,6,5,5,6,5,6,5,5,6,6,5,6,6,5,5,6,5,5,5,5,5,5,6,6,5,6,5,6,5,6,5,5,7,6,6,5,5,7,6,6,7,7,7,5,6,5,6,5,4,6,5,6,6,5,5,5,7,5,5,5,5,7,5,8,6,4,6,3,4,5,5,7,7,7,5,7,5,6,5,6,5,5,6,5,5,5,5,5,6,6,7,6,7,7,6,5,6,5,5,5,5,6,6,6,6,6,5,4,7,7,7,4,6,6,5,5,6,6,5,6,5,6,7,6,5,5,5,6,5,6,6,7,6,7,3,5,7,7,7,7,5,5,6,6,6,6,6,6,7,6,6,5,6,6,6,5,6,6,6,5,7,6,4,5,7,5,5,6,5,5,6,6,4,7,5,7,7,7,7,7,7,7,7,7,7,7,7,7,7,6,5,6,6,7,5,6,5,5,6,6,6,7,5,6,5,6,6,7,5,7,5,5,5,7,5,6,5,6,6,5,6,7,5,5,6,5,5,6,5,5,6,7,7,6,6,7,7,7,7,5,7,7,7,7,5,7,6,5,6,6,6,7,6,6,5,6,6,5,6,7,6,6,5,6,7,7,7,5,6,6,7,7,5,7,6,5,6,6,7,6,6,6,5,6,6,5,5,5,7,6,6,7,5,7,7,6,8,6,6,6,6,7,7,7,5,7,5,6,6,5,7,6,5,5,7,6,7,6,6,6,5,7,6,7,7,8,6,6,7,6,5,6,5,7,5,6,6,6,6,6,5,6,7,5,6,6,7,6,6,6,6,6,6,6,5,8,6,6,6,4,7,6,6,5,6,6,5,7,7,7,6,6,6,5,6,6,6,6,6,5,6,6,7,6,6,7,6,5,6,6,5,7,7,6,5,7,6,7,5,5,5,5,7,6,6,6,6,6,6,6,6,4,7,5,6,6,5,6,5,5,6,5,6,5,4,6,5,7,5,6,6,6,6,6,6,6,7,8,5,7,7,7,5,7,7,6,5,6,6,6,6,6,6,6,6,6,6,6,6,6,5,5,5,7,5,6,5,5,4,6,4,6,6,4,4,5,5,6,5,6,5,5,5,6,6,6,5,5,5,5,5,5,6,6,6,5,4,5,4,6,6,6,6,6,8,6,6,5,5,6,6,4,6,6,7,6,6,6,6,5,5,6,5,5,5,5,6,6,4,6,5,5,6,6,3,6,6,6,5,5,5,5,4,5,5,5,6,5,6,6,6,6,6,6,6,5,6,5,7,6,6,6,6,5,6,6,5,6,5,5,6,5,5,5,6,6,6,6,6,5,6,5,5,5,5,5,6,5,5,5,5,5,6,5,6,5,5,6,4,6,5,5,6,6,4,5,6,5,5,3,5,5,6,6,6,6,5,5,5,5,5,5,5,5,5,6,5,5,5,5,6,5,5,7,6,5,5,6,8,6,7,6,6,7,6,6,6,6,5,5,5,5,7,5,5,5,5,6,4,6,6,6,5,5,5,5,6,6,7,6,6,5,5,5,6,7,6,5,5,6,6,5,5,5,8,7,7,7,5,6,6,6,5,5,7,6,4,6,6,5,5,7,4,7,3,5,5,6,5,5,7,5,7,3,5,4,5,4,5,4,5,5,5,5,6,6,5,5,5,7,6,5,6,6,6,5,5,5,6,6,3,6,6,6,5,6,5,6,6,6,6,5,6,5,5,6,4,5,5,6,5,6,6,6,6,6,5,6,5,7,6,6,6,5,5,6,7,6,6,7,6,5,5,5,8,5,5,6,5,6,7,5,6,5,5,5,5,5,5,5,6,6,5,5,6,6,6,5,6,6,6,6,6,6,5,6,5,5,5,7,6,6,6,6,5,6,6,6,6,5,6,6,5,6],\"coloraxis\":\"coloraxis\",\"symbol\":\"circle\"},\"name\":\"\",\"showlegend\":false,\"type\":\"splom\"}],                        {\"template\":{\"data\":{\"bar\":[{\"error_x\":{\"color\":\"#2a3f5f\"},\"error_y\":{\"color\":\"#2a3f5f\"},\"marker\":{\"line\":{\"color\":\"#E5ECF6\",\"width\":0.5},\"pattern\":{\"fillmode\":\"overlay\",\"size\":10,\"solidity\":0.2}},\"type\":\"bar\"}],\"barpolar\":[{\"marker\":{\"line\":{\"color\":\"#E5ECF6\",\"width\":0.5},\"pattern\":{\"fillmode\":\"overlay\",\"size\":10,\"solidity\":0.2}},\"type\":\"barpolar\"}],\"carpet\":[{\"aaxis\":{\"endlinecolor\":\"#2a3f5f\",\"gridcolor\":\"white\",\"linecolor\":\"white\",\"minorgridcolor\":\"white\",\"startlinecolor\":\"#2a3f5f\"},\"baxis\":{\"endlinecolor\":\"#2a3f5f\",\"gridcolor\":\"white\",\"linecolor\":\"white\",\"minorgridcolor\":\"white\",\"startlinecolor\":\"#2a3f5f\"},\"type\":\"carpet\"}],\"choropleth\":[{\"colorbar\":{\"outlinewidth\":0,\"ticks\":\"\"},\"type\":\"choropleth\"}],\"contour\":[{\"colorbar\":{\"outlinewidth\":0,\"ticks\":\"\"},\"colorscale\":[[0.0,\"#0d0887\"],[0.1111111111111111,\"#46039f\"],[0.2222222222222222,\"#7201a8\"],[0.3333333333333333,\"#9c179e\"],[0.4444444444444444,\"#bd3786\"],[0.5555555555555556,\"#d8576b\"],[0.6666666666666666,\"#ed7953\"],[0.7777777777777778,\"#fb9f3a\"],[0.8888888888888888,\"#fdca26\"],[1.0,\"#f0f921\"]],\"type\":\"contour\"}],\"contourcarpet\":[{\"colorbar\":{\"outlinewidth\":0,\"ticks\":\"\"},\"type\":\"contourcarpet\"}],\"heatmap\":[{\"colorbar\":{\"outlinewidth\":0,\"ticks\":\"\"},\"colorscale\":[[0.0,\"#0d0887\"],[0.1111111111111111,\"#46039f\"],[0.2222222222222222,\"#7201a8\"],[0.3333333333333333,\"#9c179e\"],[0.4444444444444444,\"#bd3786\"],[0.5555555555555556,\"#d8576b\"],[0.6666666666666666,\"#ed7953\"],[0.7777777777777778,\"#fb9f3a\"],[0.8888888888888888,\"#fdca26\"],[1.0,\"#f0f921\"]],\"type\":\"heatmap\"}],\"heatmapgl\":[{\"colorbar\":{\"outlinewidth\":0,\"ticks\":\"\"},\"colorscale\":[[0.0,\"#0d0887\"],[0.1111111111111111,\"#46039f\"],[0.2222222222222222,\"#7201a8\"],[0.3333333333333333,\"#9c179e\"],[0.4444444444444444,\"#bd3786\"],[0.5555555555555556,\"#d8576b\"],[0.6666666666666666,\"#ed7953\"],[0.7777777777777778,\"#fb9f3a\"],[0.8888888888888888,\"#fdca26\"],[1.0,\"#f0f921\"]],\"type\":\"heatmapgl\"}],\"histogram\":[{\"marker\":{\"pattern\":{\"fillmode\":\"overlay\",\"size\":10,\"solidity\":0.2}},\"type\":\"histogram\"}],\"histogram2d\":[{\"colorbar\":{\"outlinewidth\":0,\"ticks\":\"\"},\"colorscale\":[[0.0,\"#0d0887\"],[0.1111111111111111,\"#46039f\"],[0.2222222222222222,\"#7201a8\"],[0.3333333333333333,\"#9c179e\"],[0.4444444444444444,\"#bd3786\"],[0.5555555555555556,\"#d8576b\"],[0.6666666666666666,\"#ed7953\"],[0.7777777777777778,\"#fb9f3a\"],[0.8888888888888888,\"#fdca26\"],[1.0,\"#f0f921\"]],\"type\":\"histogram2d\"}],\"histogram2dcontour\":[{\"colorbar\":{\"outlinewidth\":0,\"ticks\":\"\"},\"colorscale\":[[0.0,\"#0d0887\"],[0.1111111111111111,\"#46039f\"],[0.2222222222222222,\"#7201a8\"],[0.3333333333333333,\"#9c179e\"],[0.4444444444444444,\"#bd3786\"],[0.5555555555555556,\"#d8576b\"],[0.6666666666666666,\"#ed7953\"],[0.7777777777777778,\"#fb9f3a\"],[0.8888888888888888,\"#fdca26\"],[1.0,\"#f0f921\"]],\"type\":\"histogram2dcontour\"}],\"mesh3d\":[{\"colorbar\":{\"outlinewidth\":0,\"ticks\":\"\"},\"type\":\"mesh3d\"}],\"parcoords\":[{\"line\":{\"colorbar\":{\"outlinewidth\":0,\"ticks\":\"\"}},\"type\":\"parcoords\"}],\"pie\":[{\"automargin\":true,\"type\":\"pie\"}],\"scatter\":[{\"marker\":{\"colorbar\":{\"outlinewidth\":0,\"ticks\":\"\"}},\"type\":\"scatter\"}],\"scatter3d\":[{\"line\":{\"colorbar\":{\"outlinewidth\":0,\"ticks\":\"\"}},\"marker\":{\"colorbar\":{\"outlinewidth\":0,\"ticks\":\"\"}},\"type\":\"scatter3d\"}],\"scattercarpet\":[{\"marker\":{\"colorbar\":{\"outlinewidth\":0,\"ticks\":\"\"}},\"type\":\"scattercarpet\"}],\"scattergeo\":[{\"marker\":{\"colorbar\":{\"outlinewidth\":0,\"ticks\":\"\"}},\"type\":\"scattergeo\"}],\"scattergl\":[{\"marker\":{\"colorbar\":{\"outlinewidth\":0,\"ticks\":\"\"}},\"type\":\"scattergl\"}],\"scattermapbox\":[{\"marker\":{\"colorbar\":{\"outlinewidth\":0,\"ticks\":\"\"}},\"type\":\"scattermapbox\"}],\"scatterpolar\":[{\"marker\":{\"colorbar\":{\"outlinewidth\":0,\"ticks\":\"\"}},\"type\":\"scatterpolar\"}],\"scatterpolargl\":[{\"marker\":{\"colorbar\":{\"outlinewidth\":0,\"ticks\":\"\"}},\"type\":\"scatterpolargl\"}],\"scatterternary\":[{\"marker\":{\"colorbar\":{\"outlinewidth\":0,\"ticks\":\"\"}},\"type\":\"scatterternary\"}],\"surface\":[{\"colorbar\":{\"outlinewidth\":0,\"ticks\":\"\"},\"colorscale\":[[0.0,\"#0d0887\"],[0.1111111111111111,\"#46039f\"],[0.2222222222222222,\"#7201a8\"],[0.3333333333333333,\"#9c179e\"],[0.4444444444444444,\"#bd3786\"],[0.5555555555555556,\"#d8576b\"],[0.6666666666666666,\"#ed7953\"],[0.7777777777777778,\"#fb9f3a\"],[0.8888888888888888,\"#fdca26\"],[1.0,\"#f0f921\"]],\"type\":\"surface\"}],\"table\":[{\"cells\":{\"fill\":{\"color\":\"#EBF0F8\"},\"line\":{\"color\":\"white\"}},\"header\":{\"fill\":{\"color\":\"#C8D4E3\"},\"line\":{\"color\":\"white\"}},\"type\":\"table\"}]},\"layout\":{\"annotationdefaults\":{\"arrowcolor\":\"#2a3f5f\",\"arrowhead\":0,\"arrowwidth\":1},\"autotypenumbers\":\"strict\",\"coloraxis\":{\"colorbar\":{\"outlinewidth\":0,\"ticks\":\"\"}},\"colorscale\":{\"diverging\":[[0,\"#8e0152\"],[0.1,\"#c51b7d\"],[0.2,\"#de77ae\"],[0.3,\"#f1b6da\"],[0.4,\"#fde0ef\"],[0.5,\"#f7f7f7\"],[0.6,\"#e6f5d0\"],[0.7,\"#b8e186\"],[0.8,\"#7fbc41\"],[0.9,\"#4d9221\"],[1,\"#276419\"]],\"sequential\":[[0.0,\"#0d0887\"],[0.1111111111111111,\"#46039f\"],[0.2222222222222222,\"#7201a8\"],[0.3333333333333333,\"#9c179e\"],[0.4444444444444444,\"#bd3786\"],[0.5555555555555556,\"#d8576b\"],[0.6666666666666666,\"#ed7953\"],[0.7777777777777778,\"#fb9f3a\"],[0.8888888888888888,\"#fdca26\"],[1.0,\"#f0f921\"]],\"sequentialminus\":[[0.0,\"#0d0887\"],[0.1111111111111111,\"#46039f\"],[0.2222222222222222,\"#7201a8\"],[0.3333333333333333,\"#9c179e\"],[0.4444444444444444,\"#bd3786\"],[0.5555555555555556,\"#d8576b\"],[0.6666666666666666,\"#ed7953\"],[0.7777777777777778,\"#fb9f3a\"],[0.8888888888888888,\"#fdca26\"],[1.0,\"#f0f921\"]]},\"colorway\":[\"#636efa\",\"#EF553B\",\"#00cc96\",\"#ab63fa\",\"#FFA15A\",\"#19d3f3\",\"#FF6692\",\"#B6E880\",\"#FF97FF\",\"#FECB52\"],\"font\":{\"color\":\"#2a3f5f\"},\"geo\":{\"bgcolor\":\"white\",\"lakecolor\":\"white\",\"landcolor\":\"#E5ECF6\",\"showlakes\":true,\"showland\":true,\"subunitcolor\":\"white\"},\"hoverlabel\":{\"align\":\"left\"},\"hovermode\":\"closest\",\"mapbox\":{\"style\":\"light\"},\"paper_bgcolor\":\"white\",\"plot_bgcolor\":\"#E5ECF6\",\"polar\":{\"angularaxis\":{\"gridcolor\":\"white\",\"linecolor\":\"white\",\"ticks\":\"\"},\"bgcolor\":\"#E5ECF6\",\"radialaxis\":{\"gridcolor\":\"white\",\"linecolor\":\"white\",\"ticks\":\"\"}},\"scene\":{\"xaxis\":{\"backgroundcolor\":\"#E5ECF6\",\"gridcolor\":\"white\",\"gridwidth\":2,\"linecolor\":\"white\",\"showbackground\":true,\"ticks\":\"\",\"zerolinecolor\":\"white\"},\"yaxis\":{\"backgroundcolor\":\"#E5ECF6\",\"gridcolor\":\"white\",\"gridwidth\":2,\"linecolor\":\"white\",\"showbackground\":true,\"ticks\":\"\",\"zerolinecolor\":\"white\"},\"zaxis\":{\"backgroundcolor\":\"#E5ECF6\",\"gridcolor\":\"white\",\"gridwidth\":2,\"linecolor\":\"white\",\"showbackground\":true,\"ticks\":\"\",\"zerolinecolor\":\"white\"}},\"shapedefaults\":{\"line\":{\"color\":\"#2a3f5f\"}},\"ternary\":{\"aaxis\":{\"gridcolor\":\"white\",\"linecolor\":\"white\",\"ticks\":\"\"},\"baxis\":{\"gridcolor\":\"white\",\"linecolor\":\"white\",\"ticks\":\"\"},\"bgcolor\":\"#E5ECF6\",\"caxis\":{\"gridcolor\":\"white\",\"linecolor\":\"white\",\"ticks\":\"\"}},\"title\":{\"x\":0.05},\"xaxis\":{\"automargin\":true,\"gridcolor\":\"white\",\"linecolor\":\"white\",\"ticks\":\"\",\"title\":{\"standoff\":15},\"zerolinecolor\":\"white\",\"zerolinewidth\":2},\"yaxis\":{\"automargin\":true,\"gridcolor\":\"white\",\"linecolor\":\"white\",\"ticks\":\"\",\"title\":{\"standoff\":15},\"zerolinecolor\":\"white\",\"zerolinewidth\":2}}},\"coloraxis\":{\"colorbar\":{\"title\":{\"text\":\"quality\"}},\"colorscale\":[[0.0,\"#0d0887\"],[0.1111111111111111,\"#46039f\"],[0.2222222222222222,\"#7201a8\"],[0.3333333333333333,\"#9c179e\"],[0.4444444444444444,\"#bd3786\"],[0.5555555555555556,\"#d8576b\"],[0.6666666666666666,\"#ed7953\"],[0.7777777777777778,\"#fb9f3a\"],[0.8888888888888888,\"#fdca26\"],[1.0,\"#f0f921\"]]},\"legend\":{\"tracegroupgap\":0},\"margin\":{\"t\":60},\"dragmode\":\"select\"},                        {\"responsive\": true}                    ).then(function(){\n",
              "                            \n",
              "var gd = document.getElementById('d03d91f7-7030-4dc1-a5be-bb54457dd1ee');\n",
              "var x = new MutationObserver(function (mutations, observer) {{\n",
              "        var display = window.getComputedStyle(gd).display;\n",
              "        if (!display || display === 'none') {{\n",
              "            console.log([gd, 'removed!']);\n",
              "            Plotly.purge(gd);\n",
              "            observer.disconnect();\n",
              "        }}\n",
              "}});\n",
              "\n",
              "// Listen for the removal of the full notebook cells\n",
              "var notebookContainer = gd.closest('#notebook-container');\n",
              "if (notebookContainer) {{\n",
              "    x.observe(notebookContainer, {childList: true});\n",
              "}}\n",
              "\n",
              "// Listen for the clearing of the current output cell\n",
              "var outputEl = gd.closest('.output');\n",
              "if (outputEl) {{\n",
              "    x.observe(outputEl, {childList: true});\n",
              "}}\n",
              "\n",
              "                        })                };                            </script>        </div>\n",
              "</body>\n",
              "</html>"
            ]
          },
          "metadata": {}
        }
      ]
    },
    {
      "cell_type": "code",
      "metadata": {
        "id": "comDQW_Clx9g"
      },
      "source": [
        "#Scaling of data"
      ],
      "execution_count": null,
      "outputs": []
    },
    {
      "cell_type": "markdown",
      "metadata": {
        "id": "ocLmnoRcmCjy"
      },
      "source": [
        "#Data pre-processing"
      ]
    },
    {
      "cell_type": "code",
      "metadata": {
        "colab": {
          "base_uri": "https://localhost:8080/",
          "height": 485
        },
        "id": "5ObkpKDskPxN",
        "outputId": "367c3780-3ab7-40c9-c954-4b976f946a2f"
      },
      "source": [
        "df_wine = pd.read_csv('winequality-red.csv')\n",
        "df_wine"
      ],
      "execution_count": 9,
      "outputs": [
        {
          "output_type": "execute_result",
          "data": {
            "text/html": [
              "\n",
              "  <div id=\"df-5ddccb80-9b42-4b0c-8557-43386a02361f\">\n",
              "    <div class=\"colab-df-container\">\n",
              "      <div>\n",
              "<style scoped>\n",
              "    .dataframe tbody tr th:only-of-type {\n",
              "        vertical-align: middle;\n",
              "    }\n",
              "\n",
              "    .dataframe tbody tr th {\n",
              "        vertical-align: top;\n",
              "    }\n",
              "\n",
              "    .dataframe thead th {\n",
              "        text-align: right;\n",
              "    }\n",
              "</style>\n",
              "<table border=\"1\" class=\"dataframe\">\n",
              "  <thead>\n",
              "    <tr style=\"text-align: right;\">\n",
              "      <th></th>\n",
              "      <th>fixed acidity</th>\n",
              "      <th>volatile acidity</th>\n",
              "      <th>citric acid</th>\n",
              "      <th>residual sugar</th>\n",
              "      <th>chlorides</th>\n",
              "      <th>free sulfur dioxide</th>\n",
              "      <th>total sulfur dioxide</th>\n",
              "      <th>density</th>\n",
              "      <th>pH</th>\n",
              "      <th>sulphates</th>\n",
              "      <th>alcohol</th>\n",
              "      <th>quality</th>\n",
              "    </tr>\n",
              "  </thead>\n",
              "  <tbody>\n",
              "    <tr>\n",
              "      <th>0</th>\n",
              "      <td>7.4</td>\n",
              "      <td>0.700</td>\n",
              "      <td>0.00</td>\n",
              "      <td>1.9</td>\n",
              "      <td>0.076</td>\n",
              "      <td>11.0</td>\n",
              "      <td>34.0</td>\n",
              "      <td>0.99780</td>\n",
              "      <td>3.51</td>\n",
              "      <td>0.56</td>\n",
              "      <td>9.4</td>\n",
              "      <td>5</td>\n",
              "    </tr>\n",
              "    <tr>\n",
              "      <th>1</th>\n",
              "      <td>7.8</td>\n",
              "      <td>0.880</td>\n",
              "      <td>0.00</td>\n",
              "      <td>2.6</td>\n",
              "      <td>0.098</td>\n",
              "      <td>25.0</td>\n",
              "      <td>67.0</td>\n",
              "      <td>0.99680</td>\n",
              "      <td>3.20</td>\n",
              "      <td>0.68</td>\n",
              "      <td>9.8</td>\n",
              "      <td>5</td>\n",
              "    </tr>\n",
              "    <tr>\n",
              "      <th>2</th>\n",
              "      <td>7.8</td>\n",
              "      <td>0.760</td>\n",
              "      <td>0.04</td>\n",
              "      <td>2.3</td>\n",
              "      <td>0.092</td>\n",
              "      <td>15.0</td>\n",
              "      <td>54.0</td>\n",
              "      <td>0.99700</td>\n",
              "      <td>3.26</td>\n",
              "      <td>0.65</td>\n",
              "      <td>9.8</td>\n",
              "      <td>5</td>\n",
              "    </tr>\n",
              "    <tr>\n",
              "      <th>3</th>\n",
              "      <td>11.2</td>\n",
              "      <td>0.280</td>\n",
              "      <td>0.56</td>\n",
              "      <td>1.9</td>\n",
              "      <td>0.075</td>\n",
              "      <td>17.0</td>\n",
              "      <td>60.0</td>\n",
              "      <td>0.99800</td>\n",
              "      <td>3.16</td>\n",
              "      <td>0.58</td>\n",
              "      <td>9.8</td>\n",
              "      <td>6</td>\n",
              "    </tr>\n",
              "    <tr>\n",
              "      <th>4</th>\n",
              "      <td>7.4</td>\n",
              "      <td>0.700</td>\n",
              "      <td>0.00</td>\n",
              "      <td>1.9</td>\n",
              "      <td>0.076</td>\n",
              "      <td>11.0</td>\n",
              "      <td>34.0</td>\n",
              "      <td>0.99780</td>\n",
              "      <td>3.51</td>\n",
              "      <td>0.56</td>\n",
              "      <td>9.4</td>\n",
              "      <td>5</td>\n",
              "    </tr>\n",
              "    <tr>\n",
              "      <th>...</th>\n",
              "      <td>...</td>\n",
              "      <td>...</td>\n",
              "      <td>...</td>\n",
              "      <td>...</td>\n",
              "      <td>...</td>\n",
              "      <td>...</td>\n",
              "      <td>...</td>\n",
              "      <td>...</td>\n",
              "      <td>...</td>\n",
              "      <td>...</td>\n",
              "      <td>...</td>\n",
              "      <td>...</td>\n",
              "    </tr>\n",
              "    <tr>\n",
              "      <th>1594</th>\n",
              "      <td>6.2</td>\n",
              "      <td>0.600</td>\n",
              "      <td>0.08</td>\n",
              "      <td>2.0</td>\n",
              "      <td>0.090</td>\n",
              "      <td>32.0</td>\n",
              "      <td>44.0</td>\n",
              "      <td>0.99490</td>\n",
              "      <td>3.45</td>\n",
              "      <td>0.58</td>\n",
              "      <td>10.5</td>\n",
              "      <td>5</td>\n",
              "    </tr>\n",
              "    <tr>\n",
              "      <th>1595</th>\n",
              "      <td>5.9</td>\n",
              "      <td>0.550</td>\n",
              "      <td>0.10</td>\n",
              "      <td>2.2</td>\n",
              "      <td>0.062</td>\n",
              "      <td>39.0</td>\n",
              "      <td>51.0</td>\n",
              "      <td>0.99512</td>\n",
              "      <td>3.52</td>\n",
              "      <td>0.76</td>\n",
              "      <td>11.2</td>\n",
              "      <td>6</td>\n",
              "    </tr>\n",
              "    <tr>\n",
              "      <th>1596</th>\n",
              "      <td>6.3</td>\n",
              "      <td>0.510</td>\n",
              "      <td>0.13</td>\n",
              "      <td>2.3</td>\n",
              "      <td>0.076</td>\n",
              "      <td>29.0</td>\n",
              "      <td>40.0</td>\n",
              "      <td>0.99574</td>\n",
              "      <td>3.42</td>\n",
              "      <td>0.75</td>\n",
              "      <td>11.0</td>\n",
              "      <td>6</td>\n",
              "    </tr>\n",
              "    <tr>\n",
              "      <th>1597</th>\n",
              "      <td>5.9</td>\n",
              "      <td>0.645</td>\n",
              "      <td>0.12</td>\n",
              "      <td>2.0</td>\n",
              "      <td>0.075</td>\n",
              "      <td>32.0</td>\n",
              "      <td>44.0</td>\n",
              "      <td>0.99547</td>\n",
              "      <td>3.57</td>\n",
              "      <td>0.71</td>\n",
              "      <td>10.2</td>\n",
              "      <td>5</td>\n",
              "    </tr>\n",
              "    <tr>\n",
              "      <th>1598</th>\n",
              "      <td>6.0</td>\n",
              "      <td>0.310</td>\n",
              "      <td>0.47</td>\n",
              "      <td>3.6</td>\n",
              "      <td>0.067</td>\n",
              "      <td>18.0</td>\n",
              "      <td>42.0</td>\n",
              "      <td>0.99549</td>\n",
              "      <td>3.39</td>\n",
              "      <td>0.66</td>\n",
              "      <td>11.0</td>\n",
              "      <td>6</td>\n",
              "    </tr>\n",
              "  </tbody>\n",
              "</table>\n",
              "<p>1599 rows × 12 columns</p>\n",
              "</div>\n",
              "      <button class=\"colab-df-convert\" onclick=\"convertToInteractive('df-5ddccb80-9b42-4b0c-8557-43386a02361f')\"\n",
              "              title=\"Convert this dataframe to an interactive table.\"\n",
              "              style=\"display:none;\">\n",
              "        \n",
              "  <svg xmlns=\"http://www.w3.org/2000/svg\" height=\"24px\"viewBox=\"0 0 24 24\"\n",
              "       width=\"24px\">\n",
              "    <path d=\"M0 0h24v24H0V0z\" fill=\"none\"/>\n",
              "    <path d=\"M18.56 5.44l.94 2.06.94-2.06 2.06-.94-2.06-.94-.94-2.06-.94 2.06-2.06.94zm-11 1L8.5 8.5l.94-2.06 2.06-.94-2.06-.94L8.5 2.5l-.94 2.06-2.06.94zm10 10l.94 2.06.94-2.06 2.06-.94-2.06-.94-.94-2.06-.94 2.06-2.06.94z\"/><path d=\"M17.41 7.96l-1.37-1.37c-.4-.4-.92-.59-1.43-.59-.52 0-1.04.2-1.43.59L10.3 9.45l-7.72 7.72c-.78.78-.78 2.05 0 2.83L4 21.41c.39.39.9.59 1.41.59.51 0 1.02-.2 1.41-.59l7.78-7.78 2.81-2.81c.8-.78.8-2.07 0-2.86zM5.41 20L4 18.59l7.72-7.72 1.47 1.35L5.41 20z\"/>\n",
              "  </svg>\n",
              "      </button>\n",
              "      \n",
              "  <style>\n",
              "    .colab-df-container {\n",
              "      display:flex;\n",
              "      flex-wrap:wrap;\n",
              "      gap: 12px;\n",
              "    }\n",
              "\n",
              "    .colab-df-convert {\n",
              "      background-color: #E8F0FE;\n",
              "      border: none;\n",
              "      border-radius: 50%;\n",
              "      cursor: pointer;\n",
              "      display: none;\n",
              "      fill: #1967D2;\n",
              "      height: 32px;\n",
              "      padding: 0 0 0 0;\n",
              "      width: 32px;\n",
              "    }\n",
              "\n",
              "    .colab-df-convert:hover {\n",
              "      background-color: #E2EBFA;\n",
              "      box-shadow: 0px 1px 2px rgba(60, 64, 67, 0.3), 0px 1px 3px 1px rgba(60, 64, 67, 0.15);\n",
              "      fill: #174EA6;\n",
              "    }\n",
              "\n",
              "    [theme=dark] .colab-df-convert {\n",
              "      background-color: #3B4455;\n",
              "      fill: #D2E3FC;\n",
              "    }\n",
              "\n",
              "    [theme=dark] .colab-df-convert:hover {\n",
              "      background-color: #434B5C;\n",
              "      box-shadow: 0px 1px 3px 1px rgba(0, 0, 0, 0.15);\n",
              "      filter: drop-shadow(0px 1px 2px rgba(0, 0, 0, 0.3));\n",
              "      fill: #FFFFFF;\n",
              "    }\n",
              "  </style>\n",
              "\n",
              "      <script>\n",
              "        const buttonEl =\n",
              "          document.querySelector('#df-5ddccb80-9b42-4b0c-8557-43386a02361f button.colab-df-convert');\n",
              "        buttonEl.style.display =\n",
              "          google.colab.kernel.accessAllowed ? 'block' : 'none';\n",
              "\n",
              "        async function convertToInteractive(key) {\n",
              "          const element = document.querySelector('#df-5ddccb80-9b42-4b0c-8557-43386a02361f');\n",
              "          const dataTable =\n",
              "            await google.colab.kernel.invokeFunction('convertToInteractive',\n",
              "                                                     [key], {});\n",
              "          if (!dataTable) return;\n",
              "\n",
              "          const docLinkHtml = 'Like what you see? Visit the ' +\n",
              "            '<a target=\"_blank\" href=https://colab.research.google.com/notebooks/data_table.ipynb>data table notebook</a>'\n",
              "            + ' to learn more about interactive tables.';\n",
              "          element.innerHTML = '';\n",
              "          dataTable['output_type'] = 'display_data';\n",
              "          await google.colab.output.renderOutput(dataTable, element);\n",
              "          const docLink = document.createElement('div');\n",
              "          docLink.innerHTML = docLinkHtml;\n",
              "          element.appendChild(docLink);\n",
              "        }\n",
              "      </script>\n",
              "    </div>\n",
              "  </div>\n",
              "  "
            ],
            "text/plain": [
              "      fixed acidity  volatile acidity  citric acid  ...  sulphates  alcohol  quality\n",
              "0               7.4             0.700         0.00  ...       0.56      9.4        5\n",
              "1               7.8             0.880         0.00  ...       0.68      9.8        5\n",
              "2               7.8             0.760         0.04  ...       0.65      9.8        5\n",
              "3              11.2             0.280         0.56  ...       0.58      9.8        6\n",
              "4               7.4             0.700         0.00  ...       0.56      9.4        5\n",
              "...             ...               ...          ...  ...        ...      ...      ...\n",
              "1594            6.2             0.600         0.08  ...       0.58     10.5        5\n",
              "1595            5.9             0.550         0.10  ...       0.76     11.2        6\n",
              "1596            6.3             0.510         0.13  ...       0.75     11.0        6\n",
              "1597            5.9             0.645         0.12  ...       0.71     10.2        5\n",
              "1598            6.0             0.310         0.47  ...       0.66     11.0        6\n",
              "\n",
              "[1599 rows x 12 columns]"
            ]
          },
          "metadata": {},
          "execution_count": 9
        }
      ]
    },
    {
      "cell_type": "code",
      "metadata": {
        "colab": {
          "base_uri": "https://localhost:8080/"
        },
        "id": "HS3boGc1kFDY",
        "outputId": "e1db357f-05ba-4e3c-e93d-9dc293370c01"
      },
      "source": [
        "X = df_wine.iloc[:,:-1].values\n",
        "X.shape"
      ],
      "execution_count": 10,
      "outputs": [
        {
          "output_type": "execute_result",
          "data": {
            "text/plain": [
              "(1599, 11)"
            ]
          },
          "metadata": {},
          "execution_count": 10
        }
      ]
    },
    {
      "cell_type": "code",
      "metadata": {
        "colab": {
          "base_uri": "https://localhost:8080/"
        },
        "id": "kF0K9-1vDP0C",
        "outputId": "b4c5d39c-7a07-4844-de11-e0e9670f3536"
      },
      "source": [
        "colunas = df_wine.columns[:-1]\n",
        "colunas"
      ],
      "execution_count": 11,
      "outputs": [
        {
          "output_type": "execute_result",
          "data": {
            "text/plain": [
              "Index(['fixed acidity', 'volatile acidity', 'citric acid', 'residual sugar',\n",
              "       'chlorides', 'free sulfur dioxide', 'total sulfur dioxide', 'density',\n",
              "       'pH', 'sulphates', 'alcohol'],\n",
              "      dtype='object')"
            ]
          },
          "metadata": {},
          "execution_count": 11
        }
      ]
    },
    {
      "cell_type": "markdown",
      "metadata": {
        "id": "LxUoiowX_8uK"
      },
      "source": [
        "##if quality > 7 : 1 else: 0"
      ]
    },
    {
      "cell_type": "code",
      "metadata": {
        "colab": {
          "base_uri": "https://localhost:8080/",
          "height": 320
        },
        "id": "1FrJiwRtkcoX",
        "outputId": "58dbf8eb-ebce-4a7a-b299-cb292c53e1da"
      },
      "source": [
        "fig, ax = plt.subplots(1,2, figsize=[10,5])\n",
        "ax = plt.subplot(1,2,1)\n",
        "\n",
        "df_wine = pd.read_csv('winequality-red.csv')\n",
        "ax.hist(df_wine.iloc[:,11].values)\n",
        "y = df_wine.iloc[:,11].values\n",
        "y[y < 7]  = 0\n",
        "y[y >= 7]  = 1\n",
        "\n",
        "ax = plt.subplot(1,2,2)\n",
        "ax.hist(y, bins =10)\n",
        "\n",
        "df_wine.at[:,'quality'] = y"
      ],
      "execution_count": 12,
      "outputs": [
        {
          "output_type": "display_data",
          "data": {
            "image/png": "[encoded data removed]",
            "text/plain": [
              "<Figure size 720x360 with 2 Axes>"
            ]
          },
          "metadata": {
            "needs_background": "light"
          }
        }
      ]
    },
    {
      "cell_type": "markdown",
      "metadata": {
        "id": "_IQQnnKjCPQ-"
      },
      "source": [
        "##Remove atributes"
      ]
    },
    {
      "cell_type": "code",
      "metadata": {
        "colab": {
          "base_uri": "https://localhost:8080/",
          "height": 678
        },
        "id": "ZWp1FPN-AR9z",
        "outputId": "976f3805-ba67-45af-849a-7875dc42f082"
      },
      "source": [
        "figura = plt.figure(figsize=(10,10))\n",
        "sns.heatmap(abs(df_wine.corr()), annot=True);"
      ],
      "execution_count": 13,
      "outputs": [
        {
          "output_type": "display_data",
          "data": {
            "image/png": "[encoded data removed]",
            "text/plain": [
              "<Figure size 720x720 with 2 Axes>"
            ]
          },
          "metadata": {
            "needs_background": "light"
          }
        }
      ]
    },
    {
      "cell_type": "markdown",
      "metadata": {
        "id": "0ltpeXsGAzmx"
      },
      "source": [
        "Remove "
      ]
    },
    {
      "cell_type": "code",
      "metadata": {
        "id": "5BOKZIh0CEGx"
      },
      "source": [
        "from sklearn.feature_selection import VarianceThreshold"
      ],
      "execution_count": 16,
      "outputs": []
    },
    {
      "cell_type": "code",
      "source": [
        "X = df_wine.iloc[:,:-1].values\n",
        "from sklearn.preprocessing import MinMaxScaler\n",
        "scaler = MinMaxScaler()\n",
        "X_scaler = scaler.fit_transform(X)"
      ],
      "metadata": {
        "id": "bmu8QMJQ7a6w"
      },
      "execution_count": null,
      "outputs": []
    },
    {
      "cell_type": "code",
      "metadata": {
        "colab": {
          "base_uri": "https://localhost:8080/"
        },
        "id": "oSdnGZZPCkMq",
        "outputId": "39f5b1f9-8b75-4c9f-95ca-44aaa4afe8e2"
      },
      "source": [
        "selecao = VarianceThreshold(threshold=0.01)\n",
        "X_variancia = selecao.fit_transform(X_scaler)\n",
        "X_variancia.shape"
      ],
      "execution_count": 17,
      "outputs": [
        {
          "output_type": "execute_result",
          "data": {
            "text/plain": [
              "(1599, 9)"
            ]
          },
          "metadata": {},
          "execution_count": 17
        }
      ]
    },
    {
      "cell_type": "code",
      "metadata": {
        "colab": {
          "base_uri": "https://localhost:8080/"
        },
        "id": "demAUkNjDFhc",
        "outputId": "200d4ac9-4b82-490c-e96a-af83f63d4a37"
      },
      "source": [
        "indices = np.where(selecao.variances_ > 0.01)\n",
        "indices"
      ],
      "execution_count": 18,
      "outputs": [
        {
          "output_type": "execute_result",
          "data": {
            "text/plain": [
              "(array([ 0,  1,  2,  5,  6,  7,  8,  9, 10]),)"
            ]
          },
          "metadata": {},
          "execution_count": 18
        }
      ]
    },
    {
      "cell_type": "code",
      "metadata": {
        "colab": {
          "base_uri": "https://localhost:8080/"
        },
        "id": "dXPpgZa-DJd5",
        "outputId": "851ba766-37fb-4626-85d4-efcf2c459a82"
      },
      "source": [
        "colunas[[3,4]]"
      ],
      "execution_count": 19,
      "outputs": [
        {
          "output_type": "execute_result",
          "data": {
            "text/plain": [
              "Index(['residual sugar', 'chlorides'], dtype='object')"
            ]
          },
          "metadata": {},
          "execution_count": 19
        }
      ]
    },
    {
      "cell_type": "code",
      "metadata": {
        "colab": {
          "base_uri": "https://localhost:8080/",
          "height": 423
        },
        "id": "LejAfzBrDYyH",
        "outputId": "54d421dd-71c1-4d93-90b7-8089a9812a74"
      },
      "source": [
        "df_variancia = df_wine.drop(columns = ['residual sugar', 'chlorides'], axis = 1)\n",
        "df_variancia"
      ],
      "execution_count": 20,
      "outputs": [
        {
          "output_type": "execute_result",
          "data": {
            "text/html": [
              "\n",
              "  <div id=\"df-1d8ba156-ff2e-4961-b2ff-417fc1bf05ae\">\n",
              "    <div class=\"colab-df-container\">\n",
              "      <div>\n",
              "<style scoped>\n",
              "    .dataframe tbody tr th:only-of-type {\n",
              "        vertical-align: middle;\n",
              "    }\n",
              "\n",
              "    .dataframe tbody tr th {\n",
              "        vertical-align: top;\n",
              "    }\n",
              "\n",
              "    .dataframe thead th {\n",
              "        text-align: right;\n",
              "    }\n",
              "</style>\n",
              "<table border=\"1\" class=\"dataframe\">\n",
              "  <thead>\n",
              "    <tr style=\"text-align: right;\">\n",
              "      <th></th>\n",
              "      <th>fixed acidity</th>\n",
              "      <th>volatile acidity</th>\n",
              "      <th>citric acid</th>\n",
              "      <th>free sulfur dioxide</th>\n",
              "      <th>total sulfur dioxide</th>\n",
              "      <th>density</th>\n",
              "      <th>pH</th>\n",
              "      <th>sulphates</th>\n",
              "      <th>alcohol</th>\n",
              "      <th>quality</th>\n",
              "    </tr>\n",
              "  </thead>\n",
              "  <tbody>\n",
              "    <tr>\n",
              "      <th>0</th>\n",
              "      <td>7.4</td>\n",
              "      <td>0.700</td>\n",
              "      <td>0.00</td>\n",
              "      <td>11.0</td>\n",
              "      <td>34.0</td>\n",
              "      <td>0.99780</td>\n",
              "      <td>3.51</td>\n",
              "      <td>0.56</td>\n",
              "      <td>9.4</td>\n",
              "      <td>0</td>\n",
              "    </tr>\n",
              "    <tr>\n",
              "      <th>1</th>\n",
              "      <td>7.8</td>\n",
              "      <td>0.880</td>\n",
              "      <td>0.00</td>\n",
              "      <td>25.0</td>\n",
              "      <td>67.0</td>\n",
              "      <td>0.99680</td>\n",
              "      <td>3.20</td>\n",
              "      <td>0.68</td>\n",
              "      <td>9.8</td>\n",
              "      <td>0</td>\n",
              "    </tr>\n",
              "    <tr>\n",
              "      <th>2</th>\n",
              "      <td>7.8</td>\n",
              "      <td>0.760</td>\n",
              "      <td>0.04</td>\n",
              "      <td>15.0</td>\n",
              "      <td>54.0</td>\n",
              "      <td>0.99700</td>\n",
              "      <td>3.26</td>\n",
              "      <td>0.65</td>\n",
              "      <td>9.8</td>\n",
              "      <td>0</td>\n",
              "    </tr>\n",
              "    <tr>\n",
              "      <th>3</th>\n",
              "      <td>11.2</td>\n",
              "      <td>0.280</td>\n",
              "      <td>0.56</td>\n",
              "      <td>17.0</td>\n",
              "      <td>60.0</td>\n",
              "      <td>0.99800</td>\n",
              "      <td>3.16</td>\n",
              "      <td>0.58</td>\n",
              "      <td>9.8</td>\n",
              "      <td>0</td>\n",
              "    </tr>\n",
              "    <tr>\n",
              "      <th>4</th>\n",
              "      <td>7.4</td>\n",
              "      <td>0.700</td>\n",
              "      <td>0.00</td>\n",
              "      <td>11.0</td>\n",
              "      <td>34.0</td>\n",
              "      <td>0.99780</td>\n",
              "      <td>3.51</td>\n",
              "      <td>0.56</td>\n",
              "      <td>9.4</td>\n",
              "      <td>0</td>\n",
              "    </tr>\n",
              "    <tr>\n",
              "      <th>...</th>\n",
              "      <td>...</td>\n",
              "      <td>...</td>\n",
              "      <td>...</td>\n",
              "      <td>...</td>\n",
              "      <td>...</td>\n",
              "      <td>...</td>\n",
              "      <td>...</td>\n",
              "      <td>...</td>\n",
              "      <td>...</td>\n",
              "      <td>...</td>\n",
              "    </tr>\n",
              "    <tr>\n",
              "      <th>1594</th>\n",
              "      <td>6.2</td>\n",
              "      <td>0.600</td>\n",
              "      <td>0.08</td>\n",
              "      <td>32.0</td>\n",
              "      <td>44.0</td>\n",
              "      <td>0.99490</td>\n",
              "      <td>3.45</td>\n",
              "      <td>0.58</td>\n",
              "      <td>10.5</td>\n",
              "      <td>0</td>\n",
              "    </tr>\n",
              "    <tr>\n",
              "      <th>1595</th>\n",
              "      <td>5.9</td>\n",
              "      <td>0.550</td>\n",
              "      <td>0.10</td>\n",
              "      <td>39.0</td>\n",
              "      <td>51.0</td>\n",
              "      <td>0.99512</td>\n",
              "      <td>3.52</td>\n",
              "      <td>0.76</td>\n",
              "      <td>11.2</td>\n",
              "      <td>0</td>\n",
              "    </tr>\n",
              "    <tr>\n",
              "      <th>1596</th>\n",
              "      <td>6.3</td>\n",
              "      <td>0.510</td>\n",
              "      <td>0.13</td>\n",
              "      <td>29.0</td>\n",
              "      <td>40.0</td>\n",
              "      <td>0.99574</td>\n",
              "      <td>3.42</td>\n",
              "      <td>0.75</td>\n",
              "      <td>11.0</td>\n",
              "      <td>0</td>\n",
              "    </tr>\n",
              "    <tr>\n",
              "      <th>1597</th>\n",
              "      <td>5.9</td>\n",
              "      <td>0.645</td>\n",
              "      <td>0.12</td>\n",
              "      <td>32.0</td>\n",
              "      <td>44.0</td>\n",
              "      <td>0.99547</td>\n",
              "      <td>3.57</td>\n",
              "      <td>0.71</td>\n",
              "      <td>10.2</td>\n",
              "      <td>0</td>\n",
              "    </tr>\n",
              "    <tr>\n",
              "      <th>1598</th>\n",
              "      <td>6.0</td>\n",
              "      <td>0.310</td>\n",
              "      <td>0.47</td>\n",
              "      <td>18.0</td>\n",
              "      <td>42.0</td>\n",
              "      <td>0.99549</td>\n",
              "      <td>3.39</td>\n",
              "      <td>0.66</td>\n",
              "      <td>11.0</td>\n",
              "      <td>0</td>\n",
              "    </tr>\n",
              "  </tbody>\n",
              "</table>\n",
              "<p>1599 rows × 10 columns</p>\n",
              "</div>\n",
              "      <button class=\"colab-df-convert\" onclick=\"convertToInteractive('df-1d8ba156-ff2e-4961-b2ff-417fc1bf05ae')\"\n",
              "              title=\"Convert this dataframe to an interactive table.\"\n",
              "              style=\"display:none;\">\n",
              "        \n",
              "  <svg xmlns=\"http://www.w3.org/2000/svg\" height=\"24px\"viewBox=\"0 0 24 24\"\n",
              "       width=\"24px\">\n",
              "    <path d=\"M0 0h24v24H0V0z\" fill=\"none\"/>\n",
              "    <path d=\"M18.56 5.44l.94 2.06.94-2.06 2.06-.94-2.06-.94-.94-2.06-.94 2.06-2.06.94zm-11 1L8.5 8.5l.94-2.06 2.06-.94-2.06-.94L8.5 2.5l-.94 2.06-2.06.94zm10 10l.94 2.06.94-2.06 2.06-.94-2.06-.94-.94-2.06-.94 2.06-2.06.94z\"/><path d=\"M17.41 7.96l-1.37-1.37c-.4-.4-.92-.59-1.43-.59-.52 0-1.04.2-1.43.59L10.3 9.45l-7.72 7.72c-.78.78-.78 2.05 0 2.83L4 21.41c.39.39.9.59 1.41.59.51 0 1.02-.2 1.41-.59l7.78-7.78 2.81-2.81c.8-.78.8-2.07 0-2.86zM5.41 20L4 18.59l7.72-7.72 1.47 1.35L5.41 20z\"/>\n",
              "  </svg>\n",
              "      </button>\n",
              "      \n",
              "  <style>\n",
              "    .colab-df-container {\n",
              "      display:flex;\n",
              "      flex-wrap:wrap;\n",
              "      gap: 12px;\n",
              "    }\n",
              "\n",
              "    .colab-df-convert {\n",
              "      background-color: #E8F0FE;\n",
              "      border: none;\n",
              "      border-radius: 50%;\n",
              "      cursor: pointer;\n",
              "      display: none;\n",
              "      fill: #1967D2;\n",
              "      height: 32px;\n",
              "      padding: 0 0 0 0;\n",
              "      width: 32px;\n",
              "    }\n",
              "\n",
              "    .colab-df-convert:hover {\n",
              "      background-color: #E2EBFA;\n",
              "      box-shadow: 0px 1px 2px rgba(60, 64, 67, 0.3), 0px 1px 3px 1px rgba(60, 64, 67, 0.15);\n",
              "      fill: #174EA6;\n",
              "    }\n",
              "\n",
              "    [theme=dark] .colab-df-convert {\n",
              "      background-color: #3B4455;\n",
              "      fill: #D2E3FC;\n",
              "    }\n",
              "\n",
              "    [theme=dark] .colab-df-convert:hover {\n",
              "      background-color: #434B5C;\n",
              "      box-shadow: 0px 1px 3px 1px rgba(0, 0, 0, 0.15);\n",
              "      filter: drop-shadow(0px 1px 2px rgba(0, 0, 0, 0.3));\n",
              "      fill: #FFFFFF;\n",
              "    }\n",
              "  </style>\n",
              "\n",
              "      <script>\n",
              "        const buttonEl =\n",
              "          document.querySelector('#df-1d8ba156-ff2e-4961-b2ff-417fc1bf05ae button.colab-df-convert');\n",
              "        buttonEl.style.display =\n",
              "          google.colab.kernel.accessAllowed ? 'block' : 'none';\n",
              "\n",
              "        async function convertToInteractive(key) {\n",
              "          const element = document.querySelector('#df-1d8ba156-ff2e-4961-b2ff-417fc1bf05ae');\n",
              "          const dataTable =\n",
              "            await google.colab.kernel.invokeFunction('convertToInteractive',\n",
              "                                                     [key], {});\n",
              "          if (!dataTable) return;\n",
              "\n",
              "          const docLinkHtml = 'Like what you see? Visit the ' +\n",
              "            '<a target=\"_blank\" href=https://colab.research.google.com/notebooks/data_table.ipynb>data table notebook</a>'\n",
              "            + ' to learn more about interactive tables.';\n",
              "          element.innerHTML = '';\n",
              "          dataTable['output_type'] = 'display_data';\n",
              "          await google.colab.output.renderOutput(dataTable, element);\n",
              "          const docLink = document.createElement('div');\n",
              "          docLink.innerHTML = docLinkHtml;\n",
              "          element.appendChild(docLink);\n",
              "        }\n",
              "      </script>\n",
              "    </div>\n",
              "  </div>\n",
              "  "
            ],
            "text/plain": [
              "      fixed acidity  volatile acidity  citric acid  ...  sulphates  alcohol  quality\n",
              "0               7.4             0.700         0.00  ...       0.56      9.4        0\n",
              "1               7.8             0.880         0.00  ...       0.68      9.8        0\n",
              "2               7.8             0.760         0.04  ...       0.65      9.8        0\n",
              "3              11.2             0.280         0.56  ...       0.58      9.8        0\n",
              "4               7.4             0.700         0.00  ...       0.56      9.4        0\n",
              "...             ...               ...          ...  ...        ...      ...      ...\n",
              "1594            6.2             0.600         0.08  ...       0.58     10.5        0\n",
              "1595            5.9             0.550         0.10  ...       0.76     11.2        0\n",
              "1596            6.3             0.510         0.13  ...       0.75     11.0        0\n",
              "1597            5.9             0.645         0.12  ...       0.71     10.2        0\n",
              "1598            6.0             0.310         0.47  ...       0.66     11.0        0\n",
              "\n",
              "[1599 rows x 10 columns]"
            ]
          },
          "metadata": {},
          "execution_count": 20
        }
      ]
    },
    {
      "cell_type": "code",
      "metadata": {
        "colab": {
          "base_uri": "https://localhost:8080/"
        },
        "id": "gWIVdir5FOf9",
        "outputId": "6e2d4a36-ce61-4655-e671-e706725da4a4"
      },
      "source": [
        "X = df_variancia.iloc[:,:-1].values\n",
        "X.shape"
      ],
      "execution_count": null,
      "outputs": [
        {
          "output_type": "execute_result",
          "data": {
            "text/plain": [
              "(1599, 9)"
            ]
          },
          "metadata": {},
          "execution_count": 344
        }
      ]
    },
    {
      "cell_type": "markdown",
      "metadata": {
        "id": "cu4qkML1M-sT"
      },
      "source": [
        "##Dados desbalanceados"
      ]
    },
    {
      "cell_type": "code",
      "metadata": {
        "id": "vffegAm3M2Og"
      },
      "source": [
        "from imblearn.over_sampling import SMOTE"
      ],
      "execution_count": 21,
      "outputs": []
    },
    {
      "cell_type": "code",
      "metadata": {
        "id": "53fGm-iyM2Oh"
      },
      "source": [
        "smote = SMOTE(sampling_strategy='minority')\n",
        "X_over, y_over = smote.fit_resample(X, y)"
      ],
      "execution_count": 22,
      "outputs": []
    },
    {
      "cell_type": "code",
      "metadata": {
        "colab": {
          "base_uri": "https://localhost:8080/"
        },
        "id": "kVxvfztdM2Oi",
        "outputId": "642c212c-b8f2-4c47-b77c-d504795ead0f"
      },
      "source": [
        "np.unique(y, return_counts=True)"
      ],
      "execution_count": 23,
      "outputs": [
        {
          "output_type": "execute_result",
          "data": {
            "text/plain": [
              "(array([0, 1]), array([1382,  217]))"
            ]
          },
          "metadata": {},
          "execution_count": 23
        }
      ]
    },
    {
      "cell_type": "code",
      "metadata": {
        "colab": {
          "base_uri": "https://localhost:8080/"
        },
        "id": "iOA3xVKRNVX-",
        "outputId": "486dfd10-c68f-4aa2-e880-36dda9162654"
      },
      "source": [
        "np.unique(y_over, return_counts=True)"
      ],
      "execution_count": 24,
      "outputs": [
        {
          "output_type": "execute_result",
          "data": {
            "text/plain": [
              "(array([0, 1]), array([1382, 1382]))"
            ]
          },
          "metadata": {},
          "execution_count": 24
        }
      ]
    },
    {
      "cell_type": "markdown",
      "metadata": {
        "id": "Xw6RPA9ql113"
      },
      "source": [
        "##Scaling of data"
      ]
    },
    {
      "cell_type": "code",
      "metadata": {
        "id": "zNtKwPJ-l1RM"
      },
      "source": [
        "from sklearn.preprocessing import StandardScaler\n",
        "\n",
        "scaler = StandardScaler()\n",
        "X = scaler.fit_transform(X)"
      ],
      "execution_count": 25,
      "outputs": []
    },
    {
      "cell_type": "markdown",
      "metadata": {
        "id": "80CzIChRjs66"
      },
      "source": [
        "##Division between train and test"
      ]
    },
    {
      "cell_type": "code",
      "metadata": {
        "id": "tNPSJItSjVM1"
      },
      "source": [
        "from sklearn.model_selection import train_test_split"
      ],
      "execution_count": 27,
      "outputs": []
    },
    {
      "cell_type": "code",
      "metadata": {
        "id": "OqPaXOxHj0di"
      },
      "source": [
        "X_train, X_test, y_train, y_test = train_test_split(X_over, y_over, test_size = 0.25, random_state = 0)"
      ],
      "execution_count": 28,
      "outputs": []
    },
    {
      "cell_type": "code",
      "metadata": {
        "colab": {
          "base_uri": "https://localhost:8080/"
        },
        "id": "favn9l54nbfL",
        "outputId": "5bfa1ce0-35cf-4141-f134-bb414314a9f7"
      },
      "source": [
        "X_train"
      ],
      "execution_count": 29,
      "outputs": [
        {
          "output_type": "execute_result",
          "data": {
            "text/plain": [
              "array([[ 7.44748723,  0.31169459,  0.35694586, ...,  3.2318621 ,\n",
              "         0.62558631, 12.34748723],\n",
              "       [ 7.8       ,  0.34      ,  0.37      , ...,  3.34      ,\n",
              "         0.59      ,  9.4       ],\n",
              "       [10.        ,  0.38      ,  0.38      , ...,  3.15      ,\n",
              "         0.65      ,  8.5       ],\n",
              "       ...,\n",
              "       [ 7.86379273,  0.46034401,  0.37620727, ...,  3.24706945,\n",
              "         0.74172436, 12.33964738],\n",
              "       [ 7.37814781,  0.43431201,  0.21884896, ...,  3.42959977,\n",
              "         0.71890739, 12.8       ],\n",
              "       [ 8.15845824,  0.29347752,  0.37550749, ...,  3.27      ,\n",
              "         0.6278758 , 11.87199142]])"
            ]
          },
          "metadata": {},
          "execution_count": 29
        }
      ]
    },
    {
      "cell_type": "markdown",
      "metadata": {
        "id": "lqfFTzitk_HB"
      },
      "source": [
        "#Classification"
      ]
    },
    {
      "cell_type": "code",
      "metadata": {
        "id": "u9d2TCrPn6W8"
      },
      "source": [
        "from sklearn.metrics import mean_absolute_error, mean_squared_error\n",
        "from sklearn.model_selection import GridSearchCV\n",
        "from yellowbrick.classifier import ConfusionMatrix\n",
        "from sklearn.metrics import accuracy_score, confusion_matrix,classification_report"
      ],
      "execution_count": 30,
      "outputs": []
    },
    {
      "cell_type": "markdown",
      "metadata": {
        "id": "S1L6faC5oHi8"
      },
      "source": [
        "##Decision Tree"
      ]
    },
    {
      "cell_type": "code",
      "metadata": {
        "id": "JtrIK04spjnU"
      },
      "source": [
        "from sklearn.tree import DecisionTreeClassifier"
      ],
      "execution_count": 31,
      "outputs": []
    },
    {
      "cell_type": "code",
      "metadata": {
        "id": "yiII0gharRhx"
      },
      "source": [
        "parametros = {'criterion': ['gini', 'entropy'],\n",
        "              'splitter': ['best', 'random'],\n",
        "              'min_samples_split': [2, 5, 10],\n",
        "              'min_samples_leaf': [1, 5, 10]}"
      ],
      "execution_count": 32,
      "outputs": []
    },
    {
      "cell_type": "code",
      "metadata": {
        "id": "Hbxg_C5_rPw_"
      },
      "source": [
        "grid_search = GridSearchCV(estimator=DecisionTreeClassifier(), param_grid=parametros)\n",
        "grid_search.fit(X_over, y_over)\n",
        "melhores_parametros = grid_search.best_params_\n",
        "melhor_resultado = grid_search.best_score_"
      ],
      "execution_count": 33,
      "outputs": []
    },
    {
      "cell_type": "code",
      "metadata": {
        "colab": {
          "base_uri": "https://localhost:8080/"
        },
        "id": "M5711Mn_tik4",
        "outputId": "caf4a403-6ca8-411c-cfc9-7b71c2e96220"
      },
      "source": [
        "print(melhores_parametros)\n",
        "print(melhor_resultado)"
      ],
      "execution_count": 34,
      "outputs": [
        {
          "output_type": "stream",
          "name": "stdout",
          "text": [
            "{'criterion': 'entropy', 'min_samples_leaf': 1, 'min_samples_split': 2, 'splitter': 'best'}\n",
            "0.8708447991194277\n"
          ]
        }
      ]
    },
    {
      "cell_type": "markdown",
      "metadata": {
        "id": "GJck_qu_qbQk"
      },
      "source": [
        "##Random Forest"
      ]
    },
    {
      "cell_type": "code",
      "metadata": {
        "id": "bD5hawhmqcuC"
      },
      "source": [
        "from sklearn.ensemble import RandomForestClassifier"
      ],
      "execution_count": 40,
      "outputs": []
    },
    {
      "cell_type": "code",
      "metadata": {
        "id": "mWm0WtDPsQlp"
      },
      "source": [
        "parametros = {'criterion': ['gini', 'entropy'],\n",
        "              'n_estimators': [10, 40, 100, 150],\n",
        "              'min_samples_split': [2, 5, 10],\n",
        "              'min_samples_leaf': [1, 5, 10]}"
      ],
      "execution_count": 41,
      "outputs": []
    },
    {
      "cell_type": "code",
      "metadata": {
        "id": "FZLWm8Z0sZEk"
      },
      "source": [
        "grid_search = GridSearchCV(estimator=RandomForestClassifier(), param_grid=parametros)\n",
        "grid_search.fit(X_over, y_over)\n",
        "melhores_parametros = grid_search.best_params_\n",
        "melhor_resultado = grid_search.best_score_"
      ],
      "execution_count": 42,
      "outputs": []
    },
    {
      "cell_type": "code",
      "metadata": {
        "colab": {
          "base_uri": "https://localhost:8080/"
        },
        "id": "3lFUI0IitGZt",
        "outputId": "71f1cb6a-e51c-4479-a3e5-061ef55a9770"
      },
      "source": [
        "print(melhores_parametros)\n",
        "print(melhor_resultado)"
      ],
      "execution_count": 43,
      "outputs": [
        {
          "output_type": "stream",
          "name": "stdout",
          "text": [
            "{'criterion': 'gini', 'min_samples_leaf': 1, 'min_samples_split': 2, 'n_estimators': 10}\n",
            "0.9062989752863171\n"
          ]
        }
      ]
    },
    {
      "cell_type": "markdown",
      "metadata": {
        "id": "EJwfHkK1SOVR"
      },
      "source": [
        "##KNN"
      ]
    },
    {
      "cell_type": "code",
      "metadata": {
        "id": "EWqSpbc4SPl6"
      },
      "source": [
        "from sklearn.neighbors import KNeighborsClassifier"
      ],
      "execution_count": 44,
      "outputs": []
    },
    {
      "cell_type": "code",
      "metadata": {
        "id": "es_PP7b6SQ6J"
      },
      "source": [
        "parametros = {'n_neighbors': [3, 5, 10, 20],\n",
        "              'p': [1, 2]}"
      ],
      "execution_count": 79,
      "outputs": []
    },
    {
      "cell_type": "code",
      "metadata": {
        "id": "HWYU5AbOSTJP"
      },
      "source": [
        "grid_search = GridSearchCV(estimator=KNeighborsClassifier(), param_grid=parametros)\n",
        "grid_search.fit(X_over, y_over)\n",
        "melhores_parametros = grid_search.best_params_\n",
        "melhor_resultado = grid_search.best_score_"
      ],
      "execution_count": 80,
      "outputs": []
    },
    {
      "cell_type": "code",
      "metadata": {
        "colab": {
          "base_uri": "https://localhost:8080/"
        },
        "id": "h49zrq7ySXCN",
        "outputId": "fcfc21f8-aef6-47d5-8d62-9b6dc7793ecf"
      },
      "source": [
        "print(melhores_parametros)\n",
        "print(melhor_resultado)"
      ],
      "execution_count": 81,
      "outputs": [
        {
          "output_type": "stream",
          "name": "stdout",
          "text": [
            "{'n_neighbors': 3, 'p': 1}\n",
            "0.8758989176297927\n"
          ]
        }
      ]
    },
    {
      "cell_type": "markdown",
      "metadata": {
        "id": "yiFpMY4JR0lc"
      },
      "source": [
        "##Logistic Regression"
      ]
    },
    {
      "cell_type": "code",
      "metadata": {
        "id": "MzbanjqeR9YM"
      },
      "source": [
        "from sklearn.linear_model import LogisticRegression"
      ],
      "execution_count": 82,
      "outputs": []
    },
    {
      "cell_type": "code",
      "metadata": {
        "id": "E9qodtlCR5nE"
      },
      "source": [
        "parametros = {'tol': [0.0001, 0.00001, 0.000001],\n",
        "              'C': [1.0, 1.5, 2.0],\n",
        "              'solver': ['lbfgs', 'sag', 'saga']}"
      ],
      "execution_count": 83,
      "outputs": []
    },
    {
      "cell_type": "code",
      "metadata": {
        "id": "PvUw_ihRS2AX"
      },
      "source": [
        "grid_search = GridSearchCV(estimator=LogisticRegression(), param_grid=parametros)\n",
        "grid_search.fit(X_over, y_over)\n",
        "melhores_parametros = grid_search.best_params_\n",
        "melhor_resultado = grid_search.best_score_"
      ],
      "execution_count": null,
      "outputs": []
    },
    {
      "cell_type": "code",
      "metadata": {
        "colab": {
          "base_uri": "https://localhost:8080/"
        },
        "id": "5PmsG2E5S61R",
        "outputId": "c76e1b05-6f14-4d54-fb38-4212cb4c64e8"
      },
      "source": [
        "print(melhores_parametros)\n",
        "print(melhor_resultado)"
      ],
      "execution_count": 85,
      "outputs": [
        {
          "output_type": "stream",
          "name": "stdout",
          "text": [
            "{'C': 2.0, 'solver': 'lbfgs', 'tol': 0.0001}\n",
            "0.8068047802500196\n"
          ]
        }
      ]
    },
    {
      "cell_type": "markdown",
      "metadata": {
        "id": "8f0WNOrxHsRf"
      },
      "source": [
        "##SVM"
      ]
    },
    {
      "cell_type": "code",
      "metadata": {
        "id": "zO0-7mcst-G0"
      },
      "source": [
        "from sklearn.svm import SVC"
      ],
      "execution_count": 86,
      "outputs": []
    },
    {
      "cell_type": "code",
      "metadata": {
        "id": "jWPYcGk2H7BW"
      },
      "source": [
        "parametros = {'tol': [0.001, 0.0001, 0.00001],\n",
        "              'C': [1.0, 1.5, 2.0],\n",
        "              'kernel': ['rbf', 'linear', 'poly', 'sigmoid']}"
      ],
      "execution_count": 87,
      "outputs": []
    },
    {
      "cell_type": "code",
      "metadata": {
        "id": "wtvkjK_3H_ar"
      },
      "source": [
        "grid_search = GridSearchCV(estimator=SVC(), param_grid=parametros)\n",
        "grid_search.fit(X_over, y_over)\n",
        "melhores_parametros = grid_search.best_params_\n",
        "melhor_resultado = grid_search.best_score_"
      ],
      "execution_count": 88,
      "outputs": []
    },
    {
      "cell_type": "code",
      "metadata": {
        "colab": {
          "base_uri": "https://localhost:8080/"
        },
        "id": "f_ViExkVIBBh",
        "outputId": "baeb60d7-e98b-4a89-d332-c27405c178d0"
      },
      "source": [
        "print(melhores_parametros)\n",
        "print(melhor_resultado)"
      ],
      "execution_count": 89,
      "outputs": [
        {
          "output_type": "stream",
          "name": "stdout",
          "text": [
            "{'C': 2.0, 'kernel': 'linear', 'tol': 0.001}\n",
            "0.80824553817124\n"
          ]
        }
      ]
    },
    {
      "cell_type": "markdown",
      "metadata": {
        "id": "qLsHRBYCIeVd"
      },
      "source": [
        "#Cross Validation"
      ]
    },
    {
      "cell_type": "code",
      "metadata": {
        "id": "Lbmx4TNAIZgs"
      },
      "source": [
        "from sklearn.model_selection import cross_val_score, KFold"
      ],
      "execution_count": 56,
      "outputs": []
    },
    {
      "cell_type": "code",
      "metadata": {
        "id": "AoqEgGgOIz9G"
      },
      "source": [
        "resultados_arvore = []\n",
        "resultados_random_forest = []\n",
        "resultados_knn = []\n",
        "resultados_logistica = []\n",
        "resultados_svm = []\n",
        "\n",
        "\n",
        "for i in range(30):\n",
        "    kfold = KFold(n_splits=10, shuffle=True, random_state=i)\n",
        "    \n",
        "    arvore = DecisionTreeClassifier(criterion='entropy',min_samples_leaf = 1, min_samples_split = 2, splitter = 'best')\n",
        "    score = cross_val_score(arvore, X_over, y_over, cv = kfold)\n",
        "    resultados_arvore.append(score.mean())\n",
        "\n",
        "    random_forest = RandomForestClassifier(criterion='gini',min_samples_leaf = 1, min_samples_split = 2, n_estimators= 10)\n",
        "    scores = cross_val_score(random_forest, X_over, y_over, cv = kfold)\n",
        "    resultados_random_forest.append(scores.mean())\n",
        "\n",
        "    knn = KNeighborsClassifier(n_neighbors = 3, p = 1)\n",
        "    scores = cross_val_score(knn, X_over, y_over, cv = kfold)\n",
        "    resultados_knn.append(scores.mean())\n",
        "\n",
        "    logistica = LogisticRegression(C = 2, solver ='lbfgs', tol = 0.0001)\n",
        "    scores = cross_val_score(logistica, X_over, y_over, cv = kfold)\n",
        "    resultados_logistica.append(scores.mean())\n",
        "\n",
        "    svm = SVC(C = 2, kernel = 'linear', tol = 0.001)\n",
        "    scores = cross_val_score(svm, X_over, y_over, cv = kfold)\n",
        "    resultados_svm.append(scores.mean())\n",
        "\n"
      ],
      "execution_count": null,
      "outputs": []
    },
    {
      "cell_type": "code",
      "metadata": {
        "id": "qG-q9O9r7syx"
      },
      "source": [
        "resultados = pd.DataFrame({'Arvore': resultados_arvore, 'Random forest': resultados_random_forest,\n",
        "                           'KNN': resultados_knn, 'Logistica': resultados_logistica,\n",
        "                           'SVM': resultados_svm})"
      ],
      "execution_count": 91,
      "outputs": []
    },
    {
      "cell_type": "code",
      "metadata": {
        "colab": {
          "base_uri": "https://localhost:8080/",
          "height": 300
        },
        "id": "jnuXVMBR7v_7",
        "outputId": "a77ac7ee-4b06-46c4-bbb9-74856814051e"
      },
      "source": [
        "resultados.describe()"
      ],
      "execution_count": 92,
      "outputs": [
        {
          "output_type": "execute_result",
          "data": {
            "text/html": [
              "\n",
              "  <div id=\"df-c559b082-ed48-48c2-a378-4049f6b0588c\">\n",
              "    <div class=\"colab-df-container\">\n",
              "      <div>\n",
              "<style scoped>\n",
              "    .dataframe tbody tr th:only-of-type {\n",
              "        vertical-align: middle;\n",
              "    }\n",
              "\n",
              "    .dataframe tbody tr th {\n",
              "        vertical-align: top;\n",
              "    }\n",
              "\n",
              "    .dataframe thead th {\n",
              "        text-align: right;\n",
              "    }\n",
              "</style>\n",
              "<table border=\"1\" class=\"dataframe\">\n",
              "  <thead>\n",
              "    <tr style=\"text-align: right;\">\n",
              "      <th></th>\n",
              "      <th>Arvore</th>\n",
              "      <th>Random forest</th>\n",
              "      <th>KNN</th>\n",
              "      <th>Logistica</th>\n",
              "      <th>SVM</th>\n",
              "    </tr>\n",
              "  </thead>\n",
              "  <tbody>\n",
              "    <tr>\n",
              "      <th>count</th>\n",
              "      <td>30.000000</td>\n",
              "      <td>30.000000</td>\n",
              "      <td>30.000000</td>\n",
              "      <td>30.000000</td>\n",
              "      <td>30.000000</td>\n",
              "    </tr>\n",
              "    <tr>\n",
              "      <th>mean</th>\n",
              "      <td>0.905426</td>\n",
              "      <td>0.934913</td>\n",
              "      <td>0.906922</td>\n",
              "      <td>0.816640</td>\n",
              "      <td>0.822347</td>\n",
              "    </tr>\n",
              "    <tr>\n",
              "      <th>std</th>\n",
              "      <td>0.003587</td>\n",
              "      <td>0.003646</td>\n",
              "      <td>0.002137</td>\n",
              "      <td>0.001508</td>\n",
              "      <td>0.001445</td>\n",
              "    </tr>\n",
              "    <tr>\n",
              "      <th>min</th>\n",
              "      <td>0.898697</td>\n",
              "      <td>0.928342</td>\n",
              "      <td>0.901949</td>\n",
              "      <td>0.813284</td>\n",
              "      <td>0.818385</td>\n",
              "    </tr>\n",
              "    <tr>\n",
              "      <th>25%</th>\n",
              "      <td>0.903134</td>\n",
              "      <td>0.931715</td>\n",
              "      <td>0.905579</td>\n",
              "      <td>0.815842</td>\n",
              "      <td>0.821626</td>\n",
              "    </tr>\n",
              "    <tr>\n",
              "      <th>50%</th>\n",
              "      <td>0.905388</td>\n",
              "      <td>0.935235</td>\n",
              "      <td>0.906851</td>\n",
              "      <td>0.816549</td>\n",
              "      <td>0.822693</td>\n",
              "    </tr>\n",
              "    <tr>\n",
              "      <th>75%</th>\n",
              "      <td>0.907029</td>\n",
              "      <td>0.937681</td>\n",
              "      <td>0.908466</td>\n",
              "      <td>0.817558</td>\n",
              "      <td>0.823100</td>\n",
              "    </tr>\n",
              "    <tr>\n",
              "      <th>max</th>\n",
              "      <td>0.915339</td>\n",
              "      <td>0.941405</td>\n",
              "      <td>0.911376</td>\n",
              "      <td>0.820198</td>\n",
              "      <td>0.824519</td>\n",
              "    </tr>\n",
              "  </tbody>\n",
              "</table>\n",
              "</div>\n",
              "      <button class=\"colab-df-convert\" onclick=\"convertToInteractive('df-c559b082-ed48-48c2-a378-4049f6b0588c')\"\n",
              "              title=\"Convert this dataframe to an interactive table.\"\n",
              "              style=\"display:none;\">\n",
              "        \n",
              "  <svg xmlns=\"http://www.w3.org/2000/svg\" height=\"24px\"viewBox=\"0 0 24 24\"\n",
              "       width=\"24px\">\n",
              "    <path d=\"M0 0h24v24H0V0z\" fill=\"none\"/>\n",
              "    <path d=\"M18.56 5.44l.94 2.06.94-2.06 2.06-.94-2.06-.94-.94-2.06-.94 2.06-2.06.94zm-11 1L8.5 8.5l.94-2.06 2.06-.94-2.06-.94L8.5 2.5l-.94 2.06-2.06.94zm10 10l.94 2.06.94-2.06 2.06-.94-2.06-.94-.94-2.06-.94 2.06-2.06.94z\"/><path d=\"M17.41 7.96l-1.37-1.37c-.4-.4-.92-.59-1.43-.59-.52 0-1.04.2-1.43.59L10.3 9.45l-7.72 7.72c-.78.78-.78 2.05 0 2.83L4 21.41c.39.39.9.59 1.41.59.51 0 1.02-.2 1.41-.59l7.78-7.78 2.81-2.81c.8-.78.8-2.07 0-2.86zM5.41 20L4 18.59l7.72-7.72 1.47 1.35L5.41 20z\"/>\n",
              "  </svg>\n",
              "      </button>\n",
              "      \n",
              "  <style>\n",
              "    .colab-df-container {\n",
              "      display:flex;\n",
              "      flex-wrap:wrap;\n",
              "      gap: 12px;\n",
              "    }\n",
              "\n",
              "    .colab-df-convert {\n",
              "      background-color: #E8F0FE;\n",
              "      border: none;\n",
              "      border-radius: 50%;\n",
              "      cursor: pointer;\n",
              "      display: none;\n",
              "      fill: #1967D2;\n",
              "      height: 32px;\n",
              "      padding: 0 0 0 0;\n",
              "      width: 32px;\n",
              "    }\n",
              "\n",
              "    .colab-df-convert:hover {\n",
              "      background-color: #E2EBFA;\n",
              "      box-shadow: 0px 1px 2px rgba(60, 64, 67, 0.3), 0px 1px 3px 1px rgba(60, 64, 67, 0.15);\n",
              "      fill: #174EA6;\n",
              "    }\n",
              "\n",
              "    [theme=dark] .colab-df-convert {\n",
              "      background-color: #3B4455;\n",
              "      fill: #D2E3FC;\n",
              "    }\n",
              "\n",
              "    [theme=dark] .colab-df-convert:hover {\n",
              "      background-color: #434B5C;\n",
              "      box-shadow: 0px 1px 3px 1px rgba(0, 0, 0, 0.15);\n",
              "      filter: drop-shadow(0px 1px 2px rgba(0, 0, 0, 0.3));\n",
              "      fill: #FFFFFF;\n",
              "    }\n",
              "  </style>\n",
              "\n",
              "      <script>\n",
              "        const buttonEl =\n",
              "          document.querySelector('#df-c559b082-ed48-48c2-a378-4049f6b0588c button.colab-df-convert');\n",
              "        buttonEl.style.display =\n",
              "          google.colab.kernel.accessAllowed ? 'block' : 'none';\n",
              "\n",
              "        async function convertToInteractive(key) {\n",
              "          const element = document.querySelector('#df-c559b082-ed48-48c2-a378-4049f6b0588c');\n",
              "          const dataTable =\n",
              "            await google.colab.kernel.invokeFunction('convertToInteractive',\n",
              "                                                     [key], {});\n",
              "          if (!dataTable) return;\n",
              "\n",
              "          const docLinkHtml = 'Like what you see? Visit the ' +\n",
              "            '<a target=\"_blank\" href=https://colab.research.google.com/notebooks/data_table.ipynb>data table notebook</a>'\n",
              "            + ' to learn more about interactive tables.';\n",
              "          element.innerHTML = '';\n",
              "          dataTable['output_type'] = 'display_data';\n",
              "          await google.colab.output.renderOutput(dataTable, element);\n",
              "          const docLink = document.createElement('div');\n",
              "          docLink.innerHTML = docLinkHtml;\n",
              "          element.appendChild(docLink);\n",
              "        }\n",
              "      </script>\n",
              "    </div>\n",
              "  </div>\n",
              "  "
            ],
            "text/plain": [
              "          Arvore  Random forest        KNN  Logistica        SVM\n",
              "count  30.000000      30.000000  30.000000  30.000000  30.000000\n",
              "mean    0.905426       0.934913   0.906922   0.816640   0.822347\n",
              "std     0.003587       0.003646   0.002137   0.001508   0.001445\n",
              "min     0.898697       0.928342   0.901949   0.813284   0.818385\n",
              "25%     0.903134       0.931715   0.905579   0.815842   0.821626\n",
              "50%     0.905388       0.935235   0.906851   0.816549   0.822693\n",
              "75%     0.907029       0.937681   0.908466   0.817558   0.823100\n",
              "max     0.915339       0.941405   0.911376   0.820198   0.824519"
            ]
          },
          "metadata": {},
          "execution_count": 92
        }
      ]
    },
    {
      "cell_type": "markdown",
      "source": [
        "##Teste de Normalidade"
      ],
      "metadata": {
        "id": "2x3oYFOTV0wT"
      }
    },
    {
      "cell_type": "code",
      "source": [
        "from scipy.stats import shapiro\n",
        "\n",
        "alpha = 0.05\n",
        "shapiro(resultados_arvore), shapiro(resultados_random_forest), shapiro(resultados_knn), shapiro(resultados_logistica), shapiro(resultados_svm)\n"
      ],
      "metadata": {
        "colab": {
          "base_uri": "https://localhost:8080/"
        },
        "id": "_zRFSqk8V0bb",
        "outputId": "6438d3b7-77b9-4772-f367-65df476717f4"
      },
      "execution_count": 93,
      "outputs": [
        {
          "output_type": "execute_result",
          "data": {
            "text/plain": [
              "((0.9660348296165466, 0.4370996057987213),\n",
              " (0.9678364992141724, 0.48180222511291504),\n",
              " (0.9876880645751953, 0.9738052487373352),\n",
              " (0.9660788774490356, 0.43815717101097107),\n",
              " (0.9380630850791931, 0.08067148923873901))"
            ]
          },
          "metadata": {},
          "execution_count": 93
        }
      ]
    },
    {
      "cell_type": "markdown",
      "source": [
        "## Teste de hipótese com ANOVA e Tukey"
      ],
      "metadata": {
        "id": "43YwZuhpWt4k"
      }
    },
    {
      "cell_type": "code",
      "source": [
        "from scipy.stats import f_oneway"
      ],
      "metadata": {
        "id": "1IaXNFVHXB0R"
      },
      "execution_count": 94,
      "outputs": []
    },
    {
      "cell_type": "code",
      "source": [
        "_, p = f_oneway(resultados_arvore, resultados_random_forest, resultados_knn, resultados_logistica, resultados_svm)\n",
        "p"
      ],
      "metadata": {
        "colab": {
          "base_uri": "https://localhost:8080/"
        },
        "id": "QRSQrOqcW9nS",
        "outputId": "0c563046-2e8a-4452-e2c2-0f8f07a315ca"
      },
      "execution_count": 95,
      "outputs": [
        {
          "output_type": "execute_result",
          "data": {
            "text/plain": [
              "6.704605453331077e-183"
            ]
          },
          "metadata": {},
          "execution_count": 95
        }
      ]
    },
    {
      "cell_type": "code",
      "source": [
        "alpha = 0.05\n",
        "if p <= alpha:\n",
        "  print('Hipótese nula rejeitada. Dados são diferentes')\n",
        "else:\n",
        "  print('Hipótese alternativa rejeitada. Resultados são iguais')"
      ],
      "metadata": {
        "colab": {
          "base_uri": "https://localhost:8080/"
        },
        "id": "WTX2pbPUXMQr",
        "outputId": "a94cdc7d-2e30-4d54-e870-0677176c066e"
      },
      "execution_count": 96,
      "outputs": [
        {
          "output_type": "stream",
          "name": "stdout",
          "text": [
            "Hipótese nula rejeitada. Dados são diferentes\n"
          ]
        }
      ]
    },
    {
      "cell_type": "code",
      "metadata": {
        "id": "bI4nlQWN77JI"
      },
      "source": [
        "resultados_algoritmos = {'accuracy': np.concatenate([resultados_arvore, resultados_random_forest, resultados_knn, resultados_logistica, resultados_svm]),\n",
        "                         'algoritmo': ['arvore','arvore','arvore','arvore','arvore','arvore','arvore','arvore','arvore','arvore','arvore','arvore','arvore','arvore','arvore','arvore','arvore','arvore','arvore','arvore','arvore','arvore','arvore','arvore','arvore','arvore','arvore','arvore','arvore','arvore', \n",
        "                          'random_forest','random_forest','random_forest','random_forest','random_forest','random_forest','random_forest','random_forest','random_forest','random_forest','random_forest','random_forest','random_forest','random_forest','random_forest','random_forest','random_forest','random_forest','random_forest','random_forest','random_forest','random_forest','random_forest','random_forest','random_forest','random_forest','random_forest','random_forest','random_forest','random_forest', \n",
        "                          'knn','knn','knn','knn','knn','knn','knn','knn','knn','knn','knn','knn','knn','knn','knn','knn','knn','knn','knn','knn','knn','knn','knn','knn','knn','knn','knn','knn','knn','knn', \n",
        "                          'logistica','logistica','logistica','logistica','logistica','logistica','logistica','logistica','logistica','logistica','logistica','logistica','logistica','logistica','logistica','logistica','logistica','logistica','logistica','logistica','logistica','logistica','logistica','logistica','logistica','logistica','logistica','logistica','logistica','logistica',\n",
        "                          'svm','svm','svm','svm','svm','svm','svm','svm','svm','svm','svm','svm','svm','svm','svm','svm','svm','svm','svm','svm','svm','svm','svm','svm','svm','svm','svm','svm','svm','svm']}"
      ],
      "execution_count": 97,
      "outputs": []
    },
    {
      "cell_type": "code",
      "source": [
        "resultados_df = pd.DataFrame(resultados_algoritmos)"
      ],
      "metadata": {
        "id": "Px8FxOjFVSiJ"
      },
      "execution_count": 98,
      "outputs": []
    },
    {
      "cell_type": "code",
      "source": [
        "from statsmodels.stats.multicomp import MultiComparison\n",
        "\n",
        "compara_algoritmos = MultiComparison(resultados_df['accuracy'], resultados_df['algoritmo'])\n",
        "teste_estatistico = compara_algoritmos.tukeyhsd()\n",
        "print(teste_estatistico)"
      ],
      "metadata": {
        "colab": {
          "base_uri": "https://localhost:8080/"
        },
        "id": "VLwhzVbRUwkI",
        "outputId": "02dd149b-b0eb-468f-e0f6-144716bb7a3e"
      },
      "execution_count": 99,
      "outputs": [
        {
          "output_type": "stream",
          "name": "stdout",
          "text": [
            "       Multiple Comparison of Means - Tukey HSD, FWER=0.05        \n",
            "==================================================================\n",
            "    group1        group2    meandiff p-adj   lower   upper  reject\n",
            "------------------------------------------------------------------\n",
            "       arvore           knn   0.0015 0.1905 -0.0004  0.0034  False\n",
            "       arvore     logistica  -0.0888  0.001 -0.0907 -0.0869   True\n",
            "       arvore random_forest   0.0295  0.001  0.0276  0.0314   True\n",
            "       arvore           svm  -0.0831  0.001  -0.085 -0.0812   True\n",
            "          knn     logistica  -0.0903  0.001 -0.0922 -0.0884   True\n",
            "          knn random_forest    0.028  0.001  0.0261  0.0299   True\n",
            "          knn           svm  -0.0846  0.001 -0.0865 -0.0827   True\n",
            "    logistica random_forest   0.1183  0.001  0.1164  0.1202   True\n",
            "    logistica           svm   0.0057  0.001  0.0038  0.0076   True\n",
            "random_forest           svm  -0.1126  0.001 -0.1145 -0.1107   True\n",
            "------------------------------------------------------------------\n"
          ]
        }
      ]
    },
    {
      "cell_type": "code",
      "source": [
        "resultados.describe()"
      ],
      "metadata": {
        "colab": {
          "base_uri": "https://localhost:8080/",
          "height": 300
        },
        "id": "zgy2_otpXy7c",
        "outputId": "2b04daa4-dbd2-4ee6-f1d0-dd226111cb04"
      },
      "execution_count": 103,
      "outputs": [
        {
          "output_type": "execute_result",
          "data": {
            "text/html": [
              "\n",
              "  <div id=\"df-54881b56-c2cf-4257-b7a0-300e238eb37e\">\n",
              "    <div class=\"colab-df-container\">\n",
              "      <div>\n",
              "<style scoped>\n",
              "    .dataframe tbody tr th:only-of-type {\n",
              "        vertical-align: middle;\n",
              "    }\n",
              "\n",
              "    .dataframe tbody tr th {\n",
              "        vertical-align: top;\n",
              "    }\n",
              "\n",
              "    .dataframe thead th {\n",
              "        text-align: right;\n",
              "    }\n",
              "</style>\n",
              "<table border=\"1\" class=\"dataframe\">\n",
              "  <thead>\n",
              "    <tr style=\"text-align: right;\">\n",
              "      <th></th>\n",
              "      <th>Arvore</th>\n",
              "      <th>Random forest</th>\n",
              "      <th>KNN</th>\n",
              "      <th>Logistica</th>\n",
              "      <th>SVM</th>\n",
              "    </tr>\n",
              "  </thead>\n",
              "  <tbody>\n",
              "    <tr>\n",
              "      <th>count</th>\n",
              "      <td>30.000000</td>\n",
              "      <td>30.000000</td>\n",
              "      <td>30.000000</td>\n",
              "      <td>30.000000</td>\n",
              "      <td>30.000000</td>\n",
              "    </tr>\n",
              "    <tr>\n",
              "      <th>mean</th>\n",
              "      <td>0.905426</td>\n",
              "      <td>0.934913</td>\n",
              "      <td>0.906922</td>\n",
              "      <td>0.816640</td>\n",
              "      <td>0.822347</td>\n",
              "    </tr>\n",
              "    <tr>\n",
              "      <th>std</th>\n",
              "      <td>0.003587</td>\n",
              "      <td>0.003646</td>\n",
              "      <td>0.002137</td>\n",
              "      <td>0.001508</td>\n",
              "      <td>0.001445</td>\n",
              "    </tr>\n",
              "    <tr>\n",
              "      <th>min</th>\n",
              "      <td>0.898697</td>\n",
              "      <td>0.928342</td>\n",
              "      <td>0.901949</td>\n",
              "      <td>0.813284</td>\n",
              "      <td>0.818385</td>\n",
              "    </tr>\n",
              "    <tr>\n",
              "      <th>25%</th>\n",
              "      <td>0.903134</td>\n",
              "      <td>0.931715</td>\n",
              "      <td>0.905579</td>\n",
              "      <td>0.815842</td>\n",
              "      <td>0.821626</td>\n",
              "    </tr>\n",
              "    <tr>\n",
              "      <th>50%</th>\n",
              "      <td>0.905388</td>\n",
              "      <td>0.935235</td>\n",
              "      <td>0.906851</td>\n",
              "      <td>0.816549</td>\n",
              "      <td>0.822693</td>\n",
              "    </tr>\n",
              "    <tr>\n",
              "      <th>75%</th>\n",
              "      <td>0.907029</td>\n",
              "      <td>0.937681</td>\n",
              "      <td>0.908466</td>\n",
              "      <td>0.817558</td>\n",
              "      <td>0.823100</td>\n",
              "    </tr>\n",
              "    <tr>\n",
              "      <th>max</th>\n",
              "      <td>0.915339</td>\n",
              "      <td>0.941405</td>\n",
              "      <td>0.911376</td>\n",
              "      <td>0.820198</td>\n",
              "      <td>0.824519</td>\n",
              "    </tr>\n",
              "  </tbody>\n",
              "</table>\n",
              "</div>\n",
              "      <button class=\"colab-df-convert\" onclick=\"convertToInteractive('df-54881b56-c2cf-4257-b7a0-300e238eb37e')\"\n",
              "              title=\"Convert this dataframe to an interactive table.\"\n",
              "              style=\"display:none;\">\n",
              "        \n",
              "  <svg xmlns=\"http://www.w3.org/2000/svg\" height=\"24px\"viewBox=\"0 0 24 24\"\n",
              "       width=\"24px\">\n",
              "    <path d=\"M0 0h24v24H0V0z\" fill=\"none\"/>\n",
              "    <path d=\"M18.56 5.44l.94 2.06.94-2.06 2.06-.94-2.06-.94-.94-2.06-.94 2.06-2.06.94zm-11 1L8.5 8.5l.94-2.06 2.06-.94-2.06-.94L8.5 2.5l-.94 2.06-2.06.94zm10 10l.94 2.06.94-2.06 2.06-.94-2.06-.94-.94-2.06-.94 2.06-2.06.94z\"/><path d=\"M17.41 7.96l-1.37-1.37c-.4-.4-.92-.59-1.43-.59-.52 0-1.04.2-1.43.59L10.3 9.45l-7.72 7.72c-.78.78-.78 2.05 0 2.83L4 21.41c.39.39.9.59 1.41.59.51 0 1.02-.2 1.41-.59l7.78-7.78 2.81-2.81c.8-.78.8-2.07 0-2.86zM5.41 20L4 18.59l7.72-7.72 1.47 1.35L5.41 20z\"/>\n",
              "  </svg>\n",
              "      </button>\n",
              "      \n",
              "  <style>\n",
              "    .colab-df-container {\n",
              "      display:flex;\n",
              "      flex-wrap:wrap;\n",
              "      gap: 12px;\n",
              "    }\n",
              "\n",
              "    .colab-df-convert {\n",
              "      background-color: #E8F0FE;\n",
              "      border: none;\n",
              "      border-radius: 50%;\n",
              "      cursor: pointer;\n",
              "      display: none;\n",
              "      fill: #1967D2;\n",
              "      height: 32px;\n",
              "      padding: 0 0 0 0;\n",
              "      width: 32px;\n",
              "    }\n",
              "\n",
              "    .colab-df-convert:hover {\n",
              "      background-color: #E2EBFA;\n",
              "      box-shadow: 0px 1px 2px rgba(60, 64, 67, 0.3), 0px 1px 3px 1px rgba(60, 64, 67, 0.15);\n",
              "      fill: #174EA6;\n",
              "    }\n",
              "\n",
              "    [theme=dark] .colab-df-convert {\n",
              "      background-color: #3B4455;\n",
              "      fill: #D2E3FC;\n",
              "    }\n",
              "\n",
              "    [theme=dark] .colab-df-convert:hover {\n",
              "      background-color: #434B5C;\n",
              "      box-shadow: 0px 1px 3px 1px rgba(0, 0, 0, 0.15);\n",
              "      filter: drop-shadow(0px 1px 2px rgba(0, 0, 0, 0.3));\n",
              "      fill: #FFFFFF;\n",
              "    }\n",
              "  </style>\n",
              "\n",
              "      <script>\n",
              "        const buttonEl =\n",
              "          document.querySelector('#df-54881b56-c2cf-4257-b7a0-300e238eb37e button.colab-df-convert');\n",
              "        buttonEl.style.display =\n",
              "          google.colab.kernel.accessAllowed ? 'block' : 'none';\n",
              "\n",
              "        async function convertToInteractive(key) {\n",
              "          const element = document.querySelector('#df-54881b56-c2cf-4257-b7a0-300e238eb37e');\n",
              "          const dataTable =\n",
              "            await google.colab.kernel.invokeFunction('convertToInteractive',\n",
              "                                                     [key], {});\n",
              "          if (!dataTable) return;\n",
              "\n",
              "          const docLinkHtml = 'Like what you see? Visit the ' +\n",
              "            '<a target=\"_blank\" href=https://colab.research.google.com/notebooks/data_table.ipynb>data table notebook</a>'\n",
              "            + ' to learn more about interactive tables.';\n",
              "          element.innerHTML = '';\n",
              "          dataTable['output_type'] = 'display_data';\n",
              "          await google.colab.output.renderOutput(dataTable, element);\n",
              "          const docLink = document.createElement('div');\n",
              "          docLink.innerHTML = docLinkHtml;\n",
              "          element.appendChild(docLink);\n",
              "        }\n",
              "      </script>\n",
              "    </div>\n",
              "  </div>\n",
              "  "
            ],
            "text/plain": [
              "          Arvore  Random forest        KNN  Logistica        SVM\n",
              "count  30.000000      30.000000  30.000000  30.000000  30.000000\n",
              "mean    0.905426       0.934913   0.906922   0.816640   0.822347\n",
              "std     0.003587       0.003646   0.002137   0.001508   0.001445\n",
              "min     0.898697       0.928342   0.901949   0.813284   0.818385\n",
              "25%     0.903134       0.931715   0.905579   0.815842   0.821626\n",
              "50%     0.905388       0.935235   0.906851   0.816549   0.822693\n",
              "75%     0.907029       0.937681   0.908466   0.817558   0.823100\n",
              "max     0.915339       0.941405   0.911376   0.820198   0.824519"
            ]
          },
          "metadata": {},
          "execution_count": 103
        }
      ]
    },
    {
      "cell_type": "code",
      "source": [
        "teste_estatistico.plot_simultaneous();"
      ],
      "metadata": {
        "colab": {
          "base_uri": "https://localhost:8080/",
          "height": 388
        },
        "id": "kPAwOnTXYNyy",
        "outputId": "89ce16ec-5bc7-431d-cd10-6f27cf4d669f"
      },
      "execution_count": 101,
      "outputs": [
        {
          "output_type": "display_data",
          "data": {
            "image/png": "[encoded data removed]",
            "text/plain": [
              "<Figure size 720x432 with 1 Axes>"
            ]
          },
          "metadata": {}
        }
      ]
    },
    {
      "cell_type": "markdown",
      "source": [
        "#Saving Classifier"
      ],
      "metadata": {
        "id": "AXhzwxfZYs3h"
      }
    },
    {
      "cell_type": "code",
      "source": [
        "random_forest = RandomForestClassifier(criterion='gini',min_samples_leaf = 1, min_samples_split = 2, n_estimators= 10)\n",
        "random_forest.fit(X_over,y_over)\n",
        "\n",
        "import pickle\n",
        "pickle.dump(random_forest, open('random_forest_finalizado.sav', 'wb'))"
      ],
      "metadata": {
        "id": "Zn-0O9JcYweA"
      },
      "execution_count": 106,
      "outputs": []
    }
  ]
}